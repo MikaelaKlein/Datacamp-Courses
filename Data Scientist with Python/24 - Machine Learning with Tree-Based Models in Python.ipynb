{
 "cells": [
  {
   "cell_type": "markdown",
   "metadata": {},
   "source": [
    "# Machine Learning with Tree-Based Models in Python\n",
    "\n",
    "## Chapter 1: Classification and Regression Trees\n",
    "\n",
    "### Decision-Tree for classification\n",
    "\n",
    "#### Course Overview\n",
    "* **Chap 1**: Classification and Regression Tree (CART)\n",
    "* **Chap 2**: The Bias-Variance Tradeoff\n",
    "* **Chap 3**: Bagging and Random Forests\n",
    "* **Chap 4**: Boosting\n",
    "* **Chap 5**: Model Tuning\n",
    "\n",
    "#### Classification-tree\n",
    "* Sequence of if-else questions about individual features\n",
    "* **Objective**: infer class labels\n",
    "* Able to capture non-linear relationships between features and labels\n",
    "* Don't require feature scaling (ex: Standardization, ...)"
   ]
  },
  {
   "cell_type": "code",
   "execution_count": null,
   "metadata": {},
   "outputs": [],
   "source": []
  }
 ],
 "metadata": {
  "kernelspec": {
   "display_name": "venv_python_toolkit",
   "language": "python",
   "name": "venv_python_toolkit"
  },
  "language_info": {
   "codemirror_mode": {
    "name": "ipython",
    "version": 3
   },
   "file_extension": ".py",
   "mimetype": "text/x-python",
   "name": "python",
   "nbconvert_exporter": "python",
   "pygments_lexer": "ipython3",
   "version": "3.6.0"
  }
 },
 "nbformat": 4,
 "nbformat_minor": 2
}

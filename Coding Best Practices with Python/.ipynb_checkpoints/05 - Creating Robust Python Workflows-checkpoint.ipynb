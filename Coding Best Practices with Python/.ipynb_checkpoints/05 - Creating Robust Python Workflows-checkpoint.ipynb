{
 "cells": [
  {
   "cell_type": "markdown",
   "metadata": {},
   "source": [
    "# Creating Robust Python Workflows\n",
    "\n",
    "## Chapter 1: Python Programming Principles\n",
    "\n",
    "### Don't repeat yourself\n",
    "\n",
    "#### The DRY principle\n",
    "* DRY (Don't Repeat Yourself)\n",
    "* WET (Waste Everyone's Time)"
   ]
  },
  {
   "cell_type": "code",
   "execution_count": null,
   "metadata": {},
   "outputs": [],
   "source": [
    "# Read in dataset info from text files\n",
    "with open('diabetes.txt', 'r') as file:\n",
    "    diabetes = file.read()\n",
    "    \n",
    "with open('boston.txt', 'r') as file:\n",
    "    boston = file.read()\n",
    "    \n",
    "with open('iris.txt', 'r') as file:\n",
    "    iris = file.read()"
   ]
  },
  {
   "cell_type": "markdown",
   "metadata": {},
   "source": [
    "#### Functions\n",
    "Turn the above into a function definition"
   ]
  },
  {
   "cell_type": "code",
   "execution_count": 1,
   "metadata": {},
   "outputs": [],
   "source": [
    "def read(filename):\n",
    "    with open(filename, 'r') as file:\n",
    "        return file.read()"
   ]
  },
  {
   "cell_type": "code",
   "execution_count": null,
   "metadata": {},
   "outputs": [],
   "source": [
    "# Use read() to read in diabetes.txt\n",
    "diabetes = read(\"diabetes.txt\")"
   ]
  },
  {
   "cell_type": "markdown",
   "metadata": {},
   "source": [
    "#### Repetitive function calls\n",
    "* Define a function\n",
    "* One `with` statements instead of three\n",
    "* Three repetitive function calls"
   ]
  },
  {
   "cell_type": "code",
   "execution_count": null,
   "metadata": {},
   "outputs": [],
   "source": [
    "# Use read() to read in text\n",
    "diabetes = read(\"diabetes.txt\")\n",
    "boston = read(\"boston.txt\")\n",
    "iris = read(\"iris.txt\")"
   ]
  },
  {
   "cell_type": "markdown",
   "metadata": {},
   "source": [
    "#### List comprehensions\n",
    "* Avoid writing out each function call\n",
    "* Use a list comprehension\n",
    "    * Similar to a `for` loop"
   ]
  },
  {
   "cell_type": "code",
   "execution_count": null,
   "metadata": {},
   "outputs": [],
   "source": [
    "# Create a list of filenames\n",
    "filenames = [\"diabetes.txt\",\n",
    "             \"boston.txt\",\n",
    "             \"iris.txt\"]\n",
    "\n",
    "# Read files with a list comprehension\n",
    "file_list = [read(f) for f in filenames]"
   ]
  },
  {
   "cell_type": "markdown",
   "metadata": {},
   "source": [
    "#### Multiple assignment\n",
    "* Use multiple assignment\n",
    "* Unpack the list comprehension\n",
    "* Into multiple variables\n",
    "* DRY code!"
   ]
  },
  {
   "cell_type": "code",
   "execution_count": null,
   "metadata": {},
   "outputs": [],
   "source": [
    "diabetes, boston, iris = [read(f) for f in filenames]"
   ]
  },
  {
   "cell_type": "markdown",
   "metadata": {},
   "source": [
    "#### Standard library\n",
    "* `read_text()` method\n",
    "* `Path` class\n",
    "    * Open and closes file automatically\n",
    "    * No need for `with` statements\n",
    "    * Not a build-in object\n",
    "    * Must be imported before use\n",
    "* `pathlib` module\n",
    "    * Standard library\n",
    "    * Included with Python"
   ]
  },
  {
   "cell_type": "code",
   "execution_count": null,
   "metadata": {},
   "outputs": [],
   "source": [
    "from pathlib import Path\n",
    "\n",
    "# Create a list of filenames\n",
    "filenames = [\"diabetes.txt\",\n",
    "             \"boston.txt\",\n",
    "             \"iris.txt\"]\n",
    "\n",
    "# Read files with a list comprehension\n",
    "diabetes, boston, iris  = [\n",
    "    Path(f).read_text()\n",
    "    for f in filenames\n",
    "]"
   ]
  },
  {
   "cell_type": "markdown",
   "metadata": {},
   "source": [
    "#### Generator expressions\n",
    "* To turn a list comprehension into a generator expression, replace square brackets `[]` with parentheses `()`\n",
    "* Generator expression product generators\n",
    "* Generators:\n",
    "    * Keep track of generated values\n",
    "    * Can run out of values"
   ]
  },
  {
   "cell_type": "code",
   "execution_count": null,
   "metadata": {},
   "outputs": [],
   "source": [
    "from pathlib import Path\n",
    "\n",
    "# Create a list of filenames\n",
    "filenames = [\"diabetes.txt\",\n",
    "             \"boston.txt\",\n",
    "             \"iris.txt\"]\n",
    "\n",
    "# Read files with a list comprehension\n",
    "diabetes, boston, iris  = (\n",
    "    Path(f).read_text()\n",
    "    for f in filenames\n",
    ")"
   ]
  },
  {
   "cell_type": "markdown",
   "metadata": {},
   "source": [
    "### Modularity\n",
    "\n",
    "#### What is modularity?\n",
    "* Independent, reusable objects\n",
    "* Each object only has one job\n",
    "* Separate code into modules and scripts\n",
    "\n",
    "Modules and scripts\n",
    "* Python code files\n",
    "* `.py` extensions\n",
    "\n",
    "#### Modules versus scripts\n",
    "\n",
    "Modules\n",
    "* Are imported\n",
    "* Provide tools\n",
    "* Define functions\n",
    "\n",
    "The `say` module"
   ]
  },
  {
   "cell_type": "code",
   "execution_count": 3,
   "metadata": {},
   "outputs": [],
   "source": [
    "def hello():\n",
    "    print(\"Hello World!\")"
   ]
  },
  {
   "cell_type": "markdown",
   "metadata": {},
   "source": [
    "Scripts\n",
    "* Are run\n",
    "* Perform actions\n",
    "* Call functions\n",
    "\n",
    "A script:"
   ]
  },
  {
   "cell_type": "code",
   "execution_count": null,
   "metadata": {},
   "outputs": [],
   "source": [
    "import say\n",
    "\n",
    "say.hello()"
   ]
  },
  {
   "cell_type": "markdown",
   "metadata": {},
   "source": [
    "#### Function definition and calls"
   ]
  },
  {
   "cell_type": "code",
   "execution_count": 4,
   "metadata": {},
   "outputs": [
    {
     "name": "stdout",
     "output_type": "stream",
     "text": [
      "Hello World!\n"
     ]
    }
   ],
   "source": [
    "def hello():\n",
    "    print(\"Hello World!\")\n",
    "    \n",
    "hello()"
   ]
  },
  {
   "cell_type": "code",
   "execution_count": null,
   "metadata": {},
   "outputs": [],
   "source": [
    "# If the function is called in the module above, this can cause duplication of output\n",
    "import say\n",
    "say.hello()"
   ]
  },
  {
   "cell_type": "markdown",
   "metadata": {},
   "source": [
    "#### Module-script hybrid\n",
    "* We can avoid this duplicated output by removing the function call in the module or by adding an \"if\" statement that will prevent the function from being called when the module is imported\n",
    "* Below is an example of a module-script hybrid, because it can be run as a script, or imported as a module"
   ]
  },
  {
   "cell_type": "code",
   "execution_count": null,
   "metadata": {},
   "outputs": [],
   "source": [
    "def hello():\n",
    "    print(\"Hello World!\")\n",
    "    \n",
    "if __name__ == '__main__':\n",
    "    hello()"
   ]
  },
  {
   "cell_type": "markdown",
   "metadata": {},
   "source": [
    "#### The __name__ variable\n",
    "* The surrounding double underscores are pronounced \"dunder\""
   ]
  },
  {
   "cell_type": "code",
   "execution_count": 6,
   "metadata": {},
   "outputs": [
    {
     "name": "stdout",
     "output_type": "stream",
     "text": [
      "__main__\n"
     ]
    }
   ],
   "source": [
    "def name():\n",
    "    print(__name__)\n",
    "    \n",
    "if __name__ == '__main__':\n",
    "    name()"
   ]
  },
  {
   "cell_type": "markdown",
   "metadata": {},
   "source": [
    "When run as a script:\n",
    "* `__name__` is `__main__`\n",
    "* the `if` statement code block is run"
   ]
  },
  {
   "cell_type": "code",
   "execution_count": null,
   "metadata": {},
   "outputs": [],
   "source": [
    "import say\n",
    "\n",
    "say.name() # this prints 'say'"
   ]
  },
  {
   "cell_type": "markdown",
   "metadata": {},
   "source": [
    "When imported as a module:\n",
    "* `__name__` is the module name\n",
    "* the `if` statement code block is skipped\n",
    "\n",
    "#### One function to rule them all\n",
    "* Many responsibilities: obtain matches, extract numbers, etc."
   ]
  },
  {
   "cell_type": "code",
   "execution_count": 8,
   "metadata": {},
   "outputs": [],
   "source": [
    "from pathlib import Path\n",
    "\n",
    "def do_everything(filename, match):\n",
    "    matches = (line for line in Path(filename).open() if match in line)\n",
    "    flat = (string for sublist in matches for string in sublist)\n",
    "    num_gen = (int(substring) for string in flat\n",
    "               for substring in string.split() is substring.isdigit())\n",
    "    return zip(num_gen, num_gen)"
   ]
  },
  {
   "cell_type": "markdown",
   "metadata": {},
   "source": [
    "#### One job per function\n",
    "\n",
    "We can split `do_everything()` into 4 independent, reusable functions"
   ]
  },
  {
   "cell_type": "code",
   "execution_count": 9,
   "metadata": {},
   "outputs": [],
   "source": [
    "def generate_matches(filename, match):\n",
    "    return (line for line in Path(filename).open() if match in line)\n",
    "\n",
    "def flatten(nested_list):\n",
    "    return (string for sublist in nested_list for string in sublist)\n",
    "\n",
    "def generate_numbers(string_source):\n",
    "    return (int(substrting) for string in string_source for substting in string.split if substring.isdigit())\n",
    "\n",
    "def pair(generator):\n",
    "    return zip(generator, generator)"
   ]
  },
  {
   "cell_type": "markdown",
   "metadata": {},
   "source": [
    "#### Iterators"
   ]
  },
  {
   "cell_type": "code",
   "execution_count": 10,
   "metadata": {},
   "outputs": [
    {
     "data": {
      "text/plain": [
       "[(1, 2), (3, 4)]"
      ]
     },
     "execution_count": 10,
     "metadata": {},
     "output_type": "execute_result"
    }
   ],
   "source": [
    "def pair(items):\n",
    "    iterator = iter(items)\n",
    "    return zip(iterator, iterator)\n",
    "\n",
    "pairs = list(pair([1, 2, 3, 4]))\n",
    "pairs"
   ]
  },
  {
   "cell_type": "markdown",
   "metadata": {},
   "source": [
    "`iter()`\n",
    "* turns its input (e.g. `list`)\n",
    "* into an iteragor (e.g.`list_iterator`)"
   ]
  },
  {
   "cell_type": "code",
   "execution_count": 12,
   "metadata": {},
   "outputs": [
    {
     "data": {
      "text/plain": [
       "list_iterator"
      ]
     },
     "execution_count": 12,
     "metadata": {},
     "output_type": "execute_result"
    }
   ],
   "source": [
    "type(iter([1, 2, 3, 4]))"
   ]
  },
  {
   "cell_type": "markdown",
   "metadata": {},
   "source": [
    "#### Generators are iterators\n",
    "\n",
    "`iter()` has no effect on generators:"
   ]
  },
  {
   "cell_type": "code",
   "execution_count": 13,
   "metadata": {},
   "outputs": [
    {
     "data": {
      "text/plain": [
       "generator"
      ]
     },
     "execution_count": 13,
     "metadata": {},
     "output_type": "execute_result"
    }
   ],
   "source": [
    "type(iter(x for x in [1, 2, 3, 4]))"
   ]
  },
  {
   "cell_type": "markdown",
   "metadata": {},
   "source": [
    "#### Adaptable functions\n",
    "\n",
    "* Modular functions\n",
    "    * Adaptable\n",
    "    * Reusable\n",
    "    * For example, `flatten()` can\n",
    "        * Recreate the original list\n",
    "        * From the `pairs` variable"
   ]
  },
  {
   "cell_type": "code",
   "execution_count": 14,
   "metadata": {},
   "outputs": [
    {
     "data": {
      "text/plain": [
       "[1, 2, 3, 4]"
      ]
     },
     "execution_count": 14,
     "metadata": {},
     "output_type": "execute_result"
    }
   ],
   "source": [
    "list(flatten(pairs))"
   ]
  },
  {
   "cell_type": "markdown",
   "metadata": {},
   "source": [
    "#### Example 1 from exercises"
   ]
  },
  {
   "cell_type": "code",
   "execution_count": null,
   "metadata": {},
   "outputs": [],
   "source": [
    "def obtain_words(string):\n",
    "    # Replace non-alphabetic characters with spaces\n",
    "    return \"\".join(char if char.isalpha() else \" \" for char in string).split()\n",
    "\n",
    "def filter_words(words, minimum_length=3):\n",
    "    # Remove words shorter than 3 characters\n",
    "    return [word for word in words if len(word) >= minimum_length]\n",
    "\n",
    "words = obtain_words(Path(\"diabetes.txt\").read_text().lower())\n",
    "filtered_words = filter_words(words)\n",
    "pprint(filtered_words)"
   ]
  },
  {
   "cell_type": "markdown",
   "metadata": {},
   "source": [
    "#### Example 2 from exercises"
   ]
  },
  {
   "cell_type": "code",
   "execution_count": 17,
   "metadata": {},
   "outputs": [],
   "source": [
    "filtered_words = ['diabetes',\n",
    " 'dataset',\n",
    " 'diabetes',\n",
    " 'dataset',\n",
    " 'baseline',\n",
    " 'variables',\n",
    " 'body',\n",
    " 'mass',\n",
    " 'index',\n",
    " 'average',\n",
    " 'blood',\n",
    " 'pressure',\n",
    " 'blood',\n",
    " 'serum',\n",
    " 'measurements',\n",
    " 'were',\n",
    " 'obtained',\n",
    " 'each',\n",
    " 'diabetes',\n",
    " 'patients',\n",
    " 'well',\n",
    " 'response',\n",
    " 'interest',\n",
    " 'quantitative',\n",
    " 'measure',\n",
    " 'disease',\n",
    " 'progression',\n",
    " 'year',\n",
    " 'after',\n",
    " 'baseline',\n",
    " 'data',\n",
    " 'characteristics',\n",
    " 'number',\n",
    " 'instances',\n",
    " 'number',\n",
    " 'attributes',\n",
    " 'first',\n",
    " 'columns',\n",
    " 'numeric',\n",
    " 'predictive',\n",
    " 'values',\n",
    " 'target',\n",
    " 'column',\n",
    " 'quantitative',\n",
    " 'measure',\n",
    " 'disease',\n",
    " 'progression',\n",
    " 'year',\n",
    " 'after',\n",
    " 'baseline',\n",
    " 'attribute',\n",
    " 'information',\n",
    " 'body',\n",
    " 'mass',\n",
    " 'index',\n",
    " 'average',\n",
    " 'blood',\n",
    " 'pressure',\n",
    " 'note',\n",
    " 'each',\n",
    " 'these',\n",
    " 'feature',\n",
    " 'variables',\n",
    " 'have',\n",
    " 'been',\n",
    " 'mean',\n",
    " 'centered',\n",
    " 'scaled',\n",
    " 'standard',\n",
    " 'deviation',\n",
    " 'times',\n",
    " 'samples',\n",
    " 'squares',\n",
    " 'each',\n",
    " 'column',\n",
    " 'totals',\n",
    " 'source',\n",
    " 'https',\n",
    " 'stat',\n",
    " 'ncsu',\n",
    " 'boos',\n",
    " 'select',\n",
    " 'diabetes',\n",
    " 'html',\n",
    " 'more',\n",
    " 'information',\n",
    " 'bradley',\n",
    " 'efron',\n",
    " 'trevor',\n",
    " 'hastie',\n",
    " 'iain',\n",
    " 'johnstone',\n",
    " 'robert',\n",
    " 'tibshirani',\n",
    " 'least',\n",
    " 'angle',\n",
    " 'regression',\n",
    " 'annals',\n",
    " 'statistics',\n",
    " 'with',\n",
    " 'discussion',\n",
    " 'https',\n",
    " 'stanford',\n",
    " 'hastie',\n",
    " 'papers',\n",
    " 'lars',\n",
    " 'leastangle']"
   ]
  },
  {
   "cell_type": "code",
   "execution_count": 21,
   "metadata": {},
   "outputs": [
    {
     "data": {
      "image/png": "[encoded data removed]",
      "text/plain": [
       "<Figure size 432x288 with 1 Axes>"
      ]
     },
     "metadata": {
      "needs_background": "light"
     },
     "output_type": "display_data"
    }
   ],
   "source": [
    "import pandas as pd\n",
    "import matplotlib.pyplot as plt\n",
    "\n",
    "def count_words(word_list):\n",
    "    # Count the words in the input list\n",
    "    return {word: word_list.count(word) for word in word_list}\n",
    "\n",
    "# Create the dictionary of words and word counts\n",
    "word_count_dictionary = count_words(filtered_words)\n",
    "\n",
    "(pd.DataFrame(word_count_dictionary.items())\n",
    " .sort_values(by=1, ascending=False)\n",
    " .head()\n",
    " .plot(x=0, kind=\"barh\", xticks=range(5), legend=False)\n",
    " .set_ylabel(\"\")\n",
    ")\n",
    "\n",
    "plt.show()"
   ]
  },
  {
   "cell_type": "markdown",
   "metadata": {},
   "source": [
    "### Abstraction\n",
    "\n",
    "#### Abstraction\n",
    "* Hide implementation details\n",
    "* Design user interfaces\n",
    "* Facilitate code use\n",
    "* Car example:\n",
    "    * Engine\n",
    "        * Combustion\n",
    "        * Electric\n",
    "        \n",
    "#### Classes\n",
    "* Templates for creating Python objects\n",
    "* Represent real-life objects\n",
    "* `Cat` class example:\n",
    "    * User interface:\n",
    "        * `feed()` and `rub()` methods\n",
    "    * Implementation details:\n",
    "        * Feline anatomy\n",
    "        \n",
    "#### Class definition"
   ]
  },
  {
   "cell_type": "code",
   "execution_count": 23,
   "metadata": {},
   "outputs": [],
   "source": [
    "from pathlib import Path\n",
    "\n",
    "class TextFile:\n",
    "    def __init__(self, file):\n",
    "        self.text = Path(file).read_text()"
   ]
  },
  {
   "cell_type": "markdown",
   "metadata": {},
   "source": [
    "* The `TextFile` class\n",
    "    * Represents any text file\n",
    "    * Creates `TextFile` instances\n",
    "        * Represent specific text files\n",
    "        \n",
    "#### Instantiation\n",
    "* `TextFile` creates instances\n",
    "    * By passing the `file` argument\n",
    "    * To the `__init__()` method"
   ]
  },
  {
   "cell_type": "code",
   "execution_count": null,
   "metadata": {},
   "outputs": [],
   "source": [
    "diabetes = TextFile('diabetes.txt')\n",
    "diabetes.text[:20]"
   ]
  },
  {
   "cell_type": "markdown",
   "metadata": {},
   "source": [
    "#### Instance attributes\n",
    "* Variables assigned to \"self\" by `__init__()` are called \"instance attributes\"\n",
    "* The one below creates two: `text` and `words"
   ]
  },
  {
   "cell_type": "code",
   "execution_count": 24,
   "metadata": {},
   "outputs": [],
   "source": [
    "from pathlib import Path\n",
    "\n",
    "class TextFile:\n",
    "    def __init__(self, file):\n",
    "        self.text = Path(file).read_text()\n",
    "        self.words = ''.join(c if c.isalpha() else ' ' for c in self.text).split()"
   ]
  },
  {
   "cell_type": "markdown",
   "metadata": {},
   "source": [
    "#### Instance methods"
   ]
  },
  {
   "cell_type": "code",
   "execution_count": null,
   "metadata": {},
   "outputs": [],
   "source": [
    "from pathlib import Path\n",
    "\n",
    "class TextFile:\n",
    "    def __init__(self, file):\n",
    "        self.text = Path(file).read_text()\n",
    "        self.words = ''.join(c if c.isalpha() else ' ' for c in self.text).split()\n",
    "        \n",
    "    def len_dict(self):\n",
    "        return {word: len(word) for word in self.words}"
   ]
  },
  {
   "cell_type": "markdown",
   "metadata": {},
   "source": [
    "#### Method chaining"
   ]
  },
  {
   "cell_type": "code",
   "execution_count": null,
   "metadata": {},
   "outputs": [],
   "source": [
    "(pd.DataFrame(diabetes.len_dict().items())\n",
    " .sort_values(by=1, ascending=False)\n",
    " .head(n=4)\n",
    ")"
   ]
  },
  {
   "cell_type": "markdown",
   "metadata": {},
   "source": [
    "* `DataFrame` instance methods"
   ]
  },
  {
   "cell_type": "code",
   "execution_count": 25,
   "metadata": {},
   "outputs": [],
   "source": [
    "def head(self, n=5):\n",
    "    return self.iloc[:n]"
   ]
  },
  {
   "cell_type": "markdown",
   "metadata": {},
   "source": [
    "* Accept `DataFrame` instances\n",
    "    * As their `self` argument\n",
    "* Return `DataFrame` instances\n",
    "    * By returning `self`"
   ]
  },
  {
   "cell_type": "markdown",
   "metadata": {},
   "source": [
    "#### Class attributes\n",
    "* Variable that are assigned inside classes, but outside `__init__()` are called class attributes"
   ]
  },
  {
   "cell_type": "code",
   "execution_count": 26,
   "metadata": {},
   "outputs": [
    {
     "data": {
      "text/plain": [
       "[]"
      ]
     },
     "execution_count": 26,
     "metadata": {},
     "output_type": "execute_result"
    }
   ],
   "source": [
    "class TextFile:\n",
    "    \n",
    "    instances = []\n",
    "    \n",
    "    def __init__(self, file):\n",
    "        self.text = Path(file).read_text()\n",
    "        self.__class__.instances.append(file)\n",
    "        \n",
    "TextFile.instances"
   ]
  },
  {
   "cell_type": "markdown",
   "metadata": {},
   "source": [
    "#### Class methods\n",
    "* `@classmethod` is a decorator\n",
    "* decorators change the behavior of the functions they decorate\n",
    "* Because of the `@classmethod` decorator, the first parameter in class method definition represents the class and not a class instance."
   ]
  },
  {
   "cell_type": "code",
   "execution_count": 29,
   "metadata": {},
   "outputs": [],
   "source": [
    "class TextFile:\n",
    "    \n",
    "    instances = []\n",
    "    \n",
    "    def __init__(self, file):\n",
    "        self.text = Path(file).read_text()\n",
    "        self.__class__.instances.append(file)\n",
    "        \n",
    "    @classmethod # this is a decorator\n",
    "    def instantiate(cls, filenames): # this will allow us to simultaneously create multiple instances\n",
    "        return(cls(filename) for filename in filenames)\n",
    "    \n",
    "        # could also have done it this way\n",
    "        # return map(cls, filenames)"
   ]
  },
  {
   "cell_type": "markdown",
   "metadata": {},
   "source": [
    "#### Instantiate"
   ]
  },
  {
   "cell_type": "code",
   "execution_count": null,
   "metadata": {},
   "outputs": [],
   "source": [
    "# one instance\n",
    "iris = TextFile('iris.txt')\n",
    "\n",
    "# multiple instances\n",
    "boston, diabetes = TextFile.instantiate(['boston.txt', 'diabetes.txt'])\n",
    "TextFile.instances"
   ]
  },
  {
   "cell_type": "markdown",
   "metadata": {},
   "source": [
    "## Chapter 2: Documentation and Tests\n",
    "\n",
    "### Type hints\n",
    "\n",
    "#### Dynamic typing\n",
    "* Python\n",
    "    * Infers types when running code\n",
    "        * Dynamic (duck) typing\n",
    "        * Generally easier, but can lead to problems"
   ]
  },
  {
   "cell_type": "code",
   "execution_count": 30,
   "metadata": {},
   "outputs": [],
   "source": [
    "# Example: purpose of this function is not clear\n",
    "def double(n):\n",
    "    return n * 2"
   ]
  },
  {
   "cell_type": "code",
   "execution_count": 31,
   "metadata": {},
   "outputs": [
    {
     "data": {
      "text/plain": [
       "4"
      ]
     },
     "execution_count": 31,
     "metadata": {},
     "output_type": "execute_result"
    }
   ],
   "source": [
    "double(2)"
   ]
  },
  {
   "cell_type": "code",
   "execution_count": 33,
   "metadata": {},
   "outputs": [
    {
     "data": {
      "text/plain": [
       "'22'"
      ]
     },
     "execution_count": 33,
     "metadata": {},
     "output_type": "execute_result"
    }
   ],
   "source": [
    "double('2')"
   ]
  },
  {
   "cell_type": "markdown",
   "metadata": {},
   "source": [
    "#### Type hints for arguments\n",
    "* To address the above ambiguity, you can accept type hints"
   ]
  },
  {
   "cell_type": "code",
   "execution_count": 36,
   "metadata": {},
   "outputs": [],
   "source": [
    "def double(n: int):\n",
    "    return n * 2"
   ]
  },
  {
   "cell_type": "code",
   "execution_count": 37,
   "metadata": {},
   "outputs": [
    {
     "data": {
      "text/plain": [
       "4"
      ]
     },
     "execution_count": 37,
     "metadata": {},
     "output_type": "execute_result"
    }
   ],
   "source": [
    "double(2)"
   ]
  },
  {
   "cell_type": "code",
   "execution_count": 38,
   "metadata": {},
   "outputs": [],
   "source": [
    "def double(n: str):\n",
    "    return n * 2"
   ]
  },
  {
   "cell_type": "code",
   "execution_count": 39,
   "metadata": {},
   "outputs": [
    {
     "data": {
      "text/plain": [
       "'22'"
      ]
     },
     "execution_count": 39,
     "metadata": {},
     "output_type": "execute_result"
    }
   ],
   "source": [
    "double('2')"
   ]
  },
  {
   "cell_type": "markdown",
   "metadata": {},
   "source": [
    "You can also specify the return type, which can help prevent bugs:"
   ]
  },
  {
   "cell_type": "code",
   "execution_count": 47,
   "metadata": {},
   "outputs": [],
   "source": [
    "def double(n: int) -> int:\n",
    "    return n * 2"
   ]
  },
  {
   "cell_type": "code",
   "execution_count": 42,
   "metadata": {},
   "outputs": [
    {
     "data": {
      "text/plain": [
       "4"
      ]
     },
     "execution_count": 42,
     "metadata": {},
     "output_type": "execute_result"
    }
   ],
   "source": [
    "double(2)"
   ]
  },
  {
   "cell_type": "code",
   "execution_count": 43,
   "metadata": {},
   "outputs": [],
   "source": [
    "def double(n: str) -> str:\n",
    "    return n * 2"
   ]
  },
  {
   "cell_type": "code",
   "execution_count": 48,
   "metadata": {},
   "outputs": [
    {
     "data": {
      "text/plain": [
       "'22'"
      ]
     },
     "execution_count": 48,
     "metadata": {},
     "output_type": "execute_result"
    }
   ],
   "source": [
    "double('2')"
   ]
  },
  {
   "cell_type": "markdown",
   "metadata": {},
   "source": [
    "#### Get type hint information"
   ]
  },
  {
   "cell_type": "code",
   "execution_count": 53,
   "metadata": {},
   "outputs": [
    {
     "name": "stdout",
     "output_type": "stream",
     "text": [
      "Help on function double in module __main__:\n",
      "\n",
      "double(n: int) -> int\n",
      "\n"
     ]
    }
   ],
   "source": [
    "help(double)"
   ]
  },
  {
   "cell_type": "markdown",
   "metadata": {},
   "source": [
    "#### Type checker setup\n",
    "\n",
    "Type checking tool setup:\n",
    "* `mypy` type checker\n",
    "* `pytest` testing framework\n",
    "* `pytest-mypy` pytest plugin\n",
    "\n",
    "You can install all this with one shell command:\n",
    "> `pip3 install pytest mypy pytest-mypy`"
   ]
  },
  {
   "cell_type": "markdown",
   "metadata": {},
   "source": [
    "* `pytest.ini` file with the following:\n",
    "\n",
    "> `[pytest]`\n",
    ">\n",
    "> `addopts = --doctest-modules --mypy --mypy-ignore-missing-imports`"
   ]
  },
  {
   "cell_type": "markdown",
   "metadata": {},
   "source": [
    "#### Mypy to the rescue!\n",
    "\n",
    "In terminal, run:\n",
    "> `pytest double.py`"
   ]
  },
  {
   "cell_type": "markdown",
   "metadata": {},
   "source": [
    "#### List"
   ]
  },
  {
   "cell_type": "code",
   "execution_count": 54,
   "metadata": {},
   "outputs": [
    {
     "data": {
      "text/plain": [
       "['cooked asaparagus', 'cooked beans', 'cooked corn']"
      ]
     },
     "execution_count": 54,
     "metadata": {},
     "output_type": "execute_result"
    }
   ],
   "source": [
    "from typing import List\n",
    "\n",
    "def cook_foods(raw_foods: List[str]) -> List[str]:\n",
    "    return [food.replace('raw', 'cooked') for food in raw_foods]\n",
    "\n",
    "cook_foods(['raw asaparagus', 'raw beans', 'raw corn'])"
   ]
  },
  {
   "cell_type": "code",
   "execution_count": 56,
   "metadata": {},
   "outputs": [
    {
     "data": {
      "text/plain": [
       "['r', 'a', 'w', ' ', 'c', 'o', 'r', 'n']"
      ]
     },
     "execution_count": 56,
     "metadata": {},
     "output_type": "execute_result"
    }
   ],
   "source": [
    "# not expected output\n",
    "cook_foods('raw corn')"
   ]
  },
  {
   "cell_type": "markdown",
   "metadata": {},
   "source": [
    "#### Optional\n",
    "* Optional class allows an argument to be none, in addition to another type\n",
    "* Optional is commonly used when the default value for an argument is None\n",
    "* Like in the example below, the function can return a string or None, depending on whether an input string was provided or not."
   ]
  },
  {
   "cell_type": "code",
   "execution_count": 61,
   "metadata": {},
   "outputs": [],
   "source": [
    "from typing import Optional\n",
    "\n",
    "def str_or_none(optional_string: Optional[str] = None) -> Optional[str]:\n",
    "    return optional_string"
   ]
  },
  {
   "cell_type": "code",
   "execution_count": 62,
   "metadata": {},
   "outputs": [
    {
     "data": {
      "text/plain": [
       "'hello'"
      ]
     },
     "execution_count": 62,
     "metadata": {},
     "output_type": "execute_result"
    }
   ],
   "source": [
    "str_or_none('hello')"
   ]
  },
  {
   "cell_type": "code",
   "execution_count": 63,
   "metadata": {},
   "outputs": [],
   "source": [
    "str_or_none(None)"
   ]
  },
  {
   "cell_type": "markdown",
   "metadata": {},
   "source": [
    "#### Example 1 from exercises"
   ]
  },
  {
   "cell_type": "code",
   "execution_count": 65,
   "metadata": {},
   "outputs": [
    {
     "name": "stdout",
     "output_type": "stream",
     "text": [
      "Help on class TextFile in module __main__:\n",
      "\n",
      "class TextFile(builtins.object)\n",
      " |  TextFile(name: str) -> None\n",
      " |  \n",
      " |  Methods defined here:\n",
      " |  \n",
      " |  __init__(self, name: str) -> None\n",
      " |      Initialize self.  See help(type(self)) for accurate signature.\n",
      " |  \n",
      " |  get_lines(self) -> List[str]\n",
      " |      # Type annotate TextFile\"s get_lines() method\n",
      " |  \n",
      " |  ----------------------------------------------------------------------\n",
      " |  Data descriptors defined here:\n",
      " |  \n",
      " |  __dict__\n",
      " |      dictionary for instance variables (if defined)\n",
      " |  \n",
      " |  __weakref__\n",
      " |      list of weak references to the object (if defined)\n",
      "\n"
     ]
    }
   ],
   "source": [
    "class TextFile:\n",
    "    \n",
    "    # Add type hints to TextFile\"s __init__() method\n",
    "    def __init__(self, name: str) -> None:\n",
    "        self.text = Path(name).read_text()\n",
    "\n",
    "    # Type annotate TextFile\"s get_lines() method\n",
    "    def get_lines(self) -> List[str]:\n",
    "        return self.text.split(\"\\n\")\n",
    "\n",
    "help(TextFile)"
   ]
  },
  {
   "cell_type": "markdown",
   "metadata": {},
   "source": [
    "#### Example 2 from exercises"
   ]
  },
  {
   "cell_type": "code",
   "execution_count": 66,
   "metadata": {},
   "outputs": [
    {
     "name": "stdout",
     "output_type": "stream",
     "text": [
      "Help on class MatchFinder in module __main__:\n",
      "\n",
      "class MatchFinder(builtins.object)\n",
      " |  MatchFinder(strings: List[str]) -> None\n",
      " |  \n",
      " |  Methods defined here:\n",
      " |  \n",
      " |  __init__(self, strings: List[str]) -> None\n",
      " |      Initialize self.  See help(type(self)) for accurate signature.\n",
      " |  \n",
      " |  get_matches(self, query: Union[str, NoneType] = None) -> List[str]\n",
      " |      # Type annotate get_matches()'s query argument\n",
      " |  \n",
      " |  ----------------------------------------------------------------------\n",
      " |  Data descriptors defined here:\n",
      " |  \n",
      " |  __dict__\n",
      " |      dictionary for instance variables (if defined)\n",
      " |  \n",
      " |  __weakref__\n",
      " |      list of weak references to the object (if defined)\n",
      "\n"
     ]
    }
   ],
   "source": [
    "class MatchFinder:\n",
    "    \n",
    "    # Add type hints to __init__()'s strings argument\n",
    "    def __init__(self, strings: List[str]) -> None:\n",
    "        self.strings = strings\n",
    "\n",
    "    # Type annotate get_matches()'s query argument\n",
    "    def get_matches(self, query: Optional[str] = None) -> List[str]:\n",
    "        return [s for s in self.strings if query in s] if query else self.strings\n",
    "\n",
    "help(MatchFinder)"
   ]
  },
  {
   "cell_type": "markdown",
   "metadata": {},
   "source": [
    "### Docstrings\n",
    "\n",
    "#### Docstrings\n",
    "* Triple quoted strings\n",
    "* Include documentation in objects"
   ]
  },
  {
   "cell_type": "code",
   "execution_count": 67,
   "metadata": {},
   "outputs": [],
   "source": [
    "def double(n: float) -> float:\n",
    "    \"\"\"Multiply a number by 2.\"\"\"\n",
    "    return n *2"
   ]
  },
  {
   "cell_type": "code",
   "execution_count": 68,
   "metadata": {},
   "outputs": [
    {
     "name": "stdout",
     "output_type": "stream",
     "text": [
      "Help on function double in module __main__:\n",
      "\n",
      "double(n: float) -> float\n",
      "    Multiply a number by 2.\n",
      "\n"
     ]
    }
   ],
   "source": [
    "help(double)"
   ]
  },
  {
   "cell_type": "markdown",
   "metadata": {},
   "source": [
    "#### Google docstring style"
   ]
  },
  {
   "cell_type": "code",
   "execution_count": null,
   "metadata": {},
   "outputs": [],
   "source": [
    "\"\"\"Google style.\n",
    "\n",
    "The Googld style tends to result in\n",
    "wider docstrings with fewer lines of code.\n",
    "\n",
    "Section 1:\n",
    "    Item 1: Item descriptions don't need line break.s\n",
    "\"\"\""
   ]
  },
  {
   "cell_type": "markdown",
   "metadata": {},
   "source": [
    "#### Numpy docstring style."
   ]
  },
  {
   "cell_type": "code",
   "execution_count": null,
   "metadata": {},
   "outputs": [],
   "source": [
    "\"\"\"Numpy style.\n",
    "\n",
    "The Numpy style teds to result in\n",
    "narrower docstrings with more lines of code.\n",
    "\n",
    "Section 1\n",
    "---------\n",
    "Item 1\n",
    "    Item descriptions are indented on a new line.\n",
    "\"\"\""
   ]
  },
  {
   "cell_type": "markdown",
   "metadata": {},
   "source": [
    "#### Docstring types\n",
    "* Locations determines the type:\n",
    "    * In definitions of:\n",
    "        * Functions\n",
    "        * Classes\n",
    "        * Methods\n",
    "    * At the top of `.py` files\n",
    "        * Modules\n",
    "        * Scripts"
   ]
  },
  {
   "cell_type": "code",
   "execution_count": 70,
   "metadata": {},
   "outputs": [],
   "source": [
    "\"\"\"MODULE DOCSTRING\"\"\"\n",
    "\n",
    "def double(n:float) -> float:\n",
    "    \"\"\"Multiply a number by 2.\"\"\"\n",
    "    return n * 2\n",
    "\n",
    "class DoubleN:\n",
    "    \"\"\"CLASS DOCSTRING\"\"\"\n",
    "    def __init__(self, n:float):\n",
    "        \"\"\"METHOD DOCSTRING\"\"\"\n",
    "        self.n_doubled = n * 2"
   ]
  },
  {
   "cell_type": "markdown",
   "metadata": {},
   "source": [
    "####  Package docstrings\n",
    "* `help()` output highlights:\n",
    "    * NAME\n",
    "    * DESCRIPTION (package docstring)\n",
    "    * FILE (path to `__init__.py`)"
   ]
  },
  {
   "cell_type": "code",
   "execution_count": 71,
   "metadata": {},
   "outputs": [
    {
     "name": "stdout",
     "output_type": "stream",
     "text": [
      "Help on package pandas:\n",
      "\n",
      "NAME\n",
      "    pandas\n",
      "\n",
      "DESCRIPTION\n",
      "    pandas - a powerful data analysis and manipulation library for Python\n",
      "    =====================================================================\n",
      "    \n",
      "    **pandas** is a Python package providing fast, flexible, and expressive data\n",
      "    structures designed to make working with \"relational\" or \"labeled\" data both\n",
      "    easy and intuitive. It aims to be the fundamental high-level building block for\n",
      "    doing practical, **real world** data analysis in Python. Additionally, it has\n",
      "    the broader goal of becoming **the most powerful and flexible open source data\n",
      "    analysis / manipulation tool available in any language**. It is already well on\n",
      "    its way toward this goal.\n",
      "    \n",
      "    Main Features\n",
      "    -------------\n",
      "    Here are just a few of the things that pandas does well:\n",
      "    \n",
      "      - Easy handling of missing data in floating point as well as non-floating\n",
      "        point data.\n",
      "      - Size mutability: columns can be inserted and deleted from DataFrame and\n",
      "        higher dimensional objects\n",
      "      - Automatic and explicit data alignment: objects can be explicitly aligned\n",
      "        to a set of labels, or the user can simply ignore the labels and let\n",
      "        `Series`, `DataFrame`, etc. automatically align the data for you in\n",
      "        computations.\n",
      "      - Powerful, flexible group by functionality to perform split-apply-combine\n",
      "        operations on data sets, for both aggregating and transforming data.\n",
      "      - Make it easy to convert ragged, differently-indexed data in other Python\n",
      "        and NumPy data structures into DataFrame objects.\n",
      "      - Intelligent label-based slicing, fancy indexing, and subsetting of large\n",
      "        data sets.\n",
      "      - Intuitive merging and joining data sets.\n",
      "      - Flexible reshaping and pivoting of data sets.\n",
      "      - Hierarchical labeling of axes (possible to have multiple labels per tick).\n",
      "      - Robust IO tools for loading data from flat files (CSV and delimited),\n",
      "        Excel files, databases, and saving/loading data from the ultrafast HDF5\n",
      "        format.\n",
      "      - Time series-specific functionality: date range generation and frequency\n",
      "        conversion, moving window statistics, date shifting and lagging.\n",
      "\n",
      "PACKAGE CONTENTS\n",
      "    _config (package)\n",
      "    _libs (package)\n",
      "    _testing\n",
      "    _typing\n",
      "    _version\n",
      "    api (package)\n",
      "    arrays (package)\n",
      "    compat (package)\n",
      "    conftest\n",
      "    core (package)\n",
      "    errors (package)\n",
      "    io (package)\n",
      "    plotting (package)\n",
      "    testing\n",
      "    tests (package)\n",
      "    tseries (package)\n",
      "    util (package)\n",
      "\n",
      "SUBMODULES\n",
      "    _hashtable\n",
      "    _lib\n",
      "    _tslib\n",
      "    offsets\n",
      "\n",
      "FUNCTIONS\n",
      "    __getattr__(name)\n",
      "\n",
      "DATA\n",
      "    IndexSlice = <pandas.core.indexing._IndexSlice object>\n",
      "    NA = <NA>\n",
      "    NaT = NaT\n",
      "    __docformat__ = 'restructuredtext'\n",
      "    __git_version__ = '1ce1c3c1ef9894bf1ba79805f37514291f52a9da'\n",
      "    describe_option = <pandas._config.config.CallableDynamicDoc object>\n",
      "    get_option = <pandas._config.config.CallableDynamicDoc object>\n",
      "    options = <pandas._config.config.DictWrapper object>\n",
      "    reset_option = <pandas._config.config.CallableDynamicDoc object>\n",
      "    set_option = <pandas._config.config.CallableDynamicDoc object>\n",
      "\n",
      "VERSION\n",
      "    1.0.4\n",
      "\n",
      "FILE\n",
      "    /usr/local/lib/python3.7/site-packages/pandas/__init__.py\n",
      "\n",
      "\n"
     ]
    }
   ],
   "source": [
    "import pandas\n",
    "help(pandas)"
   ]
  },
  {
   "cell_type": "markdown",
   "metadata": {},
   "source": [
    "####  Module docstrings"
   ]
  },
  {
   "cell_type": "code",
   "execution_count": 72,
   "metadata": {},
   "outputs": [
    {
     "name": "stdout",
     "output_type": "stream",
     "text": [
      "Help on module double:\n",
      "\n",
      "NAME\n",
      "    double\n",
      "\n",
      "FUNCTIONS\n",
      "    double(n: int) -> int\n",
      "\n",
      "FILE\n",
      "    /Users/mikaelaklein/Datacamp-Courses/Coding Best Practices with Python/double.py\n",
      "\n",
      "\n"
     ]
    }
   ],
   "source": [
    "import double\n",
    "help(double)"
   ]
  },
  {
   "cell_type": "markdown",
   "metadata": {},
   "source": [
    "#### Class docstrings"
   ]
  },
  {
   "cell_type": "code",
   "execution_count": 74,
   "metadata": {},
   "outputs": [],
   "source": [
    "class DoubleN:\n",
    "    \"\"\"The summary of what the class does.\n",
    "    Arguments:\n",
    "        n: a float that will be doubled.\n",
    "    Attributes:\n",
    "        n_doubled: A float that is the result of doubling n.\n",
    "    \"\"\"\n",
    "    \n",
    "    def __init__(self, n: float) -> None:\n",
    "        self.n_doubled = n * 2"
   ]
  },
  {
   "cell_type": "markdown",
   "metadata": {},
   "source": [
    "#### Docstring examples"
   ]
  },
  {
   "cell_type": "code",
   "execution_count": 75,
   "metadata": {},
   "outputs": [],
   "source": [
    "def double(n: float) -> float:\n",
    "    \"\"\"Multiply a number by 2.\n",
    "    Arguments:\n",
    "        n: The number to be doubled.\n",
    "    Returns:\n",
    "        The value of n times 2.\n",
    "    Examples:\n",
    "        >>> double(2)\n",
    "        4.0\n",
    "    \"\"\"\n",
    "    return n * 2"
   ]
  },
  {
   "cell_type": "markdown",
   "metadata": {},
   "source": [
    "Mistake in the docstring example:"
   ]
  },
  {
   "cell_type": "code",
   "execution_count": 78,
   "metadata": {},
   "outputs": [
    {
     "data": {
      "text/plain": [
       "4"
      ]
     },
     "execution_count": 78,
     "metadata": {},
     "output_type": "execute_result"
    }
   ],
   "source": [
    "# Integers return integers\n",
    "2 * 2"
   ]
  },
  {
   "cell_type": "code",
   "execution_count": 79,
   "metadata": {},
   "outputs": [
    {
     "data": {
      "text/plain": [
       "4.0"
      ]
     },
     "execution_count": 79,
     "metadata": {},
     "output_type": "execute_result"
    }
   ],
   "source": [
    "# Make one of them a float so it returns a float\n",
    "2. * 2"
   ]
  },
  {
   "cell_type": "markdown",
   "metadata": {},
   "source": [
    "#### Test docstring examples\n",
    "\n",
    "* Docstring examples combine\n",
    "    * Documentation\n",
    "    * Tests (via `doctest`)\n",
    "    \n",
    "Again, run:\n",
    "> `pytest double.py`"
   ]
  },
  {
   "cell_type": "markdown",
   "metadata": {},
   "source": [
    "#### Module docstring examples"
   ]
  },
  {
   "cell_type": "code",
   "execution_count": 80,
   "metadata": {},
   "outputs": [],
   "source": [
    "\"\"\"Module docstring\n",
    "    Examples:\n",
    "        >>> dn = DoubleN(2)\n",
    "        >>> dn.n_doubled == double(2)\n",
    "        True\n",
    "\"\"\"\n",
    "\n",
    "def double(n: float) -> float:\n",
    "    return n * 2\n",
    "\n",
    "class DoubleN:\n",
    "    def __init__(self, n: float):\n",
    "        self.n_doubled = n * 2"
   ]
  },
  {
   "cell_type": "markdown",
   "metadata": {},
   "source": [
    "#### Example 1 from exercises"
   ]
  },
  {
   "cell_type": "code",
   "execution_count": 81,
   "metadata": {},
   "outputs": [
    {
     "name": "stdout",
     "output_type": "stream",
     "text": [
      "Help on function get_matches in module __main__:\n",
      "\n",
      "get_matches(word_list: List[str], query: str) -> List[str]\n",
      "    Find lines containing the query string.\n",
      "    Examples:\n",
      "            >>> get_matches(['a', 'list', 'of', 'words'], 's')\n",
      "            ['list', 'words']\n",
      "\n"
     ]
    }
   ],
   "source": [
    "def get_matches(word_list: List[str], query:str) -> List[str]:\n",
    "    (\"Find lines containing the query string.\\nExamples:\\n\\t\"\n",
    "     # Complete the docstring example below\n",
    "     \">>> get_matches(['a', 'list', 'of', 'words'], 's')\\n\\t\"\n",
    "     # Fill in the expected result of the function call\n",
    "     \"['list', 'words']\")\n",
    "    return [line for line in word_list if query in line]\n",
    "\n",
    "help(get_matches)"
   ]
  },
  {
   "cell_type": "markdown",
   "metadata": {},
   "source": [
    "#### Example 2 from exercisese"
   ]
  },
  {
   "cell_type": "code",
   "execution_count": 82,
   "metadata": {},
   "outputs": [
    {
     "name": "stdout",
     "output_type": "stream",
     "text": [
      "Help on function obtain_words in module __main__:\n",
      "\n",
      "obtain_words(string: str) -> List[str]\n",
      "    Get the top words in a word list.\n",
      "    Examples:\n",
      "            >>> from this import s\n",
      "            >>> from codecs import decode\n",
      "            >>> obtain_words(decode(s, encoding='rot13'))[:4]\n",
      "            ['The', 'Zen', 'of', 'Python']\n",
      "\n"
     ]
    }
   ],
   "source": [
    "def obtain_words(string: str) -> List[str]:\n",
    "    (\"Get the top words in a word list.\\nExamples:\\n\\t\"\n",
    "     \">>> from this import s\\n\\t>>> from codecs import decode\\n\\t\"\n",
    "     # Use obtain_words() in the docstring example below\n",
    "     \">>> obtain_words(decode(s, encoding='rot13'))[:4]\\n\\t\"\n",
    "     # Fill in the expected result of the function call\n",
    "     \"['The', 'Zen', 'of', 'Python']\") \n",
    "    return ''.join(char if char.isalpha() else ' ' for char in string).split()\n",
    "  \n",
    "help(obtain_words)"
   ]
  },
  {
   "cell_type": "markdown",
   "metadata": {},
   "source": [
    "### Reports\n",
    "\n",
    "#### Jupyter notebooks\n",
    "* Consist of cells\n",
    "    * Text (Markdown format)\n",
    "    * Code (Python, R, etc.)\n",
    "* Have ain `.ipynb` extension\n",
    "* Built on iPython\n",
    "* Have a structrure based on JSON\n",
    "    * JavaScript Object Notation\n",
    "    * Similar to a Python dictionary\n",
    "    \n",
    "#### Diff\n",
    "* View changes made to notebooks\n",
    "    * With the `diff` shell command\n",
    "    > `diff -c old.ipynb new.ipynb`\n",
    "    * With the `nbdime` `nbdiff` command\n",
    "    > `nbdiff old.ipynb new.ipynb`\n",
    "\n",
    "#### Notebook workflow package\n",
    "1. Use `nbformat` to create notebooks from:\n",
    "    * Markdown files (`.md`)\n",
    "    * Code files (`.py`)\n",
    "2. Use `nbconvert` to convert notebooks\n",
    "\n",
    "#### Code cells\n",
    "* Use `nbformat`'s `v4` module to create:\n",
    "* Notebook objects\n",
    "    * `new_notebook()\n",
    "* Code cell objects\n",
    "    * `new_code_cell()`\n",
    "* Code cell keys\n",
    "    * `execution_count\n",
    "    * `source`\n",
    "    * `outputs`"
   ]
  },
  {
   "cell_type": "code",
   "execution_count": 83,
   "metadata": {},
   "outputs": [
    {
     "data": {
      "text/plain": [
       "[{'cell_type': 'code',\n",
       "  'metadata': {},\n",
       "  'execution_count': None,\n",
       "  'source': '1+1',\n",
       "  'outputs': []}]"
      ]
     },
     "execution_count": 83,
     "metadata": {},
     "output_type": "execute_result"
    }
   ],
   "source": [
    "from nbformat.v4 import (new_notebook, new_code_cell)\n",
    "nb = new_notebook()\n",
    "nb.cells.append(new_code_cell('1+1'))\n",
    "nb.cells"
   ]
  },
  {
   "cell_type": "markdown",
   "metadata": {},
   "source": [
    "#### Unexecuted code cells\n",
    "* Square brackets (`[ ]:`) on the left\n",
    "    * Correspond to `execution_count` key-value pair\n",
    "    \n",
    "#### Executed code cells\n",
    "Running notebook code cells\n",
    "* Increments the\n",
    "    * Number in `[ ]:` (rendered)\n",
    "    * `execution_count` value\n",
    "* Produces output (e.g. a plot)\n",
    "    * Below the code cell'\n",
    "    * In the `outputs` list\n",
    "    \n",
    "#### Markdown cells\n",
    "* Use `nbformat`'s `v4` module to create:\n",
    "* Markdown cell objects\n",
    "    * `new_markdown_cell()`"
   ]
  },
  {
   "cell_type": "code",
   "execution_count": 85,
   "metadata": {},
   "outputs": [
    {
     "name": "stdout",
     "output_type": "stream",
     "text": [
      "2\n"
     ]
    },
    {
     "data": {
      "text/plain": [
       "{'cell_type': 'markdown', 'source': 'Hi', 'metadata': {}}"
      ]
     },
     "execution_count": 85,
     "metadata": {},
     "output_type": "execute_result"
    }
   ],
   "source": [
    "from nbformat.v4 import (\n",
    "    new_markdown_cell\n",
    ")\n",
    "\n",
    "nb.cells.append(new_markdown_cell('Hi'))\n",
    "print(len(nb.cells))\n",
    "nb.cells[1]"
   ]
  },
  {
   "cell_type": "code",
   "execution_count": 86,
   "metadata": {},
   "outputs": [],
   "source": [
    "import nbformat\n",
    "\n",
    "nbformat.write(nb, \"mynotebook.ipynb\")"
   ]
  },
  {
   "cell_type": "markdown",
   "metadata": {},
   "source": [
    "####  Nbconvert exporters\n",
    "* Convert notebooks\n",
    "    * Import and instantiate exporter"
   ]
  },
  {
   "cell_type": "code",
   "execution_count": 87,
   "metadata": {},
   "outputs": [],
   "source": [
    "from nbconvert.exporters import HTMLExporter\n",
    "html_exporter = HTMLExporter()"
   ]
  },
  {
   "cell_type": "markdown",
   "metadata": {},
   "source": [
    "* Obtain via `get_exporter()`"
   ]
  },
  {
   "cell_type": "code",
   "execution_count": 88,
   "metadata": {},
   "outputs": [],
   "source": [
    "from nbconvert.exporters import get_exporter\n",
    "html_exporter = get_exporter('html')()"
   ]
  },
  {
   "cell_type": "markdown",
   "metadata": {},
   "source": [
    "#### Export files\n",
    "* Create an HTML report from a Jupyter notebook:\n",
    "    * Pass a notebook filename to the exporter's `from_filename()` method"
   ]
  },
  {
   "cell_type": "code",
   "execution_count": 89,
   "metadata": {},
   "outputs": [],
   "source": [
    "contents = html_exporter.from_filename('mynotebook.ipynb')[0]"
   ]
  },
  {
   "cell_type": "markdown",
   "metadata": {},
   "source": [
    "* Save the `contents` of the converted file"
   ]
  },
  {
   "cell_type": "code",
   "execution_count": 90,
   "metadata": {},
   "outputs": [
    {
     "data": {
      "text/plain": [
       "271980"
      ]
     },
     "execution_count": 90,
     "metadata": {},
     "output_type": "execute_result"
    }
   ],
   "source": [
    "from pathlib import Path\n",
    "\n",
    "Path('myreport.html').write_text(contents)"
   ]
  },
  {
   "cell_type": "markdown",
   "metadata": {},
   "source": [
    "#### Example 1 from exercises"
   ]
  },
  {
   "cell_type": "code",
   "execution_count": null,
   "metadata": {},
   "outputs": [],
   "source": [
    "def nbuild(filenames: List[str]) -> nbformat.notebooknode.NotebookNode:\n",
    "    \"\"\"Create a Jupyter notebook from text files and Python scripts.\"\"\"\n",
    "    nb = new_notebook()\n",
    "    nb.cells = [\n",
    "        # Create new code cells from files that end in .py\n",
    "        new_code_cell(Path(name).read_text()) \n",
    "        if name.endswith(\".py\")\n",
    "        # Create new markdown cells from all other files\n",
    "        else new_markdown_cell(Path(name).read_text()) \n",
    "        for name in filenames\n",
    "    ]\n",
    "    return nb\n",
    "    \n",
    "pprint(nbuild([\"intro.md\", \"plot.py\", \"discussion.md\"]))"
   ]
  },
  {
   "cell_type": "markdown",
   "metadata": {},
   "source": [
    "#### Example 2 from exercises"
   ]
  },
  {
   "cell_type": "code",
   "execution_count": null,
   "metadata": {},
   "outputs": [],
   "source": [
    "def nbconv(nb_name: str, exporter: str = \"script\") -> str:\n",
    "    \"\"\"Convert a notebook into various formats using different exporters.\"\"\"\n",
    "    # Instantiate the specified exporter class\n",
    "    exp = get_exporter(exporter)()\n",
    "    # Return the converted file\"s contents string \n",
    "    return exp.from_filename(nb_name)[0]\n",
    "    \n",
    "pprint(nbconv(nb_name=\"mynotebook.ipynb\", exporter=\"html\"))"
   ]
  },
  {
   "cell_type": "markdown",
   "metadata": {},
   "source": [
    "### Pytest\n",
    "\n",
    "#### Pytest test\n",
    "* Are functions\n",
    "* Typically use `assert` statements\n",
    "* Can test\n",
    "    * Multiple values (`@parametrize`)\n",
    "    * For expected errors (`raises()`)"
   ]
  },
  {
   "cell_type": "code",
   "execution_count": 92,
   "metadata": {},
   "outputs": [],
   "source": [
    "import pytest\n",
    "\n",
    "def test_addition():\n",
    "    assert 1 + 2 == 3\n",
    "    \n",
    "@pytest.mark.parametrize('n', [0, 2, 4])\n",
    "def test_even(n):\n",
    "    assert n % 2 == 0\n",
    "    \n",
    "def test_assert():\n",
    "    with pytest.raises(AssertionError):\n",
    "        assert 1 + 2 == 4"
   ]
  },
  {
   "cell_type": "markdown",
   "metadata": {},
   "source": [
    "#### Test-driven development\n",
    "* Define a function\n",
    "    * With a docstring, but no code block"
   ]
  },
  {
   "cell_type": "code",
   "execution_count": 93,
   "metadata": {},
   "outputs": [],
   "source": [
    "def double(n: float) -> float:\n",
    "    \"\"\"Multipy a number by 2.\"\"\""
   ]
  },
  {
   "cell_type": "markdown",
   "metadata": {},
   "source": [
    "* Write a test"
   ]
  },
  {
   "cell_type": "code",
   "execution_count": 94,
   "metadata": {},
   "outputs": [],
   "source": [
    "from double import double\n",
    "\n",
    "def test_double():\n",
    "    assert double(2) == 4"
   ]
  },
  {
   "cell_type": "markdown",
   "metadata": {},
   "source": [
    "* Run the failing test\n",
    "> `pytest test_double.py`"
   ]
  },
  {
   "cell_type": "markdown",
   "metadata": {},
   "source": [
    "#### Run failing tests\n",
    "* After running the failing test, then work on the module until it passes.\n"
   ]
  },
  {
   "cell_type": "code",
   "execution_count": 95,
   "metadata": {},
   "outputs": [],
   "source": [
    "def double(n: float) -> float:\n",
    "    \"\"\"Multipy a number by 2.\"\"\"\n",
    "    return n * 2"
   ]
  },
  {
   "cell_type": "markdown",
   "metadata": {},
   "source": [
    "#### Test change"
   ]
  },
  {
   "cell_type": "code",
   "execution_count": 96,
   "metadata": {},
   "outputs": [],
   "source": [
    "import pytest\n",
    "from double import double\n",
    "\n",
    "def test_raises():\n",
    "    with pytest.raises(TypeError):\n",
    "        double('2')"
   ]
  },
  {
   "cell_type": "markdown",
   "metadata": {},
   "source": [
    "In terminal, run:\n",
    "> `pytest test_raises()`\n",
    "\n",
    "It fails right now because no error is raised when inputting a string."
   ]
  },
  {
   "cell_type": "markdown",
   "metadata": {},
   "source": [
    "#### Make change\n",
    "* Now it's time to edit your code to make the test pass."
   ]
  },
  {
   "cell_type": "code",
   "execution_count": 98,
   "metadata": {},
   "outputs": [],
   "source": [
    "# Option 1: raise a Type Error if it's not the correc type\n",
    "def double(n: float) -> float:\n",
    "    \"\"\"Multiply a number by 2.\"\"\"\n",
    "    if type(n) == float:\n",
    "        return n * 2\n",
    "    else:\n",
    "        raise TypeError"
   ]
  },
  {
   "cell_type": "code",
   "execution_count": 99,
   "metadata": {},
   "outputs": [],
   "source": [
    "# Option 2: Multiply by a float\n",
    "def double(n: float) -> float:\n",
    "    \"\"\"Multiply a number by 2.\"\"\"\n",
    "    return n * 2."
   ]
  },
  {
   "cell_type": "markdown",
   "metadata": {},
   "source": [
    "#### Example 1 from exercises"
   ]
  },
  {
   "cell_type": "code",
   "execution_count": null,
   "metadata": {},
   "outputs": [],
   "source": [
    "# Fill in the decorator for the test_nbuild() function \n",
    "@pytest.mark.parametrize(\"inputs\", [\"intro.md\", \"plot.py\", \"discussion.md\"])\n",
    "# Pass the argument set to the test_nbuild() function\n",
    "def test_nbuild(inputs):\n",
    "    assert nbuild([inputs]).cells[0].source == Path(inputs).read_text()\n",
    "\n",
    "show_test_output(test_nbuild)"
   ]
  },
  {
   "cell_type": "markdown",
   "metadata": {},
   "source": [
    "####  Example 2 from exercises"
   ]
  },
  {
   "cell_type": "code",
   "execution_count": null,
   "metadata": {},
   "outputs": [],
   "source": [
    "@pytest.mark.parametrize(\"not_exporters\", [\"htm\", \"ipython\", \"markup\"])\n",
    "# Pass the argument set to the test_nbconv() function\n",
    "def test_nbconv(not_exporters):\n",
    "     # Use pytest to confirm that a ValueError is raised\n",
    "    with pytest.raises(ValueError):\n",
    "        nbconv(nb_name=\"mynotebook.ipynb\", exporter=not_exporters)\n",
    "\n",
    "show_test_output(test_nbconv)"
   ]
  }
 ],
 "metadata": {
  "kernelspec": {
   "display_name": "Python 3",
   "language": "python",
   "name": "python3"
  },
  "language_info": {
   "codemirror_mode": {
    "name": "ipython",
    "version": 3
   },
   "file_extension": ".py",
   "mimetype": "text/x-python",
   "name": "python",
   "nbconvert_exporter": "python",
   "pygments_lexer": "ipython3",
   "version": "3.7.7"
  }
 },
 "nbformat": 4,
 "nbformat_minor": 2
}

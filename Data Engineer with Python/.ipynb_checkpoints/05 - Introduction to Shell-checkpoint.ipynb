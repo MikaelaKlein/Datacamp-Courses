{
 "cells": [
  {
   "cell_type": "markdown",
   "metadata": {},
   "source": [
    "# Introduction to Shell\n",
    "\n",
    "## Chapter 1: Manipulating files and directories"
   ]
  },
  {
   "cell_type": "code",
   "execution_count": null,
   "metadata": {},
   "outputs": [],
   "source": [
    "# Current directory\n",
    "! pwd"
   ]
  },
  {
   "cell_type": "code",
   "execution_count": null,
   "metadata": {},
   "outputs": [],
   "source": [
    "# List contents\n",
    "! ls"
   ]
  },
  {
   "cell_type": "code",
   "execution_count": null,
   "metadata": {},
   "outputs": [],
   "source": [
    "# Change directory\n",
    "! cd directory_name\n",
    "\n",
    "# Move home\n",
    "! cd ~\n",
    "\n",
    "# Move up a directory\n",
    "! cd .."
   ]
  },
  {
   "cell_type": "code",
   "execution_count": null,
   "metadata": {},
   "outputs": [],
   "source": [
    "# Copy files (overwrites file if already exists)\n",
    "! cp original.txt duplicate.txt\n",
    "\n",
    "# Copy multiple files in the backup folder\n",
    "! cp seasonal/autumn.csv seasonal/winter.csv backup"
   ]
  },
  {
   "cell_type": "code",
   "execution_count": null,
   "metadata": {},
   "outputs": [],
   "source": [
    "# Move files up a directory\n",
    "! mv autumn.csv winter.csv .."
   ]
  },
  {
   "cell_type": "code",
   "execution_count": null,
   "metadata": {},
   "outputs": [],
   "source": [
    "# Rename files using mv also\n",
    "! mv course.txt old-course.txt"
   ]
  },
  {
   "cell_type": "code",
   "execution_count": null,
   "metadata": {},
   "outputs": [],
   "source": [
    "# Remove files (removes both files here)\n",
    "! rm thesis.txt backup/thesis-2017-08.txt\n",
    "\n",
    "# Remove directories (only works if the directory is empty)\n",
    "! rmdir old_directory\n",
    "\n",
    "# Create directory\n",
    "! mkdir new_directory"
   ]
  },
  {
   "cell_type": "markdown",
   "metadata": {},
   "source": [
    "## Chapter 2: Manipulating Data"
   ]
  },
  {
   "cell_type": "code",
   "execution_count": null,
   "metadata": {},
   "outputs": [],
   "source": [
    "# View a file's contents\n",
    "! cat course.txt\n",
    "\n",
    "# View piece by piece\n",
    "! less seasonal/spring.csv seasonal/summer.csv\n",
    ":n # next file\n",
    ":q # quit\n",
    "    \n",
    "# View first 10 lines of a file\n",
    "! head seasonal/summer.csv\n",
    "\n",
    "# View the first 5 files of a file\n",
    "! head -n 5 seasonal/winter.csv"
   ]
  },
  {
   "cell_type": "code",
   "execution_count": null,
   "metadata": {},
   "outputs": [],
   "source": [
    "# List everything below a directory (-R means recursive)\n",
    "! ls -R"
   ]
  },
  {
   "cell_type": "code",
   "execution_count": null,
   "metadata": {},
   "outputs": [],
   "source": [
    "# -F flag makes it a little easier to read\n",
    "! ls -R -F "
   ]
  },
  {
   "cell_type": "code",
   "execution_count": null,
   "metadata": {},
   "outputs": [],
   "source": [
    "# get help\n",
    "! man head"
   ]
  },
  {
   "cell_type": "code",
   "execution_count": null,
   "metadata": {},
   "outputs": [],
   "source": [
    "# Show everything except the first 6 rows\n",
    "! tail -n +7 file_name"
   ]
  },
  {
   "cell_type": "code",
   "execution_count": null,
   "metadata": {},
   "outputs": [],
   "source": [
    "# Select columns of a file\n",
    "! cut -f 2-5,8 -d , values.csv"
   ]
  },
  {
   "cell_type": "code",
   "execution_count": null,
   "metadata": {},
   "outputs": [],
   "source": [
    "# See what you just ran\n",
    "! history"
   ]
  },
  {
   "cell_type": "markdown",
   "metadata": {},
   "source": [
    "### Grep:\n",
    "\n",
    "`head` and `tail` select rows, `cut` selects columns, and `grep` selects lines according to what they contain. In its simplest form, `grep` takes a piece of text followed by one or more filenames and prints all of the lines in those files that contain that text. For example, `grep bicuspid seasonal/winter.csv` prints lines from winter.csv that contain \"bicuspid\".\n",
    "\n",
    "`grep` can search for patterns as well; we will explore those in the next course. What's more important right now is some of grep's more common flags:\n",
    "\n",
    "* -c: print a count of matching lines rather than the lines themselves\n",
    "* -h: do not print the names of files when searching multiple files\n",
    "* -i: ignore case (e.g., treat \"Regression\" and \"regression\" as matches)\n",
    "* -l: print the names of files that contain matches, not the matches\n",
    "* -n: print line numbers for matching lines\n",
    "* -v: invert the match, i.e., only show lines that don't match"
   ]
  },
  {
   "cell_type": "code",
   "execution_count": null,
   "metadata": {},
   "outputs": [],
   "source": [
    "! grep bicuspid seasonal/winter.csv"
   ]
  },
  {
   "cell_type": "code",
   "execution_count": null,
   "metadata": {},
   "outputs": [],
   "source": [
    "# Combine files\n",
    "! paste -d , seasonal/autumn.csv seasonal/winter.csv"
   ]
  },
  {
   "cell_type": "markdown",
   "metadata": {},
   "source": [
    "## Chapter 3: Combining tools\n",
    "\n",
    "#### Storing outputs"
   ]
  },
  {
   "cell_type": "code",
   "execution_count": null,
   "metadata": {},
   "outputs": [],
   "source": [
    "# Store first 5 rows of summer.csv as top.csv\n",
    "! head -n 5 seasonal/summer.csv > top.csv"
   ]
  },
  {
   "cell_type": "markdown",
   "metadata": {},
   "source": [
    "#### Using commands output as input"
   ]
  },
  {
   "cell_type": "code",
   "execution_count": null,
   "metadata": {},
   "outputs": [],
   "source": [
    "# Get lines 3-5 from winter.csv\n",
    "! head -n 5 seasonal/winter.csv > top.csv\n",
    "! tail -n 3 top.csv\n",
    "\n",
    "# Use pipe command to do both at once\n",
    "! head -n 5 seasonal/summer.csv | tail -n 3\n",
    "\n",
    "# Find elements from column 2 that don't match to \"Tooth\n",
    "! cut -d , -f 2 seasonal/summer.csv | grep -v Tooth"
   ]
  },
  {
   "cell_type": "markdown",
   "metadata": {},
   "source": [
    "#### Counting records\n",
    "* Use the command `wc` (short for \"word count\") which prints the number of characters, words, and lines in a file.\n",
    "    * choose just one of them by using `-c`, `-w`, or `-l`"
   ]
  },
  {
   "cell_type": "code",
   "execution_count": null,
   "metadata": {},
   "outputs": [],
   "source": [
    "# count the number of lines where the date is 2017-07\n",
    "! grep 2017-07 seasonal/spring.csv | wc -l"
   ]
  },
  {
   "cell_type": "markdown",
   "metadata": {},
   "source": [
    "#### Specify Multiple Records at Once\n",
    "\n",
    "Wildcards:\n",
    "* `?` matches a single character, so `201?.txt` will match `2017.txt` or `2018.txt`, but not `2017-01.txt`.\n",
    "* `[...]` matches any one of the characters inside the square brackets, so `201[78].txt` matches `2017.txt or 2018.txt`, but not `2016.txt`.\n",
    "* `{...}` matches any of the comma-separated patterns inside the curly brackets, so `{*.txt, *.csv}` matches any file whose name ends with `.txt` or `.csv`, but not files whose names end with `.pdf`."
   ]
  },
  {
   "cell_type": "code",
   "execution_count": null,
   "metadata": {},
   "outputs": [],
   "source": [
    "# Get the first column from all of these files\n",
    "! cut -d , -f 1 seasonal/winter.csv seasonal/spring.csv seasonal/summer.csv seasonal/autumn.csv\n",
    "\n",
    "# Better to use a wildcard\n",
    "! cut -d , -f 1 seasonal/*.csv"
   ]
  },
  {
   "cell_type": "markdown",
   "metadata": {},
   "source": [
    "#### Sorting\n",
    "As its name suggests, `sort` puts data in order. By default it does this in ascending alphabetical order, but the flags `-n` and `-r` can be used to sort numerically and reverse the order of its output, while `-b` tells it to ignore leading blanks and `-f` tells it to fold case (i.e., be case-insensitive). Pipelines often use grep to get rid of unwanted records and then sort to put the remaining records in order."
   ]
  },
  {
   "cell_type": "code",
   "execution_count": null,
   "metadata": {},
   "outputs": [],
   "source": [
    "! cut -d , -f 2 seasonal/winter.csv | grep -v Tooth | sort -r"
   ]
  },
  {
   "cell_type": "markdown",
   "metadata": {},
   "source": [
    "#### Removing duplicates\n",
    "\n",
    "Another command that is often used with `sort` is `uniq`, whose job is to remove duplicated lines. More specifically, it removes *adjacent* duplicated lines. "
   ]
  },
  {
   "cell_type": "code",
   "execution_count": null,
   "metadata": {},
   "outputs": [],
   "source": [
    "! cut -d , -f 2 seasonal/winter.csv | grep -v Tooth | sort | uniq -c # -c for count"
   ]
  },
  {
   "cell_type": "markdown",
   "metadata": {},
   "source": [
    "#### Stop a program\n",
    "\n",
    "The commands and scripts that you have run so far have all executed quickly, but some tasks will take minutes, hours, or even days to complete. You may also mistakenly put redirection in the middle of a pipeline, causing it to hang up. If you decide that you don't want a program to keep running, you can type `Ctrl` + `C` to end it. This is often written `^C` in Unix documentation; note that the 'c' can be lower-case."
   ]
  },
  {
   "cell_type": "markdown",
   "metadata": {},
   "source": [
    "## Chapter 4: Batch Processing"
   ]
  },
  {
   "cell_type": "markdown",
   "metadata": {},
   "source": [
    "### How Shell stores information\n",
    "Like other programs, the shell stores information in variables. Some of these, called environment variables, are available all the time. Environment variables' names are conventionally written in upper case, and a few of the more commonly-used ones are shown below.\n",
    "\n",
    "Variable\t| Purpose\t                        | Value\n",
    "------------|-----------------------------------|----------\n",
    "`HOME`\t    |User's home directory\t            |`/home/repl`\n",
    "`PWD`       |Present working directory\t        |Same as `pwd` command\n",
    "`SHELL` \t|Which shell program is being used\t|`/bin/bash`\n",
    "`USER`\t    |User's ID\t                        |`repl`\n",
    "\n",
    "To get a complete list (which is quite long), you can type `set` in the shell."
   ]
  },
  {
   "cell_type": "markdown",
   "metadata": {},
   "source": [
    "#### Print variable's value\n",
    "* Use `echo`"
   ]
  },
  {
   "cell_type": "code",
   "execution_count": 8,
   "metadata": {},
   "outputs": [
    {
     "name": "stdout",
     "output_type": "stream",
     "text": [
      "hello DataCamp!\r\n"
     ]
    }
   ],
   "source": [
    "! echo hello DataCamp!"
   ]
  },
  {
   "cell_type": "code",
   "execution_count": 9,
   "metadata": {},
   "outputs": [
    {
     "name": "stdout",
     "output_type": "stream",
     "text": [
      "USER\r\n"
     ]
    }
   ],
   "source": [
    "! echo USER"
   ]
  },
  {
   "cell_type": "code",
   "execution_count": 10,
   "metadata": {},
   "outputs": [
    {
     "name": "stdout",
     "output_type": "stream",
     "text": [
      "MikaelaKlein\r\n"
     ]
    }
   ],
   "source": [
    "! echo $USER"
   ]
  },
  {
   "cell_type": "code",
   "execution_count": null,
   "metadata": {},
   "outputs": [],
   "source": [
    "# Create a shell variable (cannot have spaces around the =)\n",
    "! training=seasonal/summer.csv \n",
    "! echo $training"
   ]
  },
  {
   "cell_type": "markdown",
   "metadata": {},
   "source": [
    "#### Repeating Commands"
   ]
  },
  {
   "cell_type": "code",
   "execution_count": null,
   "metadata": {},
   "outputs": [],
   "source": [
    "! for filetype in gif jpg png; do echo $filetype; done"
   ]
  },
  {
   "cell_type": "markdown",
   "metadata": {},
   "source": [
    "Notice these things about the loop:\n",
    "\n",
    "1. The structure is `for` ...variable... `in` ...list... ; `do` ...body... `; done`\n",
    "2. The list of things the loop is to process (in our case, the words `gif`, `jpg`, and `png`).\n",
    "3. The variable that keeps track of which thing the loop is currently processing (in our case, `filetype`).\n",
    "4. The body of the loop that does the processing (in our case, `echo $filetype`).\n",
    "\n",
    "Notice that the body uses `$filetype` to get the variable's value instead of just `filetype`, just like it does with any other shell variable. Also notice where the semi-colons go: the first one comes between the list and the keyword `do`, and the second comes between the body and the keyword `done`."
   ]
  },
  {
   "cell_type": "code",
   "execution_count": null,
   "metadata": {},
   "outputs": [],
   "source": [
    "# for multiple files\n",
    "! for filename in seasonal/*.csv; do echo $filename; done"
   ]
  },
  {
   "cell_type": "code",
   "execution_count": null,
   "metadata": {},
   "outputs": [],
   "source": [
    "# record the names of a set of files\n",
    "! files=seasonal/*.csv\n",
    "! for f in $files; do echo $f; done"
   ]
  },
  {
   "cell_type": "code",
   "execution_count": null,
   "metadata": {},
   "outputs": [],
   "source": [
    "# run many commands in a single loop\n",
    "! for file in seasonal/*.csv; do head -n 2 $file | tail -n 1; done"
   ]
  },
  {
   "cell_type": "code",
   "execution_count": null,
   "metadata": {},
   "outputs": [],
   "source": [
    "# do many things in a single loop (separate them with semi-colons)\n",
    "for f in seasonal/*.csv; do echo $f; head -n 2 $f | tail -n 1; done"
   ]
  },
  {
   "cell_type": "markdown",
   "metadata": {},
   "source": [
    "## Chapter 5: Creating new tools\n",
    "\n",
    "#### Editing files\n",
    "Unix has a bewildering variety of text editors. For this course, we will use a simple one called Nano. If you type `nano filename`, it will open `filename` for editing (or create it if it doesn't already exist). You can move around with the arrow keys, delete characters using backspace, and do other operations with control-key combinations:\n",
    "\n",
    "* `Ctrl + K`: delete a line.\n",
    "* `Ctrl + U`: un-delete a line.\n",
    "* `Ctrl + O`: save the file ('O' stands for 'output'). You will also need to press Enter to confirm the filename!\n",
    "* `Ctrl + X`: exit the editor."
   ]
  },
  {
   "cell_type": "markdown",
   "metadata": {},
   "source": [
    "#### Recording Commands\n",
    "\n",
    "When you are doing a complex analysis, you will often want to keep a record of the commands you used. You can do this with the tools you have already seen:\n",
    "\n",
    "1. Run `history`.\n",
    "2. Pipe its output to `tail -n 10` (or however many recent steps you want to save).\n",
    "3. Redirect that to a file called something like `figure-5.history`.\n",
    "\n",
    "This is better than writing things down in a lab notebook because it is guaranteed not to miss any steps. It also illustrates the central idea of the shell: simple tools that produce and consume lines of text can be combined in a wide variety of ways to solve a broad range of problems."
   ]
  },
  {
   "cell_type": "code",
   "execution_count": null,
   "metadata": {},
   "outputs": [],
   "source": [
    "! cp seasonal/s* ~\n",
    "! grep -h -v Tooth spring.csv summer.csv > temp.csv\n",
    "! tail -n 3 history > steps.txt"
   ]
  },
  {
   "cell_type": "code",
   "execution_count": null,
   "metadata": {},
   "outputs": [],
   "source": [
    "# Create your own shell script\n",
    "! nano dates.sh\n",
    "# inside write cut -d , -f 1 seasonal/*.csv\n",
    "# then run \n",
    "! bash dates.sh"
   ]
  },
  {
   "cell_type": "markdown",
   "metadata": {},
   "source": [
    "#### Pass file names to scripts\n",
    "\n",
    "A script that processes specific files is useful as a record of what you did, but one that allows you to process any files you want is more useful. To support this, you can use the special expression `$@` (dollar sign immediately followed by at-sign) to mean \"all of the command-line parameters given to the script\".\n",
    "\n",
    "For example, if `unique-lines.sh` contains `sort $@ | uniq`, when you run:\n",
    "\n",
    "> `bash unique-lines.sh seasonal/summer.csv`\n",
    "\n",
    "the shell replaces $@ with seasonal/summer.csv and processes one file. If you run this:\n",
    "\n",
    "> `bash unique-lines.sh seasonal/summer.csv seasonal/autumn.csv`\n",
    "\n",
    "it processes two data files, and so on.\n",
    "\n",
    "As a reminder, to save what you have written in Nano, type `Ctrl + O` to write the file out, then Enter to confirm the filename, then `Ctrl + X` to exit the editor."
   ]
  },
  {
   "cell_type": "code",
   "execution_count": null,
   "metadata": {},
   "outputs": [],
   "source": [
    "! nano count-records.sh\n",
    "# inside:\n",
    "tail -q -n +2 $@ | wc -l\n",
    "# then:\n",
    "! bash count-records.sh seasonal/*.csv > num-records.out"
   ]
  },
  {
   "cell_type": "markdown",
   "metadata": {},
   "source": [
    "As well as `$@`, the shell lets you use `$1`, `$2`, and so on to refer to specific command-line parameters. You can use this to write commands that feel simpler or more natural than the shell's. For example, you can create a script called `column.sh` that selects a single column from a CSV file when the user provides the filename as the first parameter and the column as the second:\n",
    "\n",
    "> `cut -d , -f $2 $1`\n",
    "\n",
    "and then run it using:\n",
    "\n",
    "> `bash column.sh seasonal/autumn.csv 1`\n",
    "\n",
    "Notice how the script uses the two parameters in reverse order."
   ]
  },
  {
   "cell_type": "markdown",
   "metadata": {},
   "source": [
    "#### Loops\n",
    "\n",
    "Shell scripts can also contain loops. You can write them using semi-colons, or split them across lines without semi-colons to make them more readable:\n",
    "\n",
    "`# Print the first and last data records of each file.`\n",
    "\n",
    "`for filename in $@` \n",
    "\n",
    "`do`\n",
    "\n",
    "    `head -n 2 $filename | tail -n 1`\n",
    "    \n",
    "    `tail -n 1 $filename`\n",
    "`done`"
   ]
  },
  {
   "cell_type": "code",
   "execution_count": null,
   "metadata": {},
   "outputs": [],
   "source": []
  }
 ],
 "metadata": {
  "kernelspec": {
   "display_name": "Python 3",
   "language": "python",
   "name": "python3"
  },
  "language_info": {
   "codemirror_mode": {
    "name": "ipython",
    "version": 3
   },
   "file_extension": ".py",
   "mimetype": "text/x-python",
   "name": "python",
   "nbconvert_exporter": "python",
   "pygments_lexer": "ipython3",
   "version": "3.6.5"
  }
 },
 "nbformat": 4,
 "nbformat_minor": 2
}

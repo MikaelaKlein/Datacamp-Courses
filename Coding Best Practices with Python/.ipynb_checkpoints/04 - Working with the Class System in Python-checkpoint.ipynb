{
 "cells": [
  {
   "cell_type": "markdown",
   "metadata": {},
   "source": [
    "# Working with the Class System in Python \n",
    "\n",
    "## Chapter 1: Getting ready for object-oriented programming\n",
    "\n",
    "### Intro to Object Oriented Programming in Python\n",
    "\n",
    "#### What's Object-Oriented Programming? (OOP)\n",
    "* A way to build flexible, reproducible code\n",
    "* Developing building blocks to developing more advanced modules and libraries\n",
    "\n",
    "#### Imperative Style and OOP Style\n",
    "\n",
    "* **Imperative**"
   ]
  },
  {
   "cell_type": "code",
   "execution_count": 1,
   "metadata": {},
   "outputs": [
    {
     "name": "stdout",
     "output_type": "stream",
     "text": [
      "Item 1\n",
      "Item 2\n",
      "Item 3\n"
     ]
    }
   ],
   "source": [
    "our_list = [1, 2, 3]\n",
    "\n",
    "for item in our_list:\n",
    "    print(f\"Item {item}\")"
   ]
  },
  {
   "cell_type": "markdown",
   "metadata": {},
   "source": [
    "* **OOP**"
   ]
  },
  {
   "cell_type": "code",
   "execution_count": 2,
   "metadata": {},
   "outputs": [
    {
     "name": "stdout",
     "output_type": "stream",
     "text": [
      "Item 1\n",
      "Item 2\n",
      "Item 3\n"
     ]
    }
   ],
   "source": [
    "class PrintList:\n",
    "    \n",
    "    def __init__(self, numberlist):\n",
    "        self.numberlist = numberlist\n",
    "        \n",
    "    def print_list(self):\n",
    "        for item in self.numberlist:\n",
    "            print(f\"Item {item}\")\n",
    "            \n",
    "A = PrintList([1, 2, 3])\n",
    "A.print_list()"
   ]
  },
  {
   "cell_type": "markdown",
   "metadata": {},
   "source": [
    "### Introduction to NumPy Internals\n",
    "\n",
    "#### What's NumPy?\n",
    "NumPy is a package for scientific computing in Python.\n",
    "* Uses matrices and vectors as data structure\n",
    "* Perfect for data science, where data is laid out in table-like formats\n",
    "\n",
    "#### NumPy Array example\n",
    "Example:"
   ]
  },
  {
   "cell_type": "code",
   "execution_count": 3,
   "metadata": {},
   "outputs": [
    {
     "name": "stdout",
     "output_type": "stream",
     "text": [
      "[2 3 4]\n"
     ]
    }
   ],
   "source": [
    "import numpy as np\n",
    "\n",
    "our_array = np.array([2,3,4])\n",
    "print(our_array)"
   ]
  },
  {
   "cell_type": "code",
   "execution_count": 4,
   "metadata": {},
   "outputs": [
    {
     "name": "stdout",
     "output_type": "stream",
     "text": [
      "<class 'numpy.ndarray'>\n"
     ]
    }
   ],
   "source": [
    "print(type(our_array))"
   ]
  },
  {
   "cell_type": "markdown",
   "metadata": {},
   "source": [
    "#### Creating Multi-Dimensional Arrays\n",
    "Example 1:"
   ]
  },
  {
   "cell_type": "code",
   "execution_count": 5,
   "metadata": {},
   "outputs": [
    {
     "data": {
      "text/plain": [
       "array([[ 0,  1,  2,  3,  4],\n",
       "       [ 5,  6,  7,  8,  9],\n",
       "       [10, 11, 12, 13, 14]])"
      ]
     },
     "execution_count": 5,
     "metadata": {},
     "output_type": "execute_result"
    }
   ],
   "source": [
    "np.array([[0, 1, 2, 3, 4],\n",
    "           [5, 6, 7, 8, 9],\n",
    "           [10, 11, 12, 13, 14]])"
   ]
  },
  {
   "cell_type": "markdown",
   "metadata": {},
   "source": [
    "Example 2:"
   ]
  },
  {
   "cell_type": "code",
   "execution_count": 6,
   "metadata": {},
   "outputs": [
    {
     "data": {
      "text/plain": [
       "array([6, 7, 8])"
      ]
     },
     "execution_count": 6,
     "metadata": {},
     "output_type": "execute_result"
    }
   ],
   "source": [
    "np.array([6, 7, 8])"
   ]
  },
  {
   "cell_type": "markdown",
   "metadata": {},
   "source": [
    "### Introduction to Objects and Classes\n",
    "\n",
    "#### What is a class?\n",
    "\n",
    "A reusable chunk of code that has methods and variables.\n",
    "\n",
    "#### OOP Vocabulary\n",
    "\n",
    "Imperative    | OOP\n",
    "--------------|--------\n",
    "Variable      | Attribute/Field\n",
    "Function      | Method\n",
    "\n",
    "#### A Class is a template for an object\n",
    "\n",
    "Class --> Object\n",
    "\n",
    "Think of classes as cookiecutters and objects as the actual cookie\n",
    "\n",
    "#### Declaring a Class\n",
    "Declaring a class"
   ]
  },
  {
   "cell_type": "code",
   "execution_count": 7,
   "metadata": {},
   "outputs": [],
   "source": [
    "class Dinosaur:\n",
    "    pass"
   ]
  },
  {
   "cell_type": "code",
   "execution_count": 8,
   "metadata": {},
   "outputs": [],
   "source": [
    "# Used in Python 3, with/without parentheses\n",
    "class Dinosaur():\n",
    "    pass\n",
    "\n",
    "# Used in Python 2\n",
    "class Dinosaur(object):\n",
    "    pass"
   ]
  },
  {
   "cell_type": "markdown",
   "metadata": {},
   "source": [
    "An object is an instance of a class."
   ]
  },
  {
   "cell_type": "markdown",
   "metadata": {},
   "source": [
    "## Chapter 2: Deep dive into classes and objects\n",
    "\n",
    "### Intro to Classes\n",
    "\n",
    "#### Working with DataFrames\n",
    "\n",
    "#### Introducing the DataShell\n",
    "From our DataShell, we'll build towards a DataFrame class that takes a file of data as input and gives us back some information about it.\n",
    "\n",
    "#### Full Class\n",
    "The basic functionality of this class is to take in a CSV filename, create a numpy array from each one of the rows and perform changes on the numpy array.\n",
    "\n",
    "* Note: Methods are class functions"
   ]
  },
  {
   "cell_type": "code",
   "execution_count": 9,
   "metadata": {},
   "outputs": [],
   "source": [
    "class DataShell:\n",
    "    def __init__(self, filename):\n",
    "        self.filename = filename\n",
    "        \n",
    "    def create_datashell(self):\n",
    "        self.array = np.genfromtxt(self.filename, delimiter=',', dtype=None)\n",
    "        return self.array\n",
    "    \n",
    "    def rename_column(self, old_colname, new_colname):\n",
    "        for index, value in enumerate(self.array[0]):\n",
    "            if value == old_colname.encode('UTF-8'):\n",
    "                self.array[0][index] = new_colname\n",
    "        return self.array\n",
    "    \n",
    "    def show_shell(self):\n",
    "        print(self.array)\n",
    "        \n",
    "    def five_figure_summary(self, col_pos):\n",
    "        statistics = stats.describe(self.array[1:,col_pos].astype(np.float))\n",
    "        return f\"Five-figure stats of column {col_pos}: {statistics}\""
   ]
  },
  {
   "cell_type": "markdown",
   "metadata": {},
   "source": [
    "#### Parts of Class in Detail\n",
    "\n",
    "**Review:**  The basic features of a class in Python are:\n",
    "* Constructors\n",
    "* Attributes\n",
    "* Methods"
   ]
  },
  {
   "cell_type": "code",
   "execution_count": 10,
   "metadata": {},
   "outputs": [],
   "source": [
    "class DataShell:\n",
    "    \n",
    "    # This is the constructor for the class\n",
    "    def __init__(self, filename): # `filename` being passed here is a class variable (or attribute)\n",
    "        self.filename = filename\n",
    "        \n",
    "    # This is a method    \n",
    "    def create_datashell(self):\n",
    "        self.array = np.genfromtxt(self.filename, delimiter=',', dtype=None)\n",
    "        return self.array\n",
    "    \n",
    "    # This is another method\n",
    "    def rename_column(self, old_colname, new_colname):\n",
    "        for index, value in enumerate(self.array[0]):\n",
    "            if value == old_colname.encode('UTF-8'):\n",
    "                self.array[0][index] = new_colname\n",
    "        return self.array"
   ]
  },
  {
   "cell_type": "markdown",
   "metadata": {},
   "source": [
    "#### How to Call the Class"
   ]
  },
  {
   "cell_type": "code",
   "execution_count": 11,
   "metadata": {},
   "outputs": [
    {
     "data": {
      "text/plain": [
       "<__main__.DataShell at 0x10a8afcd0>"
      ]
     },
     "execution_count": 11,
     "metadata": {},
     "output_type": "execute_result"
    }
   ],
   "source": [
    "our_data_shell = DataShell('mtcars.csv')\n",
    "our_data_shell"
   ]
  },
  {
   "cell_type": "markdown",
   "metadata": {},
   "source": [
    "### Initializing a Class and Self\n",
    "\n",
    "#### Understanding Constructors with Init\n",
    "Empty Constructor"
   ]
  },
  {
   "cell_type": "code",
   "execution_count": 12,
   "metadata": {},
   "outputs": [],
   "source": [
    "class Dinosaur:\n",
    "    \n",
    "    def __init__(self):\n",
    "        pass"
   ]
  },
  {
   "cell_type": "markdown",
   "metadata": {},
   "source": [
    "Constructor with Attributes"
   ]
  },
  {
   "cell_type": "code",
   "execution_count": 13,
   "metadata": {},
   "outputs": [],
   "source": [
    "class Dinosaur:\n",
    "    \n",
    "    def __init__(self):\n",
    "        self.tail = 'Yes'"
   ]
  },
  {
   "cell_type": "markdown",
   "metadata": {},
   "source": [
    "#### Init and Our DataShell"
   ]
  },
  {
   "cell_type": "code",
   "execution_count": 17,
   "metadata": {},
   "outputs": [
    {
     "data": {
      "text/html": [
       "<div>\n",
       "<style scoped>\n",
       "    .dataframe tbody tr th:only-of-type {\n",
       "        vertical-align: middle;\n",
       "    }\n",
       "\n",
       "    .dataframe tbody tr th {\n",
       "        vertical-align: top;\n",
       "    }\n",
       "\n",
       "    .dataframe thead th {\n",
       "        text-align: right;\n",
       "    }\n",
       "</style>\n",
       "<table border=\"1\" class=\"dataframe\">\n",
       "  <thead>\n",
       "    <tr style=\"text-align: right;\">\n",
       "      <th></th>\n",
       "      <th>model</th>\n",
       "      <th>mpg</th>\n",
       "      <th>cyl</th>\n",
       "      <th>disp</th>\n",
       "      <th>hp</th>\n",
       "      <th>drat</th>\n",
       "      <th>wt</th>\n",
       "      <th>qsec</th>\n",
       "      <th>vs</th>\n",
       "      <th>am</th>\n",
       "      <th>gear</th>\n",
       "      <th>carb</th>\n",
       "    </tr>\n",
       "  </thead>\n",
       "  <tbody>\n",
       "    <tr>\n",
       "      <th>0</th>\n",
       "      <td>Mazda RX4</td>\n",
       "      <td>21.0</td>\n",
       "      <td>6</td>\n",
       "      <td>160.0</td>\n",
       "      <td>110</td>\n",
       "      <td>3.90</td>\n",
       "      <td>2.620</td>\n",
       "      <td>16.46</td>\n",
       "      <td>0</td>\n",
       "      <td>1</td>\n",
       "      <td>4</td>\n",
       "      <td>4</td>\n",
       "    </tr>\n",
       "    <tr>\n",
       "      <th>1</th>\n",
       "      <td>Mazda RX4 Wag</td>\n",
       "      <td>21.0</td>\n",
       "      <td>6</td>\n",
       "      <td>160.0</td>\n",
       "      <td>110</td>\n",
       "      <td>3.90</td>\n",
       "      <td>2.875</td>\n",
       "      <td>17.02</td>\n",
       "      <td>0</td>\n",
       "      <td>1</td>\n",
       "      <td>4</td>\n",
       "      <td>4</td>\n",
       "    </tr>\n",
       "    <tr>\n",
       "      <th>2</th>\n",
       "      <td>Datsun 710</td>\n",
       "      <td>22.8</td>\n",
       "      <td>4</td>\n",
       "      <td>108.0</td>\n",
       "      <td>93</td>\n",
       "      <td>3.85</td>\n",
       "      <td>2.320</td>\n",
       "      <td>18.61</td>\n",
       "      <td>1</td>\n",
       "      <td>1</td>\n",
       "      <td>4</td>\n",
       "      <td>1</td>\n",
       "    </tr>\n",
       "    <tr>\n",
       "      <th>3</th>\n",
       "      <td>Hornet 4 Drive</td>\n",
       "      <td>21.4</td>\n",
       "      <td>6</td>\n",
       "      <td>258.0</td>\n",
       "      <td>110</td>\n",
       "      <td>3.08</td>\n",
       "      <td>3.215</td>\n",
       "      <td>19.44</td>\n",
       "      <td>1</td>\n",
       "      <td>0</td>\n",
       "      <td>3</td>\n",
       "      <td>1</td>\n",
       "    </tr>\n",
       "    <tr>\n",
       "      <th>4</th>\n",
       "      <td>Hornet Sportabout</td>\n",
       "      <td>18.7</td>\n",
       "      <td>8</td>\n",
       "      <td>360.0</td>\n",
       "      <td>175</td>\n",
       "      <td>3.15</td>\n",
       "      <td>3.440</td>\n",
       "      <td>17.02</td>\n",
       "      <td>0</td>\n",
       "      <td>0</td>\n",
       "      <td>3</td>\n",
       "      <td>2</td>\n",
       "    </tr>\n",
       "  </tbody>\n",
       "</table>\n",
       "</div>"
      ],
      "text/plain": [
       "               model   mpg  cyl   disp   hp  drat     wt   qsec  vs  am  gear  \\\n",
       "0          Mazda RX4  21.0    6  160.0  110  3.90  2.620  16.46   0   1     4   \n",
       "1      Mazda RX4 Wag  21.0    6  160.0  110  3.90  2.875  17.02   0   1     4   \n",
       "2         Datsun 710  22.8    4  108.0   93  3.85  2.320  18.61   1   1     4   \n",
       "3     Hornet 4 Drive  21.4    6  258.0  110  3.08  3.215  19.44   1   0     3   \n",
       "4  Hornet Sportabout  18.7    8  360.0  175  3.15  3.440  17.02   0   0     3   \n",
       "\n",
       "   carb  \n",
       "0     4  \n",
       "1     4  \n",
       "2     1  \n",
       "3     1  \n",
       "4     2  "
      ]
     },
     "execution_count": 17,
     "metadata": {},
     "output_type": "execute_result"
    }
   ],
   "source": [
    "# Modeled on Pandas read_csv\n",
    "import pandas as pd\n",
    "\n",
    "pd.read_csv('datasets/mtcars.csv').head()"
   ]
  },
  {
   "cell_type": "markdown",
   "metadata": {},
   "source": [
    "Creating the dataShell with a Constructor"
   ]
  },
  {
   "cell_type": "code",
   "execution_count": 18,
   "metadata": {},
   "outputs": [],
   "source": [
    "class DataShell:\n",
    "    \n",
    "    def __init__(self, filename):\n",
    "        self.filename = filename"
   ]
  },
  {
   "cell_type": "markdown",
   "metadata": {},
   "source": [
    "#### Understanding Self\n",
    "\n",
    "* Self represents the instance of the class, or the specific object\n",
    "* *Review:* An object is an instance of a class\n",
    "* That object needs a way to reference that instance\n",
    "* The first variable is always a reference to the current instance of the class\n",
    "* In this case, the instance of the class is the class itself, so we put `self`"
   ]
  },
  {
   "cell_type": "code",
   "execution_count": 19,
   "metadata": {},
   "outputs": [],
   "source": [
    "class DataShell:\n",
    "    \n",
    "    def __init__(self, filename):\n",
    "        self.filename = filename"
   ]
  },
  {
   "cell_type": "markdown",
   "metadata": {},
   "source": [
    "Initializing the Car DataShell"
   ]
  },
  {
   "cell_type": "code",
   "execution_count": 20,
   "metadata": {},
   "outputs": [],
   "source": [
    "car_data_shell = DataShell('mtcars.csv')"
   ]
  },
  {
   "cell_type": "code",
   "execution_count": null,
   "metadata": {},
   "outputs": [],
   "source": [
    "    def __init__(car_data_shell, 'mtcars.csv')\n",
    "        self.filename = filename"
   ]
  },
  {
   "cell_type": "markdown",
   "metadata": {},
   "source": [
    "Initializing the ForestFire DataShell"
   ]
  },
  {
   "cell_type": "code",
   "execution_count": 22,
   "metadata": {},
   "outputs": [],
   "source": [
    "forest_fires_data_shell = DataShell('forestfires.csv')"
   ]
  },
  {
   "cell_type": "code",
   "execution_count": null,
   "metadata": {},
   "outputs": [],
   "source": [
    "    def __init__(forest_fires_data_shell, 'forestfires.csv')\n",
    "        self.filename = filename"
   ]
  },
  {
   "cell_type": "markdown",
   "metadata": {},
   "source": [
    "#### Self is not a Python keyword but we use it like one"
   ]
  },
  {
   "cell_type": "code",
   "execution_count": 23,
   "metadata": {},
   "outputs": [
    {
     "name": "stdout",
     "output_type": "stream",
     "text": [
      "['False', 'None', 'True', 'and', 'as', 'assert', 'async', 'await', 'break', 'class', 'continue', 'def', 'del', 'elif', 'else', 'except', 'finally', 'for', 'from', 'global', 'if', 'import', 'in', 'is', 'lambda', 'nonlocal', 'not', 'or', 'pass', 'raise', 'return', 'try', 'while', 'with', 'yield']\n"
     ]
    }
   ],
   "source": [
    "# Printing out the keyword list\n",
    "import keyword\n",
    "print(keyword.kwlist)"
   ]
  },
  {
   "cell_type": "code",
   "execution_count": 24,
   "metadata": {},
   "outputs": [],
   "source": [
    "# Using this as an object reference\n",
    "def __init__(this, filename):\n",
    "    this.filename = filename"
   ]
  },
  {
   "cell_type": "markdown",
   "metadata": {},
   "source": [
    "#### Example 1 from exercises"
   ]
  },
  {
   "cell_type": "code",
   "execution_count": 25,
   "metadata": {},
   "outputs": [
    {
     "name": "stdout",
     "output_type": "stream",
     "text": [
      "10\n"
     ]
    }
   ],
   "source": [
    "# Create class: DataShell\n",
    "class DataShell:\n",
    "  \n",
    "    # Initialize class with self and integerInput arguments\n",
    "    def __init__(self, integerInput):\n",
    "      \n",
    "        # Set data as instance variable, and assign the value of integerInput\n",
    "        self.data = integerInput\n",
    "\n",
    "# Declare variable x with value of 10\n",
    "x = 10      \n",
    "\n",
    "# Instantiate DataShell passing x as argument: my_data_shell\n",
    "my_data_shell = DataShell(x)\n",
    "\n",
    "# Print my_data_shell\n",
    "print(my_data_shell.data)"
   ]
  },
  {
   "cell_type": "markdown",
   "metadata": {},
   "source": [
    "#### Example 2 from exercises"
   ]
  },
  {
   "cell_type": "code",
   "execution_count": 26,
   "metadata": {},
   "outputs": [
    {
     "name": "stdout",
     "output_type": "stream",
     "text": [
      "100\n",
      "[1, 2, 3, 4, 5]\n"
     ]
    }
   ],
   "source": [
    "# Create class: DataShell\n",
    "class DataShell:\n",
    "  \n",
    "    # Initialize class with self, identifier and data arguments\n",
    "    def __init__(self, identifier, data):\n",
    "      \n",
    "        # Set identifier and data as instance variables, assigning value of input arguments\n",
    "        self.identifier = identifier\n",
    "        self.data = data\n",
    "\n",
    "# Declare variable x with value of 100, and y with list of integers from 1 to 5\n",
    "x = 100\n",
    "y = [1, 2, 3, 4, 5]\n",
    "\n",
    "# Instantiate DataShell passing x and y as arguments: my_data_shell\n",
    "my_data_shell = DataShell(x, y)\n",
    "\n",
    "# Print my_data_shell.identifier\n",
    "print(my_data_shell.identifier)\n",
    "\n",
    "# Print my_data_shell.data\n",
    "print(my_data_shell.data)"
   ]
  },
  {
   "cell_type": "markdown",
   "metadata": {},
   "source": [
    "### More on Self and Passing in Variables\n",
    "\n",
    "#### Class Variables"
   ]
  },
  {
   "cell_type": "code",
   "execution_count": 27,
   "metadata": {},
   "outputs": [],
   "source": [
    "# Our Dinasaur class\n",
    "\n",
    "class Dinosaur():\n",
    "    \n",
    "    eyes = 2  # This is a static variable -- aka a variable that doesn't change   \n",
    "\n",
    "    def __init__(self, teeth):  # This is an instance variable -- b/c we are passing it in when we construct the class\n",
    "        self.teeth = teeth"
   ]
  },
  {
   "cell_type": "code",
   "execution_count": 28,
   "metadata": {},
   "outputs": [
    {
     "data": {
      "text/plain": [
       "40"
      ]
     },
     "execution_count": 28,
     "metadata": {},
     "output_type": "execute_result"
    }
   ],
   "source": [
    "# Building a Stegosaurus\n",
    "stegosaurus = Dinosaur(40)\n",
    "stegosaurus.teeth"
   ]
  },
  {
   "cell_type": "code",
   "execution_count": 29,
   "metadata": {},
   "outputs": [
    {
     "data": {
      "text/plain": [
       "2"
      ]
     },
     "execution_count": 29,
     "metadata": {},
     "output_type": "execute_result"
    }
   ],
   "source": [
    "stegosaurus.eyes"
   ]
  },
  {
   "cell_type": "markdown",
   "metadata": {},
   "source": [
    "#### Instance Variables"
   ]
  },
  {
   "cell_type": "code",
   "execution_count": 30,
   "metadata": {},
   "outputs": [
    {
     "data": {
      "text/plain": [
       "5"
      ]
     },
     "execution_count": 30,
     "metadata": {},
     "output_type": "execute_result"
    }
   ],
   "source": [
    "Triceratops = Dinosaur(5)\n",
    "Triceratops.teeth"
   ]
  },
  {
   "cell_type": "code",
   "execution_count": 31,
   "metadata": {},
   "outputs": [
    {
     "data": {
      "text/plain": [
       "2"
      ]
     },
     "execution_count": 31,
     "metadata": {},
     "output_type": "execute_result"
    }
   ],
   "source": [
    "Triceratops.eyes"
   ]
  },
  {
   "cell_type": "markdown",
   "metadata": {},
   "source": [
    "#### Passing in parameters to objects"
   ]
  },
  {
   "cell_type": "code",
   "execution_count": 32,
   "metadata": {},
   "outputs": [],
   "source": [
    "class DataShell(object):\n",
    "    \n",
    "    def __init__(self, filename):\n",
    "        self.filename = filename"
   ]
  },
  {
   "cell_type": "markdown",
   "metadata": {},
   "source": [
    "Results:"
   ]
  },
  {
   "cell_type": "code",
   "execution_count": 33,
   "metadata": {},
   "outputs": [
    {
     "name": "stdout",
     "output_type": "stream",
     "text": [
      "mtcars.csv\n"
     ]
    }
   ],
   "source": [
    "my_data_shell = DataShell('mtcars.csv')\n",
    "print(my_data_shell.filename)"
   ]
  },
  {
   "cell_type": "markdown",
   "metadata": {},
   "source": [
    "#### Example 1 from exercises"
   ]
  },
  {
   "cell_type": "code",
   "execution_count": 34,
   "metadata": {},
   "outputs": [
    {
     "name": "stdout",
     "output_type": "stream",
     "text": [
      "DataShell\n"
     ]
    }
   ],
   "source": [
    "# Create class: DataShell\n",
    "class DataShell:\n",
    "  \n",
    "    # Declare a class variable family, and assign value of \"DataShell\"\n",
    "    family = \"DataShell\"\n",
    "    \n",
    "    # Initialize class with self, identifier arguments\n",
    "    def __init__(self, identifier):\n",
    "      \n",
    "        # Set identifier as instance variable of input argument\n",
    "        self.identifier = identifier\n",
    "\n",
    "# Declare variable x with value of 100\n",
    "x = 100\n",
    "\n",
    "# Instantiate DataShell passing x as argument: my_data_shell\n",
    "my_data_shell = DataShell(x)\n",
    "\n",
    "# Print my_data_shell class variable family\n",
    "print(my_data_shell.family)"
   ]
  },
  {
   "cell_type": "markdown",
   "metadata": {},
   "source": [
    "#### Example 2 from exercises: Overriding class variables"
   ]
  },
  {
   "cell_type": "code",
   "execution_count": 41,
   "metadata": {},
   "outputs": [
    {
     "name": "stdout",
     "output_type": "stream",
     "text": [
      "DataShell\n",
      "NotDataShell\n"
     ]
    }
   ],
   "source": [
    "# Create class: DataShell\n",
    "class DataShell:\n",
    "  \n",
    "    # Declare a class variable family, and assign value of \"DataShell\"\n",
    "    family = \"DataShell\"\n",
    "    \n",
    "    # Initialize class with self, identifier arguments\n",
    "    def __init__(self, identifier):\n",
    "      \n",
    "        # Set identifier as instance variables, assigning value of input arguments\n",
    "        self.identifier = identifier\n",
    "\n",
    "# Declare variable x with value of 100\n",
    "x = 100\n",
    "\n",
    "# Instantiate DataShell passing x as the argument: my_data_shell\n",
    "my_data_shell = DataShell(x)\n",
    "\n",
    "# Print my_data_shell class variable family\n",
    "print(my_data_shell.family)\n",
    "\n",
    "# Override the my_data_shell.family value with \"NotDataShell\"\n",
    "my_data_shell.family = \"NotDataShell\"\n",
    "\n",
    "# Print my_data_shell class variable family once again\n",
    "print(my_data_shell.family)"
   ]
  },
  {
   "cell_type": "markdown",
   "metadata": {},
   "source": [
    "### Methods in Classes\n",
    "\n",
    "#### Methods"
   ]
  },
  {
   "cell_type": "code",
   "execution_count": 42,
   "metadata": {},
   "outputs": [],
   "source": [
    "class DataShell:\n",
    "    \n",
    "    # init method\n",
    "    def __init__(self, filename): # `filename` being passed here is a class variable (or attribute)\n",
    "        self.filename = filename\n",
    "        \n",
    "    # create_datashell method   \n",
    "    def create_datashell(self):\n",
    "        self.array = np.genfromtxt(self.filename, delimiter=',', dtype=None)\n",
    "        return self.array\n",
    "    \n",
    "    # rename_column method\n",
    "    def rename_column(self, old_colname, new_colname):\n",
    "        for index, value in enumerate(self.array[0]):\n",
    "            if value == old_colname.encode('UTF-8'):\n",
    "                self.array[0][index] = new_colname\n",
    "        return self.array"
   ]
  },
  {
   "cell_type": "markdown",
   "metadata": {},
   "source": [
    "#### Initializing Methods in Classes"
   ]
  },
  {
   "cell_type": "code",
   "execution_count": 37,
   "metadata": {},
   "outputs": [],
   "source": [
    "    def create_datashell(self): # Name method, declare with `self` that it's part of our class\n",
    "        self.array = np.genfromtxt(self.filename, delimiter=',', dtype=None)  # converts file object to an array\n",
    "        return self.array"
   ]
  },
  {
   "cell_type": "markdown",
   "metadata": {},
   "source": [
    "#### Methods with other parameters"
   ]
  },
  {
   "cell_type": "code",
   "execution_count": 38,
   "metadata": {},
   "outputs": [],
   "source": [
    "    def rename_column(self, old_colname, new_colname):\n",
    "        \n",
    "        for index, value in enumerate(self.array[0]):\n",
    "            if value == old_colname.encode('UTF-8'):  # If column name is equal to the old column name\n",
    "                self.array[0][index] = new_colname  # Update it with the new column name\n",
    "                \n",
    "        return self.array"
   ]
  },
  {
   "cell_type": "markdown",
   "metadata": {},
   "source": [
    "#### How to call methods"
   ]
  },
  {
   "cell_type": "code",
   "execution_count": 46,
   "metadata": {},
   "outputs": [],
   "source": [
    "myDatashell = DataShell('datasets/mtcars.csv')"
   ]
  },
  {
   "cell_type": "code",
   "execution_count": 49,
   "metadata": {},
   "outputs": [
    {
     "name": "stderr",
     "output_type": "stream",
     "text": [
      "/usr/local/lib/python3.7/site-packages/ipykernel_launcher.py:9: VisibleDeprecationWarning: Reading unicode strings without specifying the encoding argument is deprecated. Set the encoding, use None for the system default.\n",
      "  if __name__ == '__main__':\n"
     ]
    },
    {
     "data": {
      "text/plain": [
       "array([[b'model', b'mpg', b'cyl', b'disp', b'hp', b'drat', b'wt',\n",
       "        b'qsec', b'vs', b'am', b'gear', b'carb'],\n",
       "       [b'Mazda RX4', b'21', b'6', b'160', b'110', b'3.9', b'2.62',\n",
       "        b'16.46', b'0', b'1', b'4', b'4'],\n",
       "       [b'Mazda RX4 Wag', b'21', b'6', b'160', b'110', b'3.9', b'2.875',\n",
       "        b'17.02', b'0', b'1', b'4', b'4'],\n",
       "       [b'Datsun 710', b'22.8', b'4', b'108', b'93', b'3.85', b'2.32',\n",
       "        b'18.61', b'1', b'1', b'4', b'1'],\n",
       "       [b'Hornet 4 Drive', b'21.4', b'6', b'258', b'110', b'3.08',\n",
       "        b'3.215', b'19.44', b'1', b'0', b'3', b'1'],\n",
       "       [b'Hornet Sportabout', b'18.7', b'8', b'360', b'175', b'3.15',\n",
       "        b'3.44', b'17.02', b'0', b'0', b'3', b'2'],\n",
       "       [b'Valiant', b'18.1', b'6', b'225', b'105', b'2.76', b'3.46',\n",
       "        b'20.22', b'1', b'0', b'3', b'1'],\n",
       "       [b'Duster 360', b'14.3', b'8', b'360', b'245', b'3.21', b'3.57',\n",
       "        b'15.84', b'0', b'0', b'3', b'4'],\n",
       "       [b'Merc 240D', b'24.4', b'4', b'146.7', b'62', b'3.69', b'3.19',\n",
       "        b'20', b'1', b'0', b'4', b'2'],\n",
       "       [b'Merc 230', b'22.8', b'4', b'140.8', b'95', b'3.92', b'3.15',\n",
       "        b'22.9', b'1', b'0', b'4', b'2'],\n",
       "       [b'Merc 280', b'19.2', b'6', b'167.6', b'123', b'3.92', b'3.44',\n",
       "        b'18.3', b'1', b'0', b'4', b'4'],\n",
       "       [b'Merc 280C', b'17.8', b'6', b'167.6', b'123', b'3.92', b'3.44',\n",
       "        b'18.9', b'1', b'0', b'4', b'4'],\n",
       "       [b'Merc 450SE', b'16.4', b'8', b'275.8', b'180', b'3.07', b'4.07',\n",
       "        b'17.4', b'0', b'0', b'3', b'3'],\n",
       "       [b'Merc 450SL', b'17.3', b'8', b'275.8', b'180', b'3.07', b'3.73',\n",
       "        b'17.6', b'0', b'0', b'3', b'3'],\n",
       "       [b'Merc 450SLC', b'15.2', b'8', b'275.8', b'180', b'3.07',\n",
       "        b'3.78', b'18', b'0', b'0', b'3', b'3'],\n",
       "       [b'Cadillac Fleetwood', b'10.4', b'8', b'472', b'205', b'2.93',\n",
       "        b'5.25', b'17.98', b'0', b'0', b'3', b'4'],\n",
       "       [b'Lincoln Continental', b'10.4', b'8', b'460', b'215', b'3',\n",
       "        b'5.424', b'17.82', b'0', b'0', b'3', b'4'],\n",
       "       [b'Chrysler Imperial', b'14.7', b'8', b'440', b'230', b'3.23',\n",
       "        b'5.345', b'17.42', b'0', b'0', b'3', b'4'],\n",
       "       [b'Fiat 128', b'32.4', b'4', b'78.7', b'66', b'4.08', b'2.2',\n",
       "        b'19.47', b'1', b'1', b'4', b'1'],\n",
       "       [b'Honda Civic', b'30.4', b'4', b'75.7', b'52', b'4.93', b'1.615',\n",
       "        b'18.52', b'1', b'1', b'4', b'2'],\n",
       "       [b'Toyota Corolla', b'33.9', b'4', b'71.1', b'65', b'4.22',\n",
       "        b'1.835', b'19.9', b'1', b'1', b'4', b'1'],\n",
       "       [b'Toyota Corona', b'21.5', b'4', b'120.1', b'97', b'3.7',\n",
       "        b'2.465', b'20.01', b'1', b'0', b'3', b'1'],\n",
       "       [b'Dodge Challenger', b'15.5', b'8', b'318', b'150', b'2.76',\n",
       "        b'3.52', b'16.87', b'0', b'0', b'3', b'2'],\n",
       "       [b'AMC Javelin', b'15.2', b'8', b'304', b'150', b'3.15', b'3.435',\n",
       "        b'17.3', b'0', b'0', b'3', b'2'],\n",
       "       [b'Camaro Z28', b'13.3', b'8', b'350', b'245', b'3.73', b'3.84',\n",
       "        b'15.41', b'0', b'0', b'3', b'4'],\n",
       "       [b'Pontiac Firebird', b'19.2', b'8', b'400', b'175', b'3.08',\n",
       "        b'3.845', b'17.05', b'0', b'0', b'3', b'2'],\n",
       "       [b'Fiat X1-9', b'27.3', b'4', b'79', b'66', b'4.08', b'1.935',\n",
       "        b'18.9', b'1', b'1', b'4', b'1'],\n",
       "       [b'Porsche 914-2', b'26', b'4', b'120.3', b'91', b'4.43', b'2.14',\n",
       "        b'16.7', b'0', b'1', b'5', b'2'],\n",
       "       [b'Lotus Europa', b'30.4', b'4', b'95.1', b'113', b'3.77',\n",
       "        b'1.513', b'16.9', b'1', b'1', b'5', b'2'],\n",
       "       [b'Ford Pantera L', b'15.8', b'8', b'351', b'264', b'4.22',\n",
       "        b'3.17', b'14.5', b'0', b'1', b'5', b'4'],\n",
       "       [b'Ferrari Dino', b'19.7', b'6', b'145', b'175', b'3.62', b'2.77',\n",
       "        b'15.5', b'0', b'1', b'5', b'6'],\n",
       "       [b'Maserati Bora', b'15', b'8', b'301', b'335', b'3.54', b'3.57',\n",
       "        b'14.6', b'0', b'1', b'5', b'8'],\n",
       "       [b'Volvo 142E', b'21.4', b'4', b'121', b'109', b'4.11', b'2.78',\n",
       "        b'18.6', b'1', b'1', b'4', b'2']], dtype='|S19')"
      ]
     },
     "execution_count": 49,
     "metadata": {},
     "output_type": "execute_result"
    }
   ],
   "source": [
    "# Calling without passing in parameters\n",
    "myDatashell.create_datashell()"
   ]
  },
  {
   "cell_type": "code",
   "execution_count": 51,
   "metadata": {},
   "outputs": [
    {
     "data": {
      "text/plain": [
       "array([[b'model', b'mpg', b'cylinders', b'disp', b'hp', b'drat', b'wt',\n",
       "        b'qsec', b'vs', b'am', b'gear', b'carb'],\n",
       "       [b'Mazda RX4', b'21', b'6', b'160', b'110', b'3.9', b'2.62',\n",
       "        b'16.46', b'0', b'1', b'4', b'4'],\n",
       "       [b'Mazda RX4 Wag', b'21', b'6', b'160', b'110', b'3.9', b'2.875',\n",
       "        b'17.02', b'0', b'1', b'4', b'4'],\n",
       "       [b'Datsun 710', b'22.8', b'4', b'108', b'93', b'3.85', b'2.32',\n",
       "        b'18.61', b'1', b'1', b'4', b'1'],\n",
       "       [b'Hornet 4 Drive', b'21.4', b'6', b'258', b'110', b'3.08',\n",
       "        b'3.215', b'19.44', b'1', b'0', b'3', b'1'],\n",
       "       [b'Hornet Sportabout', b'18.7', b'8', b'360', b'175', b'3.15',\n",
       "        b'3.44', b'17.02', b'0', b'0', b'3', b'2'],\n",
       "       [b'Valiant', b'18.1', b'6', b'225', b'105', b'2.76', b'3.46',\n",
       "        b'20.22', b'1', b'0', b'3', b'1'],\n",
       "       [b'Duster 360', b'14.3', b'8', b'360', b'245', b'3.21', b'3.57',\n",
       "        b'15.84', b'0', b'0', b'3', b'4'],\n",
       "       [b'Merc 240D', b'24.4', b'4', b'146.7', b'62', b'3.69', b'3.19',\n",
       "        b'20', b'1', b'0', b'4', b'2'],\n",
       "       [b'Merc 230', b'22.8', b'4', b'140.8', b'95', b'3.92', b'3.15',\n",
       "        b'22.9', b'1', b'0', b'4', b'2'],\n",
       "       [b'Merc 280', b'19.2', b'6', b'167.6', b'123', b'3.92', b'3.44',\n",
       "        b'18.3', b'1', b'0', b'4', b'4'],\n",
       "       [b'Merc 280C', b'17.8', b'6', b'167.6', b'123', b'3.92', b'3.44',\n",
       "        b'18.9', b'1', b'0', b'4', b'4'],\n",
       "       [b'Merc 450SE', b'16.4', b'8', b'275.8', b'180', b'3.07', b'4.07',\n",
       "        b'17.4', b'0', b'0', b'3', b'3'],\n",
       "       [b'Merc 450SL', b'17.3', b'8', b'275.8', b'180', b'3.07', b'3.73',\n",
       "        b'17.6', b'0', b'0', b'3', b'3'],\n",
       "       [b'Merc 450SLC', b'15.2', b'8', b'275.8', b'180', b'3.07',\n",
       "        b'3.78', b'18', b'0', b'0', b'3', b'3'],\n",
       "       [b'Cadillac Fleetwood', b'10.4', b'8', b'472', b'205', b'2.93',\n",
       "        b'5.25', b'17.98', b'0', b'0', b'3', b'4'],\n",
       "       [b'Lincoln Continental', b'10.4', b'8', b'460', b'215', b'3',\n",
       "        b'5.424', b'17.82', b'0', b'0', b'3', b'4'],\n",
       "       [b'Chrysler Imperial', b'14.7', b'8', b'440', b'230', b'3.23',\n",
       "        b'5.345', b'17.42', b'0', b'0', b'3', b'4'],\n",
       "       [b'Fiat 128', b'32.4', b'4', b'78.7', b'66', b'4.08', b'2.2',\n",
       "        b'19.47', b'1', b'1', b'4', b'1'],\n",
       "       [b'Honda Civic', b'30.4', b'4', b'75.7', b'52', b'4.93', b'1.615',\n",
       "        b'18.52', b'1', b'1', b'4', b'2'],\n",
       "       [b'Toyota Corolla', b'33.9', b'4', b'71.1', b'65', b'4.22',\n",
       "        b'1.835', b'19.9', b'1', b'1', b'4', b'1'],\n",
       "       [b'Toyota Corona', b'21.5', b'4', b'120.1', b'97', b'3.7',\n",
       "        b'2.465', b'20.01', b'1', b'0', b'3', b'1'],\n",
       "       [b'Dodge Challenger', b'15.5', b'8', b'318', b'150', b'2.76',\n",
       "        b'3.52', b'16.87', b'0', b'0', b'3', b'2'],\n",
       "       [b'AMC Javelin', b'15.2', b'8', b'304', b'150', b'3.15', b'3.435',\n",
       "        b'17.3', b'0', b'0', b'3', b'2'],\n",
       "       [b'Camaro Z28', b'13.3', b'8', b'350', b'245', b'3.73', b'3.84',\n",
       "        b'15.41', b'0', b'0', b'3', b'4'],\n",
       "       [b'Pontiac Firebird', b'19.2', b'8', b'400', b'175', b'3.08',\n",
       "        b'3.845', b'17.05', b'0', b'0', b'3', b'2'],\n",
       "       [b'Fiat X1-9', b'27.3', b'4', b'79', b'66', b'4.08', b'1.935',\n",
       "        b'18.9', b'1', b'1', b'4', b'1'],\n",
       "       [b'Porsche 914-2', b'26', b'4', b'120.3', b'91', b'4.43', b'2.14',\n",
       "        b'16.7', b'0', b'1', b'5', b'2'],\n",
       "       [b'Lotus Europa', b'30.4', b'4', b'95.1', b'113', b'3.77',\n",
       "        b'1.513', b'16.9', b'1', b'1', b'5', b'2'],\n",
       "       [b'Ford Pantera L', b'15.8', b'8', b'351', b'264', b'4.22',\n",
       "        b'3.17', b'14.5', b'0', b'1', b'5', b'4'],\n",
       "       [b'Ferrari Dino', b'19.7', b'6', b'145', b'175', b'3.62', b'2.77',\n",
       "        b'15.5', b'0', b'1', b'5', b'6'],\n",
       "       [b'Maserati Bora', b'15', b'8', b'301', b'335', b'3.54', b'3.57',\n",
       "        b'14.6', b'0', b'1', b'5', b'8'],\n",
       "       [b'Volvo 142E', b'21.4', b'4', b'121', b'109', b'4.11', b'2.78',\n",
       "        b'18.6', b'1', b'1', b'4', b'2']], dtype='|S19')"
      ]
     },
     "execution_count": 51,
     "metadata": {},
     "output_type": "execute_result"
    }
   ],
   "source": [
    "# Calling by passing in a parameter\n",
    "myDatashell.rename_column('cyl', 'cylinders')"
   ]
  },
  {
   "cell_type": "markdown",
   "metadata": {},
   "source": [
    "#### Example 1 from exercises"
   ]
  },
  {
   "cell_type": "code",
   "execution_count": 52,
   "metadata": {},
   "outputs": [
    {
     "name": "stdout",
     "output_type": "stream",
     "text": [
      "You just executed a class method!\n"
     ]
    }
   ],
   "source": [
    "# Create class: DataShell\n",
    "class DataShell:\n",
    "  \n",
    "    # Initialize class with self argument\n",
    "    def __init__(self):\n",
    "        pass\n",
    "      \n",
    "    # Define class method which takes self argument: print_static\n",
    "    def print_static(self):\n",
    "        # Print string\n",
    "        print(\"You just executed a class method!\")\n",
    "        \n",
    "# Instantiate DataShell taking no arguments: my_data_shell\n",
    "my_data_shell = DataShell()\n",
    "\n",
    "# Call the print_static method of your newly created object\n",
    "my_data_shell.print_static()"
   ]
  },
  {
   "cell_type": "markdown",
   "metadata": {},
   "source": [
    "#### Example 2 from exercises"
   ]
  },
  {
   "cell_type": "code",
   "execution_count": 53,
   "metadata": {},
   "outputs": [
    {
     "name": "stdout",
     "output_type": "stream",
     "text": [
      "[1, 2, 3, 4, 5, 6, 7, 8, 9, 10]\n"
     ]
    }
   ],
   "source": [
    "# Create class: DataShell\n",
    "class DataShell:\n",
    "  \n",
    "    # Initialize class with self and dataList as arguments\n",
    "    def __init__(self, dataList):\n",
    "        # Set data as instance variable, and assign it the value of dataList\n",
    "        self.data = dataList\n",
    "        \n",
    "    # Define class method which takes self argument: show\n",
    "    def show(self):\n",
    "        # Print the instance variable data\n",
    "        print(self.data)\n",
    "\n",
    "# Declare variable with list of integers from 1 to 10: integer_list   \n",
    "integer_list = [1, 2, 3, 4, 5, 6, 7, 8, 9, 10]\n",
    "        \n",
    "# Instantiate DataShell taking integer_list as argument: my_data_shell\n",
    "my_data_shell = DataShell(integer_list)\n",
    "\n",
    "# Call the show method of your newly created object\n",
    "my_data_shell.show()"
   ]
  },
  {
   "cell_type": "markdown",
   "metadata": {},
   "source": [
    "#### Example 3 from exercies"
   ]
  },
  {
   "cell_type": "code",
   "execution_count": 54,
   "metadata": {},
   "outputs": [
    {
     "name": "stdout",
     "output_type": "stream",
     "text": [
      "[1, 2, 3, 4, 5, 6, 7, 8, 9, 10]\n",
      "5.5\n"
     ]
    }
   ],
   "source": [
    "# Create class: DataShell\n",
    "class DataShell:\n",
    "  \n",
    "    # Initialize class with self and dataList as arguments\n",
    "    def __init__(self, dataList):\n",
    "        # Set data as instance variable, and assign it the value of dataList\n",
    "        self.data = dataList\n",
    "        \n",
    "    # Define method that prints data: show\n",
    "    def show(self):\n",
    "        print(self.data)\n",
    "        \n",
    "    # Define method that prints average of data: avg \n",
    "    def avg(self):\n",
    "        # Declare avg and assign it the average of data\n",
    "        avg = sum(self.data)/float(len(self.data))\n",
    "        # Print avg\n",
    "        print(avg)\n",
    "        \n",
    "# Instantiate DataShell taking integer_list as argument: my_data_shell\n",
    "my_data_shell = DataShell(integer_list)\n",
    "\n",
    "# Call the show and avg methods of your newly created object\n",
    "my_data_shell.show()\n",
    "my_data_shell.avg()"
   ]
  },
  {
   "cell_type": "markdown",
   "metadata": {},
   "source": [
    "## Chapter 3: Fancy classes, fancy objects\n",
    "\n",
    "### Working with a DataSet to Create DataFrames\n",
    "\n",
    "#### MTCars\n",
    "\n",
    "#### Creating our Cars Analysis DataShell\n",
    "Creating an instance of a DataShell"
   ]
  },
  {
   "cell_type": "code",
   "execution_count": 78,
   "metadata": {},
   "outputs": [],
   "source": [
    "car_data = DataShell('datasets/mtcars.csv')"
   ]
  },
  {
   "cell_type": "markdown",
   "metadata": {},
   "source": [
    "Print the instance of the object"
   ]
  },
  {
   "cell_type": "code",
   "execution_count": 79,
   "metadata": {},
   "outputs": [
    {
     "name": "stdout",
     "output_type": "stream",
     "text": [
      "<__main__.DataShell object at 0x11b891990>\n"
     ]
    }
   ],
   "source": [
    "print(car_data)"
   ]
  },
  {
   "cell_type": "markdown",
   "metadata": {},
   "source": [
    "#### Creating a method to introspect the object"
   ]
  },
  {
   "cell_type": "code",
   "execution_count": 82,
   "metadata": {},
   "outputs": [],
   "source": [
    "class DataShell:\n",
    "    \n",
    "    def __init__(self, filename):\n",
    "        self.filename = filename\n",
    "        \n",
    "    def create_datashell(self):\n",
    "        # In this first line, this is where we define the \"array\" attribute\n",
    "        self.array = np.genfromtxt(self.filename, delimiter=',', dtype=None)\n",
    "        return self.array\n",
    "    \n",
    "    def show_shell(self):\n",
    "        print(self.array)"
   ]
  },
  {
   "cell_type": "markdown",
   "metadata": {},
   "source": [
    "#### Printing the array"
   ]
  },
  {
   "cell_type": "code",
   "execution_count": 83,
   "metadata": {},
   "outputs": [
    {
     "name": "stdout",
     "output_type": "stream",
     "text": [
      "<class 'numpy.ndarray'>\n"
     ]
    },
    {
     "name": "stderr",
     "output_type": "stream",
     "text": [
      "/usr/local/lib/python3.7/site-packages/ipykernel_launcher.py:8: VisibleDeprecationWarning: Reading unicode strings without specifying the encoding argument is deprecated. Set the encoding, use None for the system default.\n",
      "  \n"
     ]
    }
   ],
   "source": [
    "# Must call this method first\n",
    "car_data.create_datashell()\n",
    "\n",
    "# Before you're able to see the array\n",
    "print(type(car_data.array))"
   ]
  },
  {
   "cell_type": "code",
   "execution_count": 84,
   "metadata": {
    "scrolled": true
   },
   "outputs": [
    {
     "name": "stdout",
     "output_type": "stream",
     "text": [
      "[[b'model' b'mpg' b'cyl' b'disp' b'hp' b'drat' b'wt' b'qsec' b'vs' b'am'\n",
      "  b'gear' b'carb']\n",
      " [b'Mazda RX4' b'21' b'6' b'160' b'110' b'3.9' b'2.62' b'16.46' b'0' b'1'\n",
      "  b'4' b'4']\n",
      " [b'Mazda RX4 Wag' b'21' b'6' b'160' b'110' b'3.9' b'2.875' b'17.02' b'0'\n",
      "  b'1' b'4' b'4']\n",
      " [b'Datsun 710' b'22.8' b'4' b'108' b'93' b'3.85' b'2.32' b'18.61' b'1'\n",
      "  b'1' b'4' b'1']\n",
      " [b'Hornet 4 Drive' b'21.4' b'6' b'258' b'110' b'3.08' b'3.215' b'19.44'\n",
      "  b'1' b'0' b'3' b'1']\n",
      " [b'Hornet Sportabout' b'18.7' b'8' b'360' b'175' b'3.15' b'3.44'\n",
      "  b'17.02' b'0' b'0' b'3' b'2']\n",
      " [b'Valiant' b'18.1' b'6' b'225' b'105' b'2.76' b'3.46' b'20.22' b'1'\n",
      "  b'0' b'3' b'1']\n",
      " [b'Duster 360' b'14.3' b'8' b'360' b'245' b'3.21' b'3.57' b'15.84' b'0'\n",
      "  b'0' b'3' b'4']\n",
      " [b'Merc 240D' b'24.4' b'4' b'146.7' b'62' b'3.69' b'3.19' b'20' b'1'\n",
      "  b'0' b'4' b'2']\n",
      " [b'Merc 230' b'22.8' b'4' b'140.8' b'95' b'3.92' b'3.15' b'22.9' b'1'\n",
      "  b'0' b'4' b'2']\n",
      " [b'Merc 280' b'19.2' b'6' b'167.6' b'123' b'3.92' b'3.44' b'18.3' b'1'\n",
      "  b'0' b'4' b'4']\n",
      " [b'Merc 280C' b'17.8' b'6' b'167.6' b'123' b'3.92' b'3.44' b'18.9' b'1'\n",
      "  b'0' b'4' b'4']\n",
      " [b'Merc 450SE' b'16.4' b'8' b'275.8' b'180' b'3.07' b'4.07' b'17.4' b'0'\n",
      "  b'0' b'3' b'3']\n",
      " [b'Merc 450SL' b'17.3' b'8' b'275.8' b'180' b'3.07' b'3.73' b'17.6' b'0'\n",
      "  b'0' b'3' b'3']\n",
      " [b'Merc 450SLC' b'15.2' b'8' b'275.8' b'180' b'3.07' b'3.78' b'18' b'0'\n",
      "  b'0' b'3' b'3']\n",
      " [b'Cadillac Fleetwood' b'10.4' b'8' b'472' b'205' b'2.93' b'5.25'\n",
      "  b'17.98' b'0' b'0' b'3' b'4']\n",
      " [b'Lincoln Continental' b'10.4' b'8' b'460' b'215' b'3' b'5.424'\n",
      "  b'17.82' b'0' b'0' b'3' b'4']\n",
      " [b'Chrysler Imperial' b'14.7' b'8' b'440' b'230' b'3.23' b'5.345'\n",
      "  b'17.42' b'0' b'0' b'3' b'4']\n",
      " [b'Fiat 128' b'32.4' b'4' b'78.7' b'66' b'4.08' b'2.2' b'19.47' b'1'\n",
      "  b'1' b'4' b'1']\n",
      " [b'Honda Civic' b'30.4' b'4' b'75.7' b'52' b'4.93' b'1.615' b'18.52'\n",
      "  b'1' b'1' b'4' b'2']\n",
      " [b'Toyota Corolla' b'33.9' b'4' b'71.1' b'65' b'4.22' b'1.835' b'19.9'\n",
      "  b'1' b'1' b'4' b'1']\n",
      " [b'Toyota Corona' b'21.5' b'4' b'120.1' b'97' b'3.7' b'2.465' b'20.01'\n",
      "  b'1' b'0' b'3' b'1']\n",
      " [b'Dodge Challenger' b'15.5' b'8' b'318' b'150' b'2.76' b'3.52' b'16.87'\n",
      "  b'0' b'0' b'3' b'2']\n",
      " [b'AMC Javelin' b'15.2' b'8' b'304' b'150' b'3.15' b'3.435' b'17.3' b'0'\n",
      "  b'0' b'3' b'2']\n",
      " [b'Camaro Z28' b'13.3' b'8' b'350' b'245' b'3.73' b'3.84' b'15.41' b'0'\n",
      "  b'0' b'3' b'4']\n",
      " [b'Pontiac Firebird' b'19.2' b'8' b'400' b'175' b'3.08' b'3.845'\n",
      "  b'17.05' b'0' b'0' b'3' b'2']\n",
      " [b'Fiat X1-9' b'27.3' b'4' b'79' b'66' b'4.08' b'1.935' b'18.9' b'1'\n",
      "  b'1' b'4' b'1']\n",
      " [b'Porsche 914-2' b'26' b'4' b'120.3' b'91' b'4.43' b'2.14' b'16.7' b'0'\n",
      "  b'1' b'5' b'2']\n",
      " [b'Lotus Europa' b'30.4' b'4' b'95.1' b'113' b'3.77' b'1.513' b'16.9'\n",
      "  b'1' b'1' b'5' b'2']\n",
      " [b'Ford Pantera L' b'15.8' b'8' b'351' b'264' b'4.22' b'3.17' b'14.5'\n",
      "  b'0' b'1' b'5' b'4']\n",
      " [b'Ferrari Dino' b'19.7' b'6' b'145' b'175' b'3.62' b'2.77' b'15.5' b'0'\n",
      "  b'1' b'5' b'6']\n",
      " [b'Maserati Bora' b'15' b'8' b'301' b'335' b'3.54' b'3.57' b'14.6' b'0'\n",
      "  b'1' b'5' b'8']\n",
      " [b'Volvo 142E' b'21.4' b'4' b'121' b'109' b'4.11' b'2.78' b'18.6' b'1'\n",
      "  b'1' b'4' b'2']]\n"
     ]
    }
   ],
   "source": [
    "print(car_data.array)"
   ]
  },
  {
   "cell_type": "markdown",
   "metadata": {},
   "source": [
    "### Renaming Columns and the Five-Figure Summary\n",
    "\n",
    "#### Taking a second look at our column names"
   ]
  },
  {
   "cell_type": "code",
   "execution_count": 92,
   "metadata": {},
   "outputs": [
    {
     "name": "stdout",
     "output_type": "stream",
     "text": [
      "[[b'model' b'mpg' b'cyl' b'disp' b'hp' b'drat' b'wt' b'qsec' b'vs' b'am'\n",
      "  b'gear' b'carb']\n",
      " [b'Mazda RX4' b'21' b'6' b'160' b'110' b'3.9' b'2.62' b'16.46' b'0' b'1'\n",
      "  b'4' b'4']\n",
      " [b'Mazda RX4 Wag' b'21' b'6' b'160' b'110' b'3.9' b'2.875' b'17.02' b'0'\n",
      "  b'1' b'4' b'4']\n",
      " [b'Datsun 710' b'22.8' b'4' b'108' b'93' b'3.85' b'2.32' b'18.61' b'1'\n",
      "  b'1' b'4' b'1']\n",
      " [b'Hornet 4 Drive' b'21.4' b'6' b'258' b'110' b'3.08' b'3.215' b'19.44'\n",
      "  b'1' b'0' b'3' b'1']\n",
      " [b'Hornet Sportabout' b'18.7' b'8' b'360' b'175' b'3.15' b'3.44'\n",
      "  b'17.02' b'0' b'0' b'3' b'2']\n",
      " [b'Valiant' b'18.1' b'6' b'225' b'105' b'2.76' b'3.46' b'20.22' b'1'\n",
      "  b'0' b'3' b'1']\n",
      " [b'Duster 360' b'14.3' b'8' b'360' b'245' b'3.21' b'3.57' b'15.84' b'0'\n",
      "  b'0' b'3' b'4']\n",
      " [b'Merc 240D' b'24.4' b'4' b'146.7' b'62' b'3.69' b'3.19' b'20' b'1'\n",
      "  b'0' b'4' b'2']\n",
      " [b'Merc 230' b'22.8' b'4' b'140.8' b'95' b'3.92' b'3.15' b'22.9' b'1'\n",
      "  b'0' b'4' b'2']\n",
      " [b'Merc 280' b'19.2' b'6' b'167.6' b'123' b'3.92' b'3.44' b'18.3' b'1'\n",
      "  b'0' b'4' b'4']\n",
      " [b'Merc 280C' b'17.8' b'6' b'167.6' b'123' b'3.92' b'3.44' b'18.9' b'1'\n",
      "  b'0' b'4' b'4']\n",
      " [b'Merc 450SE' b'16.4' b'8' b'275.8' b'180' b'3.07' b'4.07' b'17.4' b'0'\n",
      "  b'0' b'3' b'3']\n",
      " [b'Merc 450SL' b'17.3' b'8' b'275.8' b'180' b'3.07' b'3.73' b'17.6' b'0'\n",
      "  b'0' b'3' b'3']\n",
      " [b'Merc 450SLC' b'15.2' b'8' b'275.8' b'180' b'3.07' b'3.78' b'18' b'0'\n",
      "  b'0' b'3' b'3']\n",
      " [b'Cadillac Fleetwood' b'10.4' b'8' b'472' b'205' b'2.93' b'5.25'\n",
      "  b'17.98' b'0' b'0' b'3' b'4']\n",
      " [b'Lincoln Continental' b'10.4' b'8' b'460' b'215' b'3' b'5.424'\n",
      "  b'17.82' b'0' b'0' b'3' b'4']\n",
      " [b'Chrysler Imperial' b'14.7' b'8' b'440' b'230' b'3.23' b'5.345'\n",
      "  b'17.42' b'0' b'0' b'3' b'4']\n",
      " [b'Fiat 128' b'32.4' b'4' b'78.7' b'66' b'4.08' b'2.2' b'19.47' b'1'\n",
      "  b'1' b'4' b'1']\n",
      " [b'Honda Civic' b'30.4' b'4' b'75.7' b'52' b'4.93' b'1.615' b'18.52'\n",
      "  b'1' b'1' b'4' b'2']\n",
      " [b'Toyota Corolla' b'33.9' b'4' b'71.1' b'65' b'4.22' b'1.835' b'19.9'\n",
      "  b'1' b'1' b'4' b'1']\n",
      " [b'Toyota Corona' b'21.5' b'4' b'120.1' b'97' b'3.7' b'2.465' b'20.01'\n",
      "  b'1' b'0' b'3' b'1']\n",
      " [b'Dodge Challenger' b'15.5' b'8' b'318' b'150' b'2.76' b'3.52' b'16.87'\n",
      "  b'0' b'0' b'3' b'2']\n",
      " [b'AMC Javelin' b'15.2' b'8' b'304' b'150' b'3.15' b'3.435' b'17.3' b'0'\n",
      "  b'0' b'3' b'2']\n",
      " [b'Camaro Z28' b'13.3' b'8' b'350' b'245' b'3.73' b'3.84' b'15.41' b'0'\n",
      "  b'0' b'3' b'4']\n",
      " [b'Pontiac Firebird' b'19.2' b'8' b'400' b'175' b'3.08' b'3.845'\n",
      "  b'17.05' b'0' b'0' b'3' b'2']\n",
      " [b'Fiat X1-9' b'27.3' b'4' b'79' b'66' b'4.08' b'1.935' b'18.9' b'1'\n",
      "  b'1' b'4' b'1']\n",
      " [b'Porsche 914-2' b'26' b'4' b'120.3' b'91' b'4.43' b'2.14' b'16.7' b'0'\n",
      "  b'1' b'5' b'2']\n",
      " [b'Lotus Europa' b'30.4' b'4' b'95.1' b'113' b'3.77' b'1.513' b'16.9'\n",
      "  b'1' b'1' b'5' b'2']\n",
      " [b'Ford Pantera L' b'15.8' b'8' b'351' b'264' b'4.22' b'3.17' b'14.5'\n",
      "  b'0' b'1' b'5' b'4']\n",
      " [b'Ferrari Dino' b'19.7' b'6' b'145' b'175' b'3.62' b'2.77' b'15.5' b'0'\n",
      "  b'1' b'5' b'6']\n",
      " [b'Maserati Bora' b'15' b'8' b'301' b'335' b'3.54' b'3.57' b'14.6' b'0'\n",
      "  b'1' b'5' b'8']\n",
      " [b'Volvo 142E' b'21.4' b'4' b'121' b'109' b'4.11' b'2.78' b'18.6' b'1'\n",
      "  b'1' b'4' b'2']]\n"
     ]
    }
   ],
   "source": [
    "print(car_data.array)"
   ]
  },
  {
   "cell_type": "markdown",
   "metadata": {},
   "source": [
    "#### Accessing  Column Names\n",
    "\n",
    "The list of columns can be accessed by calling `self.array[0]` because the first list in the list of lists is the column names.\n",
    "\n",
    "#### Renaming the columns by passing in multiple parameters"
   ]
  },
  {
   "cell_type": "code",
   "execution_count": 121,
   "metadata": {},
   "outputs": [],
   "source": [
    "from scipy import stats\n",
    "\n",
    "class DataShell:\n",
    "    def __init__(self, filename):\n",
    "        self.filename = filename\n",
    "        \n",
    "    def create_datashell(self):\n",
    "        # In this first line, this is where we define the \"array\" attribute\n",
    "        self.array = np.genfromtxt(self.filename, delimiter=',', dtype=None)\n",
    "        return self.array\n",
    "        \n",
    "    def rename_column(self, old_colname, new_colname):\n",
    "        for index, value in enumerate(self.array[0]):\n",
    "            if value == old_colname.encode('UTF-8'):\n",
    "                self.array[0][index] = new_colname\n",
    "        return self.array\n",
    "    \n",
    "    def five_figure_summary(self, col_pos):\n",
    "        statistics = stats.describe(self.array[1:,col_pos].astype(np.float))\n",
    "        return f\"Five-figure status of column {col_pos}: {statistics}\""
   ]
  },
  {
   "cell_type": "code",
   "execution_count": 125,
   "metadata": {},
   "outputs": [],
   "source": [
    "my_data_shell = DataShell('datasets/mtcars.csv')"
   ]
  },
  {
   "cell_type": "markdown",
   "metadata": {},
   "source": [
    "#### Completing the Rename"
   ]
  },
  {
   "cell_type": "code",
   "execution_count": 126,
   "metadata": {},
   "outputs": [
    {
     "name": "stdout",
     "output_type": "stream",
     "text": [
      "[[b'model' b'mpg' b'cylinders' b'disp' b'hp' b'drat' b'wt' b'qsec' b'vs'\n",
      "  b'am' b'gear' b'carb']\n",
      " [b'Mazda RX4' b'21' b'6' b'160' b'110' b'3.9' b'2.62' b'16.46' b'0' b'1'\n",
      "  b'4' b'4']\n",
      " [b'Mazda RX4 Wag' b'21' b'6' b'160' b'110' b'3.9' b'2.875' b'17.02' b'0'\n",
      "  b'1' b'4' b'4']\n",
      " [b'Datsun 710' b'22.8' b'4' b'108' b'93' b'3.85' b'2.32' b'18.61' b'1'\n",
      "  b'1' b'4' b'1']\n",
      " [b'Hornet 4 Drive' b'21.4' b'6' b'258' b'110' b'3.08' b'3.215' b'19.44'\n",
      "  b'1' b'0' b'3' b'1']\n",
      " [b'Hornet Sportabout' b'18.7' b'8' b'360' b'175' b'3.15' b'3.44'\n",
      "  b'17.02' b'0' b'0' b'3' b'2']\n",
      " [b'Valiant' b'18.1' b'6' b'225' b'105' b'2.76' b'3.46' b'20.22' b'1'\n",
      "  b'0' b'3' b'1']\n",
      " [b'Duster 360' b'14.3' b'8' b'360' b'245' b'3.21' b'3.57' b'15.84' b'0'\n",
      "  b'0' b'3' b'4']\n",
      " [b'Merc 240D' b'24.4' b'4' b'146.7' b'62' b'3.69' b'3.19' b'20' b'1'\n",
      "  b'0' b'4' b'2']\n",
      " [b'Merc 230' b'22.8' b'4' b'140.8' b'95' b'3.92' b'3.15' b'22.9' b'1'\n",
      "  b'0' b'4' b'2']\n",
      " [b'Merc 280' b'19.2' b'6' b'167.6' b'123' b'3.92' b'3.44' b'18.3' b'1'\n",
      "  b'0' b'4' b'4']\n",
      " [b'Merc 280C' b'17.8' b'6' b'167.6' b'123' b'3.92' b'3.44' b'18.9' b'1'\n",
      "  b'0' b'4' b'4']\n",
      " [b'Merc 450SE' b'16.4' b'8' b'275.8' b'180' b'3.07' b'4.07' b'17.4' b'0'\n",
      "  b'0' b'3' b'3']\n",
      " [b'Merc 450SL' b'17.3' b'8' b'275.8' b'180' b'3.07' b'3.73' b'17.6' b'0'\n",
      "  b'0' b'3' b'3']\n",
      " [b'Merc 450SLC' b'15.2' b'8' b'275.8' b'180' b'3.07' b'3.78' b'18' b'0'\n",
      "  b'0' b'3' b'3']\n",
      " [b'Cadillac Fleetwood' b'10.4' b'8' b'472' b'205' b'2.93' b'5.25'\n",
      "  b'17.98' b'0' b'0' b'3' b'4']\n",
      " [b'Lincoln Continental' b'10.4' b'8' b'460' b'215' b'3' b'5.424'\n",
      "  b'17.82' b'0' b'0' b'3' b'4']\n",
      " [b'Chrysler Imperial' b'14.7' b'8' b'440' b'230' b'3.23' b'5.345'\n",
      "  b'17.42' b'0' b'0' b'3' b'4']\n",
      " [b'Fiat 128' b'32.4' b'4' b'78.7' b'66' b'4.08' b'2.2' b'19.47' b'1'\n",
      "  b'1' b'4' b'1']\n",
      " [b'Honda Civic' b'30.4' b'4' b'75.7' b'52' b'4.93' b'1.615' b'18.52'\n",
      "  b'1' b'1' b'4' b'2']\n",
      " [b'Toyota Corolla' b'33.9' b'4' b'71.1' b'65' b'4.22' b'1.835' b'19.9'\n",
      "  b'1' b'1' b'4' b'1']\n",
      " [b'Toyota Corona' b'21.5' b'4' b'120.1' b'97' b'3.7' b'2.465' b'20.01'\n",
      "  b'1' b'0' b'3' b'1']\n",
      " [b'Dodge Challenger' b'15.5' b'8' b'318' b'150' b'2.76' b'3.52' b'16.87'\n",
      "  b'0' b'0' b'3' b'2']\n",
      " [b'AMC Javelin' b'15.2' b'8' b'304' b'150' b'3.15' b'3.435' b'17.3' b'0'\n",
      "  b'0' b'3' b'2']\n",
      " [b'Camaro Z28' b'13.3' b'8' b'350' b'245' b'3.73' b'3.84' b'15.41' b'0'\n",
      "  b'0' b'3' b'4']\n",
      " [b'Pontiac Firebird' b'19.2' b'8' b'400' b'175' b'3.08' b'3.845'\n",
      "  b'17.05' b'0' b'0' b'3' b'2']\n",
      " [b'Fiat X1-9' b'27.3' b'4' b'79' b'66' b'4.08' b'1.935' b'18.9' b'1'\n",
      "  b'1' b'4' b'1']\n",
      " [b'Porsche 914-2' b'26' b'4' b'120.3' b'91' b'4.43' b'2.14' b'16.7' b'0'\n",
      "  b'1' b'5' b'2']\n",
      " [b'Lotus Europa' b'30.4' b'4' b'95.1' b'113' b'3.77' b'1.513' b'16.9'\n",
      "  b'1' b'1' b'5' b'2']\n",
      " [b'Ford Pantera L' b'15.8' b'8' b'351' b'264' b'4.22' b'3.17' b'14.5'\n",
      "  b'0' b'1' b'5' b'4']\n",
      " [b'Ferrari Dino' b'19.7' b'6' b'145' b'175' b'3.62' b'2.77' b'15.5' b'0'\n",
      "  b'1' b'5' b'6']\n",
      " [b'Maserati Bora' b'15' b'8' b'301' b'335' b'3.54' b'3.57' b'14.6' b'0'\n",
      "  b'1' b'5' b'8']\n",
      " [b'Volvo 142E' b'21.4' b'4' b'121' b'109' b'4.11' b'2.78' b'18.6' b'1'\n",
      "  b'1' b'4' b'2']]\n"
     ]
    },
    {
     "name": "stderr",
     "output_type": "stream",
     "text": [
      "/usr/local/lib/python3.7/site-packages/ipykernel_launcher.py:9: VisibleDeprecationWarning: Reading unicode strings without specifying the encoding argument is deprecated. Set the encoding, use None for the system default.\n",
      "  if __name__ == '__main__':\n"
     ]
    }
   ],
   "source": [
    "my_data_shell.create_datashell()\n",
    "my_data_shell.rename_column('cyl', 'cylinders')\n",
    "print(my_data_shell.array)"
   ]
  },
  {
   "cell_type": "markdown",
   "metadata": {},
   "source": [
    "#### Five-figure summary"
   ]
  },
  {
   "cell_type": "code",
   "execution_count": 120,
   "metadata": {},
   "outputs": [],
   "source": [
    "def five_figure_summary(self, col_pos):\n",
    "    statistics = stats.describe(self.array[1:,col_pos].astype(np.float))\n",
    "    return f\"Five-figure status of column {col_pos}: {statistics}\""
   ]
  },
  {
   "cell_type": "markdown",
   "metadata": {},
   "source": [
    "Note that `f\"a\"` prints the string `a` with `{b}` being able to reference the variable b."
   ]
  },
  {
   "cell_type": "code",
   "execution_count": 127,
   "metadata": {},
   "outputs": [
    {
     "data": {
      "text/plain": [
       "'Five-figure status of column 1: DescribeResult(nobs=32, minmax=(10.4, 33.9), mean=20.090625000000003, variance=36.32410282258064, skewness=0.6404398640318834, kurtosis=-0.20053320971549793)'"
      ]
     },
     "execution_count": 127,
     "metadata": {},
     "output_type": "execute_result"
    }
   ],
   "source": [
    "my_data_shell.five_figure_summary(1)"
   ]
  },
  {
   "cell_type": "markdown",
   "metadata": {},
   "source": [
    "#### Example 1 from exercises"
   ]
  },
  {
   "cell_type": "code",
   "execution_count": 130,
   "metadata": {},
   "outputs": [
    {
     "name": "stdout",
     "output_type": "stream",
     "text": [
      "               model   mpg  cyl   disp   hp  drat     wt   qsec  vs  am  gear  \\\n",
      "0          Mazda RX4  21.0    6  160.0  110  3.90  2.620  16.46   0   1     4   \n",
      "1      Mazda RX4 Wag  21.0    6  160.0  110  3.90  2.875  17.02   0   1     4   \n",
      "2         Datsun 710  22.8    4  108.0   93  3.85  2.320  18.61   1   1     4   \n",
      "3     Hornet 4 Drive  21.4    6  258.0  110  3.08  3.215  19.44   1   0     3   \n",
      "4  Hornet Sportabout  18.7    8  360.0  175  3.15  3.440  17.02   0   0     3   \n",
      "\n",
      "   carb  \n",
      "0     4  \n",
      "1     4  \n",
      "2     1  \n",
      "3     1  \n",
      "4     2  \n"
     ]
    }
   ],
   "source": [
    "# Import numpy as np, pandas as pd\n",
    "import numpy as np\n",
    "import pandas as pd\n",
    "\n",
    "# Create class: DataShell\n",
    "class DataShell:\n",
    "  \n",
    "    # Define initialization method\n",
    "    def __init__(self, filepath):\n",
    "        # Set filepath as instance variable  \n",
    "        self.filepath = filepath\n",
    "        # Set data_as_csv as instance variable\n",
    "        self.data_as_csv = pd.read_csv(filepath)\n",
    "\n",
    "# Instantiate DataShell as us_data_shell\n",
    "us_data_shell = DataShell('datasets/mtcars.csv')\n",
    "\n",
    "# Print your object's data_as_csv attribute\n",
    "print(us_data_shell.data_as_csv.head())"
   ]
  },
  {
   "cell_type": "markdown",
   "metadata": {},
   "source": [
    "#### Example 2 from exercises"
   ]
  },
  {
   "cell_type": "code",
   "execution_count": 131,
   "metadata": {},
   "outputs": [
    {
     "name": "stdout",
     "output_type": "stream",
     "text": [
      "model     object\n",
      "mpg      float64\n",
      "cyl        int64\n",
      "disp     float64\n",
      "hp         int64\n",
      "drat     float64\n",
      "wt       float64\n",
      "qsec     float64\n",
      "vs         int64\n",
      "am         int64\n",
      "gear       int64\n",
      "carb       int64\n",
      "dtype: object\n",
      "model     object\n",
      "mpg      float64\n",
      "cyl        int64\n",
      "disp     float64\n",
      "hp         int64\n",
      "drat     float64\n",
      "wt       float64\n",
      "qsec     float64\n",
      "vs         int64\n",
      "am         int64\n",
      "gear       int64\n",
      "carb       int64\n",
      "dtype: object\n"
     ]
    }
   ],
   "source": [
    "# Create class DataShell\n",
    "class DataShell:\n",
    "  \n",
    "    # Define initialization method\n",
    "    def __init__(self, filepath):\n",
    "        self.filepath = filepath\n",
    "        self.data_as_csv = pd.read_csv(filepath)\n",
    "    \n",
    "    # Define method rename_column, with arguments self, column_name, and new_column_name\n",
    "    def rename_column(self, column_name, new_column_name):\n",
    "        self.data_as_csv.columns = self.data_as_csv.columns.str.replace(column_name, new_column_name)\n",
    "\n",
    "# Instantiate DataShell as us_data_shell with argument us_life_expectancy\n",
    "us_data_shell = DataShell('datasets/mtcars.csv')\n",
    "\n",
    "# Print the datatype of your object's data_as_csv attribute\n",
    "print(us_data_shell.data_as_csv.dtypes)\n",
    "\n",
    "# Rename your objects column 'code' to 'country_code'\n",
    "us_data_shell.rename_column('code', 'country_code')\n",
    "\n",
    "# Again, print the datatype of your object's data_as_csv attribute\n",
    "print(us_data_shell.data_as_csv.dtypes)"
   ]
  },
  {
   "cell_type": "markdown",
   "metadata": {},
   "source": [
    "#### Example 3 from exercises"
   ]
  },
  {
   "cell_type": "code",
   "execution_count": 132,
   "metadata": {},
   "outputs": [
    {
     "name": "stdout",
     "output_type": "stream",
     "text": [
      "             mpg        cyl        disp          hp       drat         wt  \\\n",
      "count  32.000000  32.000000   32.000000   32.000000  32.000000  32.000000   \n",
      "mean   20.090625   6.187500  230.721875  146.687500   3.596563   3.217250   \n",
      "std     6.026948   1.785922  123.938694   68.562868   0.534679   0.978457   \n",
      "min    10.400000   4.000000   71.100000   52.000000   2.760000   1.513000   \n",
      "25%    15.425000   4.000000  120.825000   96.500000   3.080000   2.581250   \n",
      "50%    19.200000   6.000000  196.300000  123.000000   3.695000   3.325000   \n",
      "75%    22.800000   8.000000  326.000000  180.000000   3.920000   3.610000   \n",
      "max    33.900000   8.000000  472.000000  335.000000   4.930000   5.424000   \n",
      "\n",
      "            qsec         vs         am       gear     carb  \n",
      "count  32.000000  32.000000  32.000000  32.000000  32.0000  \n",
      "mean   17.848750   0.437500   0.406250   3.687500   2.8125  \n",
      "std     1.786943   0.504016   0.498991   0.737804   1.6152  \n",
      "min    14.500000   0.000000   0.000000   3.000000   1.0000  \n",
      "25%    16.892500   0.000000   0.000000   3.000000   2.0000  \n",
      "50%    17.710000   0.000000   0.000000   4.000000   2.0000  \n",
      "75%    18.900000   1.000000   1.000000   4.000000   4.0000  \n",
      "max    22.900000   1.000000   1.000000   5.000000   8.0000  \n"
     ]
    }
   ],
   "source": [
    "# Create class DataShell\n",
    "class DataShell:\n",
    "\n",
    "    # Define initialization method\n",
    "    def __init__(self, filepath):\n",
    "        self.filepath = filepath\n",
    "        self.data_as_csv = pd.read_csv(filepath)\n",
    "\n",
    "    # Define method rename_column, with arguments self, column_name, and new_column_name\n",
    "    def rename_column(self, column_name, new_column_name):\n",
    "        self.data_as_csv.columns = self.data_as_csv.columns.str.replace(column_name, new_column_name)\n",
    "        \n",
    "    # Define get_stats method, with argument self\n",
    "    def get_stats(self):\n",
    "        # Return a description data_as_csv\n",
    "        return self.data_as_csv.describe()\n",
    "    \n",
    "# Instantiate DataShell as us_data_shell\n",
    "us_data_shell = DataShell('datasets/mtcars.csv')\n",
    "\n",
    "# Print the output of your objects get_stats method\n",
    "print(us_data_shell.get_stats())"
   ]
  },
  {
   "cell_type": "markdown",
   "metadata": {},
   "source": [
    "### OOP Best Practices\n",
    "\n",
    "#### Reading Other People's Code\n",
    "1. Check out GitHub Code.\n",
    "2. Check out good examples of Python code.\n",
    "3. Read the codebase.\n",
    "\n",
    "#### Pandas and Spark\n",
    "\n",
    "Full codebase for this class found [here](https://github.com/apache/spark/blob/feeca63198466640ac461a2a34922493fa6162a8/python/pyspark/context.py):"
   ]
  },
  {
   "cell_type": "code",
   "execution_count": null,
   "metadata": {},
   "outputs": [],
   "source": [
    "class SparkContext(object):\n",
    "\n",
    "    \"\"\"\n",
    "    Main entry point for Spark functionality. A SparkContext represents the\n",
    "    connection to a Spark cluster, and can be used to create :class:`RDD` and\n",
    "    broadcast variables on that cluster.\n",
    "    .. note:: Only one :class:`SparkContext` should be active per JVM. You must `stop()`\n",
    "        the active :class:`SparkContext` before creating a new one.\n",
    "    .. note:: :class:`SparkContext` instance is not supported to share across multiple\n",
    "        processes out of the box, and PySpark does not guarantee multi-processing execution.\n",
    "        Use threads instead for concurrent processing purpose.\n",
    "    \"\"\"\n",
    "\n",
    "    _gateway = None\n",
    "    _jvm = None\n",
    "    _next_accum_id = 0\n",
    "    _active_spark_context = None\n",
    "    _lock = RLock()\n",
    "    _python_includes = None  # zip and egg files that need to be added to PYTHONPATH"
   ]
  },
  {
   "cell_type": "markdown",
   "metadata": {},
   "source": [
    "#### Spark Class: The Constructor\n",
    "* Contains several attributes and parameters initialized with the class"
   ]
  },
  {
   "cell_type": "markdown",
   "metadata": {},
   "source": [
    "#### Spark Class: A Method\n",
    "\n",
    "* `printSchema` takes a DataFrame and prints out its schema or column structure for us to look at\n",
    "\n",
    "#### PEP Style\n",
    "* PEP 8 -- Style Guide for Python Code\n",
    "* Some preferred guidelines:\n",
    "    * Preferred use of spaces as an indentation style\n",
    "    * Maximum line length of 79 characters\n",
    "    * Docstrings for class comments, including return parameters\n",
    "    * Class names should normally use the CapWords convention, meaning camelcase.\n",
    "    \n",
    "#### Separation of Concerns\n",
    "* Remember: you want your class to do a single thing or group of things, like a cookie cutter\n",
    "* Separation of concerns is the practice of organizing a program into distinct sections, so that each part of a program addresses one unique unit of work."
   ]
  },
  {
   "cell_type": "markdown",
   "metadata": {},
   "source": [
    "## Chapter 4: Inheritance, polymorphism and composition \n",
    "\n",
    "### Inheritance\n",
    "\n",
    "#### Extending our DataShells\n",
    "Current state of the world:\n",
    "> DataShell --> \"I only process CSV datasets\"\n",
    "\n",
    "But what if we wanted a class that reads in a file from json, or txt format?\n",
    "\n",
    "We could modify DataShell, but that would take some work.\n",
    "\n",
    "OR, we could create another class that has the same functionality as DataShell, and some more of it's own.\n",
    "\n",
    "This is known as **inheritance** -- A class that takes on attributes from another \"parent\" class and adds some more of its own functionality.\n",
    "\n",
    "#### Is a and Has a Relationship\n",
    "* A Pterodactyl **is-a** Dinosaur\n",
    "* A Tyrannosaurus **is-a** Dinosaur\n",
    "* Is a Pterodactl a dinosaur? Yes, pterodactly inherits from dinosaur.\n",
    "* Is a Tyrannosaurus a pterodactyl? No, but they're both dinosaurs.\n",
    "* Is a dinosaur a pterodactyl? No, so it doesn't work the other way, either.\n",
    "\n",
    "#### Inheriting a DataShell"
   ]
  },
  {
   "cell_type": "code",
   "execution_count": 133,
   "metadata": {},
   "outputs": [],
   "source": [
    "# new class which inherits from DataShell: StDevDataShell\n",
    "\n",
    "class StDevDataShell(DataShell): # pass in DataShell here\n",
    "    # no this class inherits all attributes and methods from DataShell\n",
    "    pass"
   ]
  },
  {
   "cell_type": "markdown",
   "metadata": {},
   "source": [
    "#### Example 1 from exercises"
   ]
  },
  {
   "cell_type": "code",
   "execution_count": 135,
   "metadata": {},
   "outputs": [
    {
     "name": "stdout",
     "output_type": "stream",
     "text": [
      "<__main__.Mammal object at 0x12bd86310>\n",
      "<__main__.Reptile object at 0x12bd86c50>\n"
     ]
    }
   ],
   "source": [
    "# Create a class Animal\n",
    "class Animal:\n",
    "    def __init__(self, name):\n",
    "        self.name = name\n",
    "\n",
    "# Create a class Mammal, which inherits from Animal\n",
    "class Mammal(Animal):\n",
    "    def __init__(self, name, animal_type):\n",
    "        self.animal_type = animal_type\n",
    "\n",
    "# Create a class Reptile, which also inherits from Animal\n",
    "class Reptile(Animal):\n",
    "    def __init__(self, name, animal_type):\n",
    "        self.animal_type = animal_type\n",
    "\n",
    "# Instantiate a mammal with name 'Daisy' and animal_type 'dog': daisy\n",
    "daisy = Mammal('Daisy', 'dog')\n",
    "\n",
    "# Instantiate a reptile with name 'Stella' and animal_type 'alligator': stella\n",
    "stella = Reptile('Stella', 'alligator')\n",
    "\n",
    "# Print both objects\n",
    "print(daisy)\n",
    "print(stella)"
   ]
  },
  {
   "cell_type": "markdown",
   "metadata": {},
   "source": [
    "#### Example 2 from exercises"
   ]
  },
  {
   "cell_type": "code",
   "execution_count": 136,
   "metadata": {},
   "outputs": [
    {
     "name": "stdout",
     "output_type": "stream",
     "text": [
      "Stella Spinal cord: True\n",
      "Stella temperature regulation: False\n",
      "Daisy Spinal cord: True\n",
      "Daisy temperature regulation: True\n"
     ]
    }
   ],
   "source": [
    "# Create a class Vertebrate\n",
    "class Vertebrate:\n",
    "    spinal_cord = True\n",
    "    def __init__(self, name):\n",
    "        self.name = name\n",
    "\n",
    "# Create a class Mammal, which inherits from Vertebrate\n",
    "class Mammal(Vertebrate):\n",
    "    def __init__(self, name, animal_type):\n",
    "        self.animal_type = animal_type\n",
    "        self.temperature_regulation = True\n",
    "\n",
    "# Create a class Reptile, which also inherits from Vertebrate\n",
    "class Reptile(Vertebrate):\n",
    "    def __init__(self, name, animal_type):\n",
    "        self.animal_type = animal_type\n",
    "        self.temperature_regulation = False\n",
    "\n",
    "# Instantiate a mammal with name 'Daisy' and animal_type 'dog': daisy\n",
    "daisy = Mammal('Daisy', 'dog')\n",
    "\n",
    "# Instantiate a reptile with name 'Stella' and animal_type 'alligator': stella\n",
    "stella = Reptile('Stella', 'alligator')\n",
    "\n",
    "# Print stella's attributes spinal_cord and temperature_regulation\n",
    "print(\"Stella Spinal cord: \" + str(stella.spinal_cord))\n",
    "print(\"Stella temperature regulation: \" + str(stella.temperature_regulation))\n",
    "\n",
    "# Print daisy's attributes spinal_cord and temperature_regulation\n",
    "print(\"Daisy Spinal cord: \" + str(daisy.spinal_cord))\n",
    "print(\"Daisy temperature regulation: \" + str(daisy.temperature_regulation))"
   ]
  },
  {
   "cell_type": "markdown",
   "metadata": {},
   "source": [
    "### Inheritance with DataShells\n",
    "\n",
    "#### DataShell with Standard Deviation\n",
    "* Same DataShell class with additional functionality\n",
    "\n",
    "#### Changing the DataShell"
   ]
  },
  {
   "cell_type": "code",
   "execution_count": 144,
   "metadata": {},
   "outputs": [],
   "source": [
    "from scipy import stats\n",
    "\n",
    "class DataShell:\n",
    "    def __init__(self, filename):\n",
    "        self.filename = filename\n",
    "        \n",
    "    def create_datashell(self):\n",
    "        # In this first line, this is where we define the \"array\" attribute\n",
    "        self.array = np.genfromtxt(self.filename, delimiter=',', dtype=None)\n",
    "        return self.array\n",
    "        \n",
    "    def rename_column(self, old_colname, new_colname):\n",
    "        for index, value in enumerate(self.array[0]):\n",
    "            if value == old_colname.encode('UTF-8'):\n",
    "                self.array[0][index] = new_colname\n",
    "        return self.array\n",
    "    \n",
    "    def five_figure_summary(self, col_pos):\n",
    "        statistics = stats.describe(self.array[1:,col_pos].astype(np.float))\n",
    "        return f\"Five-figure status of column {col_pos}: {statistics}\""
   ]
  },
  {
   "cell_type": "markdown",
   "metadata": {},
   "source": [
    "#### Allowing for a standard deviation"
   ]
  },
  {
   "cell_type": "code",
   "execution_count": 145,
   "metadata": {},
   "outputs": [],
   "source": [
    "def get_stdev(self, col_pos):\n",
    "    column = self.array[1:, col_pos].astype(np.float)\n",
    "    stdev = np.ndarray.std(column, axis=0)\n",
    "    return f\"Standard Deviation of column {col_pos}: {stdev}\""
   ]
  },
  {
   "cell_type": "markdown",
   "metadata": {},
   "source": [
    "#### Inheritance with DataShells"
   ]
  },
  {
   "cell_type": "code",
   "execution_count": 146,
   "metadata": {},
   "outputs": [],
   "source": [
    "class DataStDev(DataShell):\n",
    "    \n",
    "    def __init__(self, filename):\n",
    "        DataShell.filename = filename\n",
    "        \n",
    "    def get_stdev(self, col_pos):\n",
    "        column = self.array[1:, col_pos].astype(np.float)\n",
    "        stdev = np.ndarray.std(column, axis=0)\n",
    "        return f\"Standard Deviation of column {col_pos}: {stdev}\""
   ]
  },
  {
   "cell_type": "markdown",
   "metadata": {},
   "source": [
    "#### Calling our new DataShell"
   ]
  },
  {
   "cell_type": "code",
   "execution_count": 147,
   "metadata": {},
   "outputs": [
    {
     "name": "stderr",
     "output_type": "stream",
     "text": [
      "/usr/local/lib/python3.7/site-packages/ipykernel_launcher.py:9: VisibleDeprecationWarning: Reading unicode strings without specifying the encoding argument is deprecated. Set the encoding, use None for the system default.\n",
      "  if __name__ == '__main__':\n"
     ]
    },
    {
     "data": {
      "text/plain": [
       "'Standard Deviation of column 1: 5.932029552301218'"
      ]
     },
     "execution_count": 147,
     "metadata": {},
     "output_type": "execute_result"
    }
   ],
   "source": [
    "car_data = 'datasets/mtcars.csv'\n",
    "\n",
    "my_st_dev_shell = DataStDev(car_data)\n",
    "my_st_dev_shell.create_datashell()\n",
    "my_st_dev_shell.get_stdev(1)"
   ]
  },
  {
   "cell_type": "markdown",
   "metadata": {},
   "source": [
    "### Composition\n",
    "\n",
    "#### Inheritance verses Composition\n",
    "* Inheritance: uses the structure of another class to add onto a current class. Is-a relationship of dependencies\n",
    "* Composition: takes elements of several differernt classes to create a kind of \"Frankenstein\" class\n",
    "\n",
    "#### Composition In a DataShell - 1\n",
    "Five-Figure Summary Composition"
   ]
  },
  {
   "cell_type": "code",
   "execution_count": 150,
   "metadata": {},
   "outputs": [],
   "source": [
    "# Doesn't use anything else from the class\n",
    "def five_figure_summary(self, col_pos):\n",
    "    statistics = stats.describe(self.array[1:,col_pos].astype(np.float))\n",
    "    return f\"Five-figure status of column {col_pos}: {statistics}\""
   ]
  },
  {
   "cell_type": "markdown",
   "metadata": {},
   "source": [
    "#### Composition In a DataShell - 2\n",
    "Create DataShell Composition\""
   ]
  },
  {
   "cell_type": "code",
   "execution_count": 149,
   "metadata": {},
   "outputs": [],
   "source": [
    "# Also doesn't use anything else from the class\n",
    "def create_datashell(self):\n",
    "    data_array = np.genfromtext(self.filename, delimiiter=',', dtype=None)\n",
    "    self.array = data_array\n",
    "    return self.array"
   ]
  },
  {
   "cell_type": "markdown",
   "metadata": {},
   "source": [
    "#### Composing with Pandas\n",
    "Create DataShell Composition:\n"
   ]
  },
  {
   "cell_type": "code",
   "execution_count": 156,
   "metadata": {},
   "outputs": [],
   "source": [
    "# Original class\n",
    "class DataShell:\n",
    "    \n",
    "    def __init__(self, filename):\n",
    "        self.filename = filename\n",
    "        \n",
    "    def create_datashell(self):\n",
    "        data_array = np.genfromtext(self.filename, delimiiter=',', dtype=None)\n",
    "        self.array = data_array\n",
    "        return self.array "
   ]
  },
  {
   "cell_type": "code",
   "execution_count": 159,
   "metadata": {},
   "outputs": [],
   "source": [
    "# Class replaced with pandas\n",
    "class DataShellComposed:\n",
    "    \n",
    "    def __init__(self, filename):\n",
    "        self.filename = filename\n",
    "        \n",
    "    def create_datashell(self):\n",
    "        self.df = pd.read_csv(self.filename) # Only downside is that you don't know what's going on under the hood\n",
    "        return self.df "
   ]
  },
  {
   "cell_type": "markdown",
   "metadata": {},
   "source": [
    "#### What does our new class look like?"
   ]
  },
  {
   "cell_type": "code",
   "execution_count": 160,
   "metadata": {},
   "outputs": [
    {
     "name": "stdout",
     "output_type": "stream",
     "text": [
      "<class 'pandas.core.frame.DataFrame'>\n"
     ]
    }
   ],
   "source": [
    "car_data = 'datasets/mtcars.csv'\n",
    "my_data_shell = DataShellComposed(car_data)\n",
    "my_data_shell.create_datashell()\n",
    "print(type(my_data_shell.df))"
   ]
  },
  {
   "cell_type": "markdown",
   "metadata": {},
   "source": [
    "#### Example 1 from exerciese"
   ]
  },
  {
   "cell_type": "code",
   "execution_count": 161,
   "metadata": {},
   "outputs": [
    {
     "name": "stdout",
     "output_type": "stream",
     "text": [
      "             mpg        cyl        disp          hp       drat         wt  \\\n",
      "count  32.000000  32.000000   32.000000   32.000000  32.000000  32.000000   \n",
      "mean   20.090625   6.187500  230.721875  146.687500   3.596563   3.217250   \n",
      "std     6.026948   1.785922  123.938694   68.562868   0.534679   0.978457   \n",
      "min    10.400000   4.000000   71.100000   52.000000   2.760000   1.513000   \n",
      "25%    15.425000   4.000000  120.825000   96.500000   3.080000   2.581250   \n",
      "50%    19.200000   6.000000  196.300000  123.000000   3.695000   3.325000   \n",
      "75%    22.800000   8.000000  326.000000  180.000000   3.920000   3.610000   \n",
      "max    33.900000   8.000000  472.000000  335.000000   4.930000   5.424000   \n",
      "\n",
      "            qsec         vs         am       gear     carb  \n",
      "count  32.000000  32.000000  32.000000  32.000000  32.0000  \n",
      "mean   17.848750   0.437500   0.406250   3.687500   2.8125  \n",
      "std     1.786943   0.504016   0.498991   0.737804   1.6152  \n",
      "min    14.500000   0.000000   0.000000   3.000000   1.0000  \n",
      "25%    16.892500   0.000000   0.000000   3.000000   2.0000  \n",
      "50%    17.710000   0.000000   0.000000   4.000000   2.0000  \n",
      "75%    18.900000   1.000000   1.000000   4.000000   4.0000  \n",
      "max    22.900000   1.000000   1.000000   5.000000   8.0000  \n"
     ]
    }
   ],
   "source": [
    "# Define abstract class DataShell\n",
    "class DataShell:\n",
    "    # Class variable family\n",
    "    family = 'DataShell'\n",
    "    # Initialization method with arguments, and instance variables\n",
    "    def __init__(self, name, filepath): \n",
    "        self.name = name\n",
    "        self.filepath = filepath\n",
    "\n",
    "# Define class CsvDataShell      \n",
    "class CsvDataShell(DataShell):\n",
    "    # Initialization method with arguments self, name, filepath\n",
    "    def __init__(self, name, filepath):\n",
    "        # Instance variable data\n",
    "        self.data = pd.read_csv(filepath)\n",
    "        # Instance variable stats\n",
    "        self.stats = self.data.describe()\n",
    "\n",
    "# Instantiate CsvDataShell as us_data_shell\n",
    "us_data_shell = CsvDataShell(\"US\", 'datasets/mtcars.csv')\n",
    "\n",
    "# Print us_data_shell.stats\n",
    "print(us_data_shell.stats)"
   ]
  },
  {
   "cell_type": "markdown",
   "metadata": {},
   "source": [
    "#### Example 2 from exercisese"
   ]
  },
  {
   "cell_type": "code",
   "execution_count": 163,
   "metadata": {},
   "outputs": [
    {
     "name": "stdout",
     "output_type": "stream",
     "text": [
      "             mpg        cyl        disp          hp       drat         wt  \\\n",
      "count  32.000000  32.000000   32.000000   32.000000  32.000000  32.000000   \n",
      "mean   20.090625   6.187500  230.721875  146.687500   3.596563   3.217250   \n",
      "std     6.026948   1.785922  123.938694   68.562868   0.534679   0.978457   \n",
      "min    10.400000   4.000000   71.100000   52.000000   2.760000   1.513000   \n",
      "25%    15.425000   4.000000  120.825000   96.500000   3.080000   2.581250   \n",
      "50%    19.200000   6.000000  196.300000  123.000000   3.695000   3.325000   \n",
      "75%    22.800000   8.000000  326.000000  180.000000   3.920000   3.610000   \n",
      "max    33.900000   8.000000  472.000000  335.000000   4.930000   5.424000   \n",
      "\n",
      "            qsec         vs         am       gear     carb  \n",
      "count  32.000000  32.000000  32.000000  32.000000  32.0000  \n",
      "mean   17.848750   0.437500   0.406250   3.687500   2.8125  \n",
      "std     1.786943   0.504016   0.498991   0.737804   1.6152  \n",
      "min    14.500000   0.000000   0.000000   3.000000   1.0000  \n",
      "25%    16.892500   0.000000   0.000000   3.000000   2.0000  \n",
      "50%    17.710000   0.000000   0.000000   4.000000   2.0000  \n",
      "75%    18.900000   1.000000   1.000000   4.000000   4.0000  \n",
      "max    22.900000   1.000000   1.000000   5.000000   8.0000  \n",
      "       model,mpg,cyl,disp,hp,drat,wt,qsec,vs,am,gear,carb\n",
      "count                                                  32\n",
      "unique                                                 32\n",
      "top     Cadillac Fleetwood,10.4,8,472,205,2.93,5.25,17...\n",
      "freq                                                    1\n"
     ]
    }
   ],
   "source": [
    "# Define abstract class DataShell\n",
    "class DataShell:\n",
    "    family = 'DataShell'\n",
    "    def __init__(self, name, filepath): \n",
    "        self.name = name\n",
    "        self.filepath = filepath\n",
    "\n",
    "# Define class CsvDataShell\n",
    "class CsvDataShell(DataShell):\n",
    "    def __init__(self, name, filepath):\n",
    "        self.data = pd.read_csv(filepath)\n",
    "        self.stats = self.data.describe()\n",
    "\n",
    "# Define class TsvDataShell\n",
    "class TsvDataShell(DataShell):\n",
    "    # Initialization method with arguments self, name, filepath\n",
    "    def __init__(self, name, filepath):\n",
    "        # Instance variable data\n",
    "        self.data = pd.read_table(filepath)\n",
    "        # Instance variable stats\n",
    "        self.stats = self.data.describe()\n",
    "\n",
    "# Instantiate CsvDataShell as us_data_shell, print us_data_shell.stats\n",
    "us_data_shell = CsvDataShell(\"US\", 'datasets/mtcars.csv')\n",
    "print(us_data_shell.stats)\n",
    "\n",
    "# Instantiate TsvDataShell as france_data_shell, print france_data_shell.stats\n",
    "france_data_shell = TsvDataShell(\"US\", 'datasets/mtcars.csv')\n",
    "print(france_data_shell.stats)"
   ]
  },
  {
   "cell_type": "code",
   "execution_count": null,
   "metadata": {},
   "outputs": [],
   "source": []
  }
 ],
 "metadata": {
  "kernelspec": {
   "display_name": "Python 3",
   "language": "python",
   "name": "python3"
  },
  "language_info": {
   "codemirror_mode": {
    "name": "ipython",
    "version": 3
   },
   "file_extension": ".py",
   "mimetype": "text/x-python",
   "name": "python",
   "nbconvert_exporter": "python",
   "pygments_lexer": "ipython3",
   "version": "3.7.7"
  }
 },
 "nbformat": 4,
 "nbformat_minor": 2
}

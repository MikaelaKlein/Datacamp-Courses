{
 "cells": [
  {
   "cell_type": "markdown",
   "metadata": {},
   "source": [
    "# Python Data Science Toolbox (Part 2)\n",
    "\n",
    "## Chapter 1: Using iterators in PythonLand\n",
    "\n",
    "### Introduction to iterators\n",
    "\n",
    "#### Iterating with a for loop\n",
    "* We can iterate over a list using a for loop"
   ]
  },
  {
   "cell_type": "code",
   "execution_count": 53,
   "metadata": {},
   "outputs": [
    {
     "name": "stdout",
     "output_type": "stream",
     "text": [
      "Nick\n",
      "Lore\n",
      "Hugo\n"
     ]
    }
   ],
   "source": [
    "employees = ['Nick', 'Lore', 'Hugo']\n",
    "\n",
    "for employee in employees:\n",
    "    print(employee)"
   ]
  },
  {
   "cell_type": "markdown",
   "metadata": {},
   "source": [
    "#### Iterators vs. iterables\n",
    "* Iterable\n",
    "    * Examples: lists, strings, dictionaries, file connections\n",
    "    * An object with an associated `iter()` method\n",
    "    * Applying `iter()` to an interable creates an iterator\n",
    "* Iterator\n",
    "    * Produces next value with `next()`\n",
    "    \n",
    "#### Iterating over iterables: next()\n",
    "* Calling next on the iterator returns the next value until there is nothing else left to return"
   ]
  },
  {
   "cell_type": "code",
   "execution_count": 1,
   "metadata": {},
   "outputs": [
    {
     "data": {
      "text/plain": [
       "'D'"
      ]
     },
     "execution_count": 1,
     "metadata": {},
     "output_type": "execute_result"
    }
   ],
   "source": [
    "word = 'Da'\n",
    "it = iter(word)\n",
    "next(it)"
   ]
  },
  {
   "cell_type": "code",
   "execution_count": 2,
   "metadata": {},
   "outputs": [
    {
     "data": {
      "text/plain": [
       "'a'"
      ]
     },
     "execution_count": 2,
     "metadata": {},
     "output_type": "execute_result"
    }
   ],
   "source": [
    "next(it)"
   ]
  },
  {
   "cell_type": "code",
   "execution_count": 3,
   "metadata": {},
   "outputs": [
    {
     "ename": "StopIteration",
     "evalue": "",
     "output_type": "error",
     "traceback": [
      "\u001b[0;31m---------------------------------------------------------------------------\u001b[0m",
      "\u001b[0;31mStopIteration\u001b[0m                             Traceback (most recent call last)",
      "\u001b[0;32m<ipython-input-3-bc1ab118995a>\u001b[0m in \u001b[0;36m<module>\u001b[0;34m\u001b[0m\n\u001b[0;32m----> 1\u001b[0;31m \u001b[0mnext\u001b[0m\u001b[0;34m(\u001b[0m\u001b[0mit\u001b[0m\u001b[0;34m)\u001b[0m\u001b[0;34m\u001b[0m\u001b[0m\n\u001b[0m",
      "\u001b[0;31mStopIteration\u001b[0m: "
     ]
    }
   ],
   "source": [
    "next(it)"
   ]
  },
  {
   "cell_type": "markdown",
   "metadata": {},
   "source": [
    "#### Iterating at once with *\n",
    "* You can also print all the values of an iterator in one fell swoop using the star operator\n",
    "* This is referred to as the \"splat\" operator in some circles"
   ]
  },
  {
   "cell_type": "code",
   "execution_count": 4,
   "metadata": {},
   "outputs": [
    {
     "name": "stdout",
     "output_type": "stream",
     "text": [
      "D a t a\n"
     ]
    }
   ],
   "source": [
    "word = 'Data'\n",
    "it = iter(word)\n",
    "print(*it)"
   ]
  },
  {
   "cell_type": "markdown",
   "metadata": {},
   "source": [
    "#### Iterating over dictionaries"
   ]
  },
  {
   "cell_type": "code",
   "execution_count": 5,
   "metadata": {},
   "outputs": [
    {
     "name": "stdout",
     "output_type": "stream",
     "text": [
      "hugo bowne-anderson\n",
      "francis castro\n"
     ]
    }
   ],
   "source": [
    "pythonistas = {'hugo':'bowne-anderson', 'francis':'castro'}\n",
    "for key, value in pythonistas.items():\n",
    "    print(key, value)"
   ]
  },
  {
   "cell_type": "markdown",
   "metadata": {},
   "source": [
    "#### Iterating over file connections"
   ]
  },
  {
   "cell_type": "code",
   "execution_count": 10,
   "metadata": {},
   "outputs": [
    {
     "name": "stdout",
     "output_type": "stream",
     "text": [
      "\n",
      "\n"
     ]
    }
   ],
   "source": [
    "file = open('datasets/huck_finn.txt')\n",
    "it = iter(file)\n",
    "print(next(it))"
   ]
  },
  {
   "cell_type": "code",
   "execution_count": 12,
   "metadata": {},
   "outputs": [
    {
     "name": "stdout",
     "output_type": "stream",
     "text": [
      "The Project Gutenberg EBook of Adventures of Huckleberry Finn, Complete\n",
      "\n"
     ]
    }
   ],
   "source": [
    "print(next(it))"
   ]
  },
  {
   "cell_type": "markdown",
   "metadata": {},
   "source": [
    "### Playing with iterators\n",
    "\n",
    "#### Using enumerate()\n",
    "* `enumerate()` is a function that takes any iterable as an argument, and returns a special \"enumerate\" object, which consists of pairs containing the elements of the original iterable, along with their index within the iterable"
   ]
  },
  {
   "cell_type": "code",
   "execution_count": 13,
   "metadata": {},
   "outputs": [
    {
     "name": "stdout",
     "output_type": "stream",
     "text": [
      "<class 'enumerate'>\n"
     ]
    }
   ],
   "source": [
    "avengers = ['hawkeye', 'iron man', 'thor', 'quicksilver']\n",
    "e = enumerate(avengers)\n",
    "print(type(e))"
   ]
  },
  {
   "cell_type": "code",
   "execution_count": 14,
   "metadata": {},
   "outputs": [
    {
     "name": "stdout",
     "output_type": "stream",
     "text": [
      "[(0, 'hawkeye'), (1, 'iron man'), (2, 'thor'), (3, 'quicksilver')]\n"
     ]
    }
   ],
   "source": [
    "e_list = list(e)\n",
    "print(e_list)"
   ]
  },
  {
   "cell_type": "markdown",
   "metadata": {},
   "source": [
    "#### enumerate() and unpack\n",
    "* The `enumerate()` object itself is also an iterable, and we can loop over it while unpacking its elements"
   ]
  },
  {
   "cell_type": "code",
   "execution_count": 16,
   "metadata": {},
   "outputs": [
    {
     "name": "stdout",
     "output_type": "stream",
     "text": [
      "0 hawkeye\n",
      "1 iron man\n",
      "2 thor\n",
      "3 quicksilver\n"
     ]
    }
   ],
   "source": [
    "avengers = ['hawkeye', 'iron man', 'thor', 'quicksilver']\n",
    "for index, value in enumerate(avengers):\n",
    "    print(index, value)"
   ]
  },
  {
   "cell_type": "code",
   "execution_count": 17,
   "metadata": {},
   "outputs": [
    {
     "name": "stdout",
     "output_type": "stream",
     "text": [
      "10 hawkeye\n",
      "11 iron man\n",
      "12 thor\n",
      "13 quicksilver\n"
     ]
    }
   ],
   "source": [
    "# To change the default start index, use the optional argument 'start'\n",
    "\n",
    "for index, value in enumerate(avengers, start = 10):\n",
    "    print(index, value)"
   ]
  },
  {
   "cell_type": "markdown",
   "metadata": {},
   "source": [
    "#### Using zip()\n",
    "* `zip()` accepts an arbitrary number of iterables and returns an iterator of tuples"
   ]
  },
  {
   "cell_type": "code",
   "execution_count": 58,
   "metadata": {},
   "outputs": [
    {
     "name": "stdout",
     "output_type": "stream",
     "text": [
      "<class 'zip'>\n"
     ]
    }
   ],
   "source": [
    "avengers = ['hawkeye', 'iron man', 'thor', 'quicksilver']\n",
    "names = ['barton', 'stark', 'odinson', 'maximoff']\n",
    "\n",
    "z = zip(avengers, names)\n",
    "print(type(z))"
   ]
  },
  {
   "cell_type": "code",
   "execution_count": 59,
   "metadata": {},
   "outputs": [
    {
     "data": {
      "text/plain": [
       "[('hawkeye', 'barton'),\n",
       " ('iron man', 'stark'),\n",
       " ('thor', 'odinson'),\n",
       " ('quicksilver', 'maximoff')]"
      ]
     },
     "execution_count": 59,
     "metadata": {},
     "output_type": "execute_result"
    }
   ],
   "source": [
    "z_list = list(z)\n",
    "z_list"
   ]
  },
  {
   "cell_type": "markdown",
   "metadata": {},
   "source": [
    "#### zip() and unpack"
   ]
  },
  {
   "cell_type": "code",
   "execution_count": 20,
   "metadata": {},
   "outputs": [
    {
     "name": "stdout",
     "output_type": "stream",
     "text": [
      "hawkeye barton\n",
      "iron man stark\n",
      "thor odinson\n",
      "quicksilver maximoff\n"
     ]
    }
   ],
   "source": [
    "for z1, z2 in zip(avengers, names):\n",
    "    print(z1, z2)"
   ]
  },
  {
   "cell_type": "code",
   "execution_count": 22,
   "metadata": {},
   "outputs": [
    {
     "name": "stdout",
     "output_type": "stream",
     "text": [
      "('hawkeye', 'barton') ('iron man', 'stark') ('thor', 'odinson') ('quicksilver', 'maximoff')\n"
     ]
    }
   ],
   "source": [
    "z = zip(avengers, names)\n",
    "print(*z)"
   ]
  },
  {
   "cell_type": "markdown",
   "metadata": {},
   "source": [
    "### Using iterators to load large files into memory\n",
    "\n",
    "#### Loading data in chunks\n",
    "* There can be too much data to hold in memory\n",
    "* Solution: load data in chunks!\n",
    "* Pandas function `read_csv()`\n",
    "    * Specify the chunk: `chunk_size`\n",
    "    \n",
    "#### Iterating over data"
   ]
  },
  {
   "cell_type": "code",
   "execution_count": 24,
   "metadata": {},
   "outputs": [
    {
     "data": {
      "text/plain": [
       "28693.949299999967"
      ]
     },
     "execution_count": 24,
     "metadata": {},
     "output_type": "execute_result"
    }
   ],
   "source": [
    "import pandas as pd\n",
    "result = []\n",
    "\n",
    "for chunk in pd.read_csv('datasets/titanic.csv', chunksize=1000):\n",
    "    result.append(sum(chunk['Fare']))\n",
    "\n",
    "total = sum(result)\n",
    "total"
   ]
  },
  {
   "cell_type": "code",
   "execution_count": 25,
   "metadata": {},
   "outputs": [
    {
     "data": {
      "text/plain": [
       "28693.949299999967"
      ]
     },
     "execution_count": 25,
     "metadata": {},
     "output_type": "execute_result"
    }
   ],
   "source": [
    "# another way\n",
    "total = 0\n",
    "\n",
    "for chunk in pd.read_csv('datasets/titanic.csv', chunksize=1000):\n",
    "    total += sum(chunk['Fare'])\n",
    "\n",
    "total"
   ]
  },
  {
   "cell_type": "markdown",
   "metadata": {},
   "source": [
    "## Chapter 2: List comprehensions and generators\n",
    "\n",
    "### List comprehensions\n",
    "\n",
    "#### Populate a list with a for loop\n",
    "* Let's say you have a list and want to add 1 to each element in the list\n",
    "* You can loop through all of the values in a for loop, but for loops are inefficient, both computationally, and in terms of coding time and space, particualry when you could do this in one line of code"
   ]
  },
  {
   "cell_type": "code",
   "execution_count": 26,
   "metadata": {},
   "outputs": [
    {
     "name": "stdout",
     "output_type": "stream",
     "text": [
      "[13, 9, 22, 4, 17]\n"
     ]
    }
   ],
   "source": [
    "nums = [12, 8, 21, 3, 16]\n",
    "\n",
    "new_nums = []\n",
    "\n",
    "for num in nums:\n",
    "    new_nums.append(num + 1)\n",
    "    \n",
    "print(new_nums)"
   ]
  },
  {
   "cell_type": "markdown",
   "metadata": {},
   "source": [
    "####  A list comprehension"
   ]
  },
  {
   "cell_type": "code",
   "execution_count": 27,
   "metadata": {},
   "outputs": [
    {
     "data": {
      "text/plain": [
       "[13, 9, 22, 4, 17]"
      ]
     },
     "execution_count": 27,
     "metadata": {},
     "output_type": "execute_result"
    }
   ],
   "source": [
    "nums = [12, 8, 21, 3, 16]\n",
    "new_nums = [num + 1 for num in nums]\n",
    "new_nums"
   ]
  },
  {
   "cell_type": "markdown",
   "metadata": {},
   "source": [
    "#### List comprehension with range()"
   ]
  },
  {
   "cell_type": "code",
   "execution_count": 28,
   "metadata": {},
   "outputs": [
    {
     "name": "stdout",
     "output_type": "stream",
     "text": [
      "[0, 1, 2, 3, 4, 5, 6, 7, 8, 9, 10]\n"
     ]
    }
   ],
   "source": [
    "result = [num for num in range(11)]\n",
    "print(result)"
   ]
  },
  {
   "cell_type": "markdown",
   "metadata": {},
   "source": [
    "#### List comprehensions\n",
    "* Collapse for loops for building list into a single line\n",
    "* Components\n",
    "    * Iterable\n",
    "    * Iterator variable (represent members of iterable)\n",
    "    * Output expression"
   ]
  },
  {
   "cell_type": "markdown",
   "metadata": {},
   "source": [
    "#### Nested loops (1)"
   ]
  },
  {
   "cell_type": "code",
   "execution_count": 32,
   "metadata": {},
   "outputs": [
    {
     "name": "stdout",
     "output_type": "stream",
     "text": [
      "[(0, 6), (0, 7), (1, 6), (1, 7)]\n"
     ]
    }
   ],
   "source": [
    "pairs_1 = []\n",
    "\n",
    "for num1 in range(0,2):\n",
    "    for num2 in range(6,8):\n",
    "        pairs_1.append((num1, num2))\n",
    "        \n",
    "print(pairs_1)"
   ]
  },
  {
   "cell_type": "markdown",
   "metadata": {},
   "source": [
    "* How to do this with a list comprehension?\n",
    "\n",
    "#### Nested loops (2)"
   ]
  },
  {
   "cell_type": "code",
   "execution_count": 33,
   "metadata": {},
   "outputs": [
    {
     "data": {
      "text/plain": [
       "[(0, 6), (0, 7), (1, 6), (1, 7)]"
      ]
     },
     "execution_count": 33,
     "metadata": {},
     "output_type": "execute_result"
    }
   ],
   "source": [
    "pairs_2 = [(num1, num2) for num1 in range(0, 2) for num2 in range(6, 8)]\n",
    "pairs_2"
   ]
  },
  {
   "cell_type": "markdown",
   "metadata": {},
   "source": [
    "### Advanced comprehensions\n",
    "\n",
    "#### Conditionals in comprehensions\n",
    "* Conditionals on the iterable"
   ]
  },
  {
   "cell_type": "code",
   "execution_count": 34,
   "metadata": {},
   "outputs": [
    {
     "data": {
      "text/plain": [
       "[0, 4, 16, 36, 64]"
      ]
     },
     "execution_count": 34,
     "metadata": {},
     "output_type": "execute_result"
    }
   ],
   "source": [
    "[num ** 2 for num in range(10) if num % 2 == 0]"
   ]
  },
  {
   "cell_type": "markdown",
   "metadata": {},
   "source": [
    "* Conditionals on the output expression"
   ]
  },
  {
   "cell_type": "code",
   "execution_count": 61,
   "metadata": {},
   "outputs": [
    {
     "data": {
      "text/plain": [
       "[0, 0, 4, 0, 16, 0, 36, 0, 64, 0]"
      ]
     },
     "execution_count": 61,
     "metadata": {},
     "output_type": "execute_result"
    }
   ],
   "source": [
    "[num ** 2 if num % 2 == 0 else 0 for num in range(10)]"
   ]
  },
  {
   "cell_type": "markdown",
   "metadata": {},
   "source": [
    "#### Dict comprehensions\n",
    "* Create dictionaries\n",
    "* Use curly braces `{}` instead of brackets `[]`"
   ]
  },
  {
   "cell_type": "code",
   "execution_count": 36,
   "metadata": {},
   "outputs": [
    {
     "data": {
      "text/plain": [
       "{0: 0, 1: -1, 2: -2, 3: -3, 4: -4, 5: -5, 6: -6, 7: -7, 8: -8}"
      ]
     },
     "execution_count": 36,
     "metadata": {},
     "output_type": "execute_result"
    }
   ],
   "source": [
    "pos_neg = {num: -num for num in range(9)}\n",
    "pos_neg"
   ]
  },
  {
   "cell_type": "code",
   "execution_count": 37,
   "metadata": {},
   "outputs": [
    {
     "name": "stdout",
     "output_type": "stream",
     "text": [
      "<class 'dict'>\n"
     ]
    }
   ],
   "source": [
    "print(type(pos_neg))"
   ]
  },
  {
   "cell_type": "markdown",
   "metadata": {},
   "source": [
    "### Introduction to generator expressions\n",
    "\n",
    "#### Generator expressions\n",
    "* Recall list comprehension"
   ]
  },
  {
   "cell_type": "code",
   "execution_count": 38,
   "metadata": {},
   "outputs": [
    {
     "data": {
      "text/plain": [
       "[0, 2, 4, 6, 8, 10, 12, 14, 16, 18]"
      ]
     },
     "execution_count": 38,
     "metadata": {},
     "output_type": "execute_result"
    }
   ],
   "source": [
    "[2 * num for num in range(10)]"
   ]
  },
  {
   "cell_type": "markdown",
   "metadata": {},
   "source": [
    "* Use `()` instead of `[]`"
   ]
  },
  {
   "cell_type": "code",
   "execution_count": 39,
   "metadata": {},
   "outputs": [
    {
     "data": {
      "text/plain": [
       "<generator object <genexpr> at 0x10e8faba0>"
      ]
     },
     "execution_count": 39,
     "metadata": {},
     "output_type": "execute_result"
    }
   ],
   "source": [
    "(2 * num for num in range(10))"
   ]
  },
  {
   "cell_type": "markdown",
   "metadata": {},
   "source": [
    "#### List comprehensions vs. genererators\n",
    "* A generator is like a list comprehension except that it does not store the list in memory\n",
    "* List comprehension - returns a list\n",
    "* Generators - returns a generator object\n",
    "* Both can be iterated over\n",
    "\n",
    "#### Printing values from generators (1)\n",
    "* Here we can see that looping over a generator expression produces the elements of the analogous list"
   ]
  },
  {
   "cell_type": "code",
   "execution_count": 40,
   "metadata": {},
   "outputs": [
    {
     "name": "stdout",
     "output_type": "stream",
     "text": [
      "0\n",
      "1\n",
      "2\n",
      "3\n",
      "4\n",
      "5\n"
     ]
    }
   ],
   "source": [
    "result = (num for num in range(6))\n",
    "for num in result:\n",
    "    print(num)"
   ]
  },
  {
   "cell_type": "markdown",
   "metadata": {},
   "source": [
    "* We can also pass a generator to the function `list()` to create the list"
   ]
  },
  {
   "cell_type": "code",
   "execution_count": 43,
   "metadata": {},
   "outputs": [
    {
     "data": {
      "text/plain": [
       "[0, 1, 2, 3, 4, 5]"
      ]
     },
     "execution_count": 43,
     "metadata": {},
     "output_type": "execute_result"
    }
   ],
   "source": [
    "result = (num for num in range(6))\n",
    "list(result)"
   ]
  },
  {
   "cell_type": "markdown",
   "metadata": {},
   "source": [
    "#### Printing values from generators (2)\n",
    "* Like any other iterator, we can pass a generator the function `next()` in order to iterate through its elements\n",
    "* This is an example of \"lazy evaluation\", whereby the evaluation of the expression is delayed until the value is needed\n",
    "* This can help a great deal when working with extremely large sequences as you don't want to store the entire list in memory, which is what comprehensions would do; you want to generate elements of the sequence on the fly"
   ]
  },
  {
   "cell_type": "code",
   "execution_count": 45,
   "metadata": {},
   "outputs": [
    {
     "name": "stdout",
     "output_type": "stream",
     "text": [
      "0\n"
     ]
    }
   ],
   "source": [
    "result = (num for num in range(6))\n",
    "print(next(result))"
   ]
  },
  {
   "cell_type": "code",
   "execution_count": 46,
   "metadata": {},
   "outputs": [
    {
     "name": "stdout",
     "output_type": "stream",
     "text": [
      "1\n"
     ]
    }
   ],
   "source": [
    "print(next(result))"
   ]
  },
  {
   "cell_type": "markdown",
   "metadata": {},
   "source": [
    "#### Generators vs. list comprehensions"
   ]
  },
  {
   "cell_type": "code",
   "execution_count": 48,
   "metadata": {},
   "outputs": [
    {
     "data": {
      "text/plain": [
       "<generator object <genexpr> at 0x10e9ba1a8>"
      ]
     },
     "execution_count": 48,
     "metadata": {},
     "output_type": "execute_result"
    }
   ],
   "source": [
    "# DON'T RUN THIS WITH BRACKETS\n",
    "# This works because it did not yet create the entire list\n",
    "\n",
    "(num for num in range(10 * 100000))"
   ]
  },
  {
   "cell_type": "markdown",
   "metadata": {},
   "source": [
    "#### Conditionals in generator expressions"
   ]
  },
  {
   "cell_type": "code",
   "execution_count": 49,
   "metadata": {},
   "outputs": [
    {
     "data": {
      "text/plain": [
       "[0, 2, 4, 6, 8]"
      ]
     },
     "execution_count": 49,
     "metadata": {},
     "output_type": "execute_result"
    }
   ],
   "source": [
    "even_nums = (num for num in range(10) if num % 2 == 0)\n",
    "list(even_nums)"
   ]
  },
  {
   "cell_type": "markdown",
   "metadata": {},
   "source": [
    "#### Generator functions\n",
    "* Produces generator object when called\n",
    "* Defined like a regular function - `def`\n",
    "* Yields a sequence of values instead of returning a single value\n",
    "* Generates a value with `yield` keyword\n",
    "\n",
    "#### Build a generator funciton\n",
    "* sequence.py"
   ]
  },
  {
   "cell_type": "code",
   "execution_count": 50,
   "metadata": {},
   "outputs": [],
   "source": [
    "def num_sequence(n):\n",
    "    \"\"\"Generate values from 0 to n.\"\"\"\n",
    "    i = 0\n",
    "    while i < n:\n",
    "        yield i\n",
    "        i += 1"
   ]
  },
  {
   "cell_type": "markdown",
   "metadata": {},
   "source": [
    "#### Use a generator function"
   ]
  },
  {
   "cell_type": "code",
   "execution_count": 51,
   "metadata": {},
   "outputs": [
    {
     "name": "stdout",
     "output_type": "stream",
     "text": [
      "<class 'generator'>\n"
     ]
    }
   ],
   "source": [
    "result = num_sequence(5)\n",
    "print(type(result))"
   ]
  },
  {
   "cell_type": "code",
   "execution_count": 52,
   "metadata": {},
   "outputs": [
    {
     "name": "stdout",
     "output_type": "stream",
     "text": [
      "0\n",
      "1\n",
      "2\n",
      "3\n",
      "4\n"
     ]
    }
   ],
   "source": [
    "for item in result:\n",
    "    print(item)"
   ]
  },
  {
   "cell_type": "code",
   "execution_count": null,
   "metadata": {},
   "outputs": [],
   "source": []
  }
 ],
 "metadata": {
  "kernelspec": {
   "display_name": "venv_python_toolkit",
   "language": "python",
   "name": "venv_python_toolkit"
  },
  "language_info": {
   "codemirror_mode": {
    "name": "ipython",
    "version": 3
   },
   "file_extension": ".py",
   "mimetype": "text/x-python",
   "name": "python",
   "nbconvert_exporter": "python",
   "pygments_lexer": "ipython3",
   "version": "3.6.0"
  }
 },
 "nbformat": 4,
 "nbformat_minor": 2
}

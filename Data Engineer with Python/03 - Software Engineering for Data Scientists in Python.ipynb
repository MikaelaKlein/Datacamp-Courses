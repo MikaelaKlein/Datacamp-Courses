{
 "cells": [
  {
   "cell_type": "markdown",
   "metadata": {},
   "source": [
    "# Software Engineering for Data Scientists in Python\n",
    "\n",
    "## Chapter 1: Software Engineering & Data Science\n",
    "\n",
    "### Python, data science & softward engineering\n",
    "\n",
    "#### Software engineering concepts\n",
    "* Modularity\n",
    "* Documentation\n",
    "* Testing\n",
    "* Version Control & Git\n",
    "\n",
    "#### Benefits of modularity\n",
    "* Improve readability\n",
    "* Improve maintainability\n",
    "* Solve problems only once\n",
    "\n",
    "#### Modularity in python"
   ]
  },
  {
   "cell_type": "code",
   "execution_count": 3,
   "metadata": {},
   "outputs": [
    {
     "data": {
      "text/plain": [
       "<matplotlib.axes._subplots.AxesSubplot at 0x1110fdf98>"
      ]
     },
     "execution_count": 3,
     "metadata": {},
     "output_type": "execute_result"
    },
    {
     "data": {
      "image/png": "[encoded data removed]",
      "text/plain": [
       "<Figure size 432x288 with 1 Axes>"
      ]
     },
     "metadata": {
      "needs_background": "light"
     },
     "output_type": "display_data"
    }
   ],
   "source": [
    "# Import the pandas PACKAGE\n",
    "import pandas as pd\n",
    "\n",
    "# Create some example data\n",
    "data = {'x': [1, 2, 3, 4],\n",
    "        'y': [20.1, 62.5, 34.8, 42.7]}\n",
    "\n",
    "# Create a dataframe CLASS object\n",
    "df = pd.DataFrame(data)\n",
    "df.plot('x', 'y')"
   ]
  },
  {
   "cell_type": "markdown",
   "metadata": {},
   "source": [
    "#### Benefits of documentation\n",
    "* Show users how to use your project\n",
    "* Prevent confusion from your collaborators\n",
    "* Prevent frustration from future you\n",
    "\n",
    "#### Benefits of automated testing\n",
    "* Save time for manual testing\n",
    "* Find & fix more bugs\n",
    "* Run tests anytime/anywhere"
   ]
  },
  {
   "cell_type": "markdown",
   "metadata": {},
   "source": [
    "### Introdution to Packages & Documentation\n",
    "\n",
    "#### Packages and PyPi\n",
    "* Python Package Index\n",
    "\n",
    "#### Intro to pip\n",
    "* \"Pip installs packages\"\n",
    "\n",
    "#### Using pip to install numpy"
   ]
  },
  {
   "cell_type": "code",
   "execution_count": 4,
   "metadata": {},
   "outputs": [
    {
     "name": "stdout",
     "output_type": "stream",
     "text": [
      "Requirement already satisfied: numpy in /Users/MikaelaKlein/.venvs/venv_python_toolkit/lib/python3.6/site-packages (1.16.2)\n",
      "\u001b[33mYou are using pip version 19.0.3, however version 20.0.2 is available.\n",
      "You should consider upgrading via the 'pip install --upgrade pip' command.\u001b[0m\n"
     ]
    }
   ],
   "source": [
    "! pip install numpy"
   ]
  },
  {
   "cell_type": "markdown",
   "metadata": {},
   "source": [
    "#### How do we use numpy?\n",
    "\n",
    "#### Reading documentation with help()"
   ]
  },
  {
   "cell_type": "code",
   "execution_count": 5,
   "metadata": {},
   "outputs": [
    {
     "name": "stdout",
     "output_type": "stream",
     "text": [
      "Help on built-in function busday_count in module numpy:\n",
      "\n",
      "busday_count(...)\n",
      "    busday_count(begindates, enddates, weekmask='1111100', holidays=[], busdaycal=None, out=None)\n",
      "    \n",
      "    Counts the number of valid days between `begindates` and\n",
      "    `enddates`, not including the day of `enddates`.\n",
      "    \n",
      "    If ``enddates`` specifies a date value that is earlier than the\n",
      "    corresponding ``begindates`` date value, the count will be negative.\n",
      "    \n",
      "    .. versionadded:: 1.7.0\n",
      "    \n",
      "    Parameters\n",
      "    ----------\n",
      "    begindates : array_like of datetime64[D]\n",
      "        The array of the first dates for counting.\n",
      "    enddates : array_like of datetime64[D]\n",
      "        The array of the end dates for counting, which are excluded\n",
      "        from the count themselves.\n",
      "    weekmask : str or array_like of bool, optional\n",
      "        A seven-element array indicating which of Monday through Sunday are\n",
      "        valid days. May be specified as a length-seven list or array, like\n",
      "        [1,1,1,1,1,0,0]; a length-seven string, like '1111100'; or a string\n",
      "        like \"Mon Tue Wed Thu Fri\", made up of 3-character abbreviations for\n",
      "        weekdays, optionally separated by white space. Valid abbreviations\n",
      "        are: Mon Tue Wed Thu Fri Sat Sun\n",
      "    holidays : array_like of datetime64[D], optional\n",
      "        An array of dates to consider as invalid dates.  They may be\n",
      "        specified in any order, and NaT (not-a-time) dates are ignored.\n",
      "        This list is saved in a normalized form that is suited for\n",
      "        fast calculations of valid days.\n",
      "    busdaycal : busdaycalendar, optional\n",
      "        A `busdaycalendar` object which specifies the valid days. If this\n",
      "        parameter is provided, neither weekmask nor holidays may be\n",
      "        provided.\n",
      "    out : array of int, optional\n",
      "        If provided, this array is filled with the result.\n",
      "    \n",
      "    Returns\n",
      "    -------\n",
      "    out : array of int\n",
      "        An array with a shape from broadcasting ``begindates`` and ``enddates``\n",
      "        together, containing the number of valid days between\n",
      "        the begin and end dates.\n",
      "    \n",
      "    See Also\n",
      "    --------\n",
      "    busdaycalendar: An object that specifies a custom set of valid days.\n",
      "    is_busday : Returns a boolean array indicating valid days.\n",
      "    busday_offset : Applies an offset counted in valid days.\n",
      "    \n",
      "    Examples\n",
      "    --------\n",
      "    >>> # Number of weekdays in January 2011\n",
      "    ... np.busday_count('2011-01', '2011-02')\n",
      "    21\n",
      "    >>> # Number of weekdays in 2011\n",
      "    ...  np.busday_count('2011', '2012')\n",
      "    260\n",
      "    >>> # Number of Saturdays in 2011\n",
      "    ... np.busday_count('2011', '2012', weekmask='Sat')\n",
      "    53\n",
      "\n"
     ]
    }
   ],
   "source": [
    "import numpy as np\n",
    "\n",
    "help(np.busday_count)"
   ]
  },
  {
   "cell_type": "code",
   "execution_count": 7,
   "metadata": {},
   "outputs": [
    {
     "name": "stdout",
     "output_type": "stream",
     "text": [
      "Help on int object:\n",
      "\n",
      "class int(object)\n",
      " |  int(x=0) -> integer\n",
      " |  int(x, base=10) -> integer\n",
      " |  \n",
      " |  Convert a number or string to an integer, or return 0 if no arguments\n",
      " |  are given.  If x is a number, return x.__int__().  For floating point\n",
      " |  numbers, this truncates towards zero.\n",
      " |  \n",
      " |  If x is not a number or if base is given, then x must be a string,\n",
      " |  bytes, or bytearray instance representing an integer literal in the\n",
      " |  given base.  The literal can be preceded by '+' or '-' and be surrounded\n",
      " |  by whitespace.  The base defaults to 10.  Valid bases are 0 and 2-36.\n",
      " |  Base 0 means to interpret the base from the string as an integer literal.\n",
      " |  >>> int('0b100', base=0)\n",
      " |  4\n",
      " |  \n",
      " |  Methods defined here:\n",
      " |  \n",
      " |  __abs__(self, /)\n",
      " |      abs(self)\n",
      " |  \n",
      " |  __add__(self, value, /)\n",
      " |      Return self+value.\n",
      " |  \n",
      " |  __and__(self, value, /)\n",
      " |      Return self&value.\n",
      " |  \n",
      " |  __bool__(self, /)\n",
      " |      self != 0\n",
      " |  \n",
      " |  __ceil__(...)\n",
      " |      Ceiling of an Integral returns itself.\n",
      " |  \n",
      " |  __divmod__(self, value, /)\n",
      " |      Return divmod(self, value).\n",
      " |  \n",
      " |  __eq__(self, value, /)\n",
      " |      Return self==value.\n",
      " |  \n",
      " |  __float__(self, /)\n",
      " |      float(self)\n",
      " |  \n",
      " |  __floor__(...)\n",
      " |      Flooring an Integral returns itself.\n",
      " |  \n",
      " |  __floordiv__(self, value, /)\n",
      " |      Return self//value.\n",
      " |  \n",
      " |  __format__(...)\n",
      " |      default object formatter\n",
      " |  \n",
      " |  __ge__(self, value, /)\n",
      " |      Return self>=value.\n",
      " |  \n",
      " |  __getattribute__(self, name, /)\n",
      " |      Return getattr(self, name).\n",
      " |  \n",
      " |  __getnewargs__(...)\n",
      " |  \n",
      " |  __gt__(self, value, /)\n",
      " |      Return self>value.\n",
      " |  \n",
      " |  __hash__(self, /)\n",
      " |      Return hash(self).\n",
      " |  \n",
      " |  __index__(self, /)\n",
      " |      Return self converted to an integer, if self is suitable for use as an index into a list.\n",
      " |  \n",
      " |  __int__(self, /)\n",
      " |      int(self)\n",
      " |  \n",
      " |  __invert__(self, /)\n",
      " |      ~self\n",
      " |  \n",
      " |  __le__(self, value, /)\n",
      " |      Return self<=value.\n",
      " |  \n",
      " |  __lshift__(self, value, /)\n",
      " |      Return self<<value.\n",
      " |  \n",
      " |  __lt__(self, value, /)\n",
      " |      Return self<value.\n",
      " |  \n",
      " |  __mod__(self, value, /)\n",
      " |      Return self%value.\n",
      " |  \n",
      " |  __mul__(self, value, /)\n",
      " |      Return self*value.\n",
      " |  \n",
      " |  __ne__(self, value, /)\n",
      " |      Return self!=value.\n",
      " |  \n",
      " |  __neg__(self, /)\n",
      " |      -self\n",
      " |  \n",
      " |  __new__(*args, **kwargs) from builtins.type\n",
      " |      Create and return a new object.  See help(type) for accurate signature.\n",
      " |  \n",
      " |  __or__(self, value, /)\n",
      " |      Return self|value.\n",
      " |  \n",
      " |  __pos__(self, /)\n",
      " |      +self\n",
      " |  \n",
      " |  __pow__(self, value, mod=None, /)\n",
      " |      Return pow(self, value, mod).\n",
      " |  \n",
      " |  __radd__(self, value, /)\n",
      " |      Return value+self.\n",
      " |  \n",
      " |  __rand__(self, value, /)\n",
      " |      Return value&self.\n",
      " |  \n",
      " |  __rdivmod__(self, value, /)\n",
      " |      Return divmod(value, self).\n",
      " |  \n",
      " |  __repr__(self, /)\n",
      " |      Return repr(self).\n",
      " |  \n",
      " |  __rfloordiv__(self, value, /)\n",
      " |      Return value//self.\n",
      " |  \n",
      " |  __rlshift__(self, value, /)\n",
      " |      Return value<<self.\n",
      " |  \n",
      " |  __rmod__(self, value, /)\n",
      " |      Return value%self.\n",
      " |  \n",
      " |  __rmul__(self, value, /)\n",
      " |      Return value*self.\n",
      " |  \n",
      " |  __ror__(self, value, /)\n",
      " |      Return value|self.\n",
      " |  \n",
      " |  __round__(...)\n",
      " |      Rounding an Integral returns itself.\n",
      " |      Rounding with an ndigits argument also returns an integer.\n",
      " |  \n",
      " |  __rpow__(self, value, mod=None, /)\n",
      " |      Return pow(value, self, mod).\n",
      " |  \n",
      " |  __rrshift__(self, value, /)\n",
      " |      Return value>>self.\n",
      " |  \n",
      " |  __rshift__(self, value, /)\n",
      " |      Return self>>value.\n",
      " |  \n",
      " |  __rsub__(self, value, /)\n",
      " |      Return value-self.\n",
      " |  \n",
      " |  __rtruediv__(self, value, /)\n",
      " |      Return value/self.\n",
      " |  \n",
      " |  __rxor__(self, value, /)\n",
      " |      Return value^self.\n",
      " |  \n",
      " |  __sizeof__(...)\n",
      " |      Returns size in memory, in bytes\n",
      " |  \n",
      " |  __str__(self, /)\n",
      " |      Return str(self).\n",
      " |  \n",
      " |  __sub__(self, value, /)\n",
      " |      Return self-value.\n",
      " |  \n",
      " |  __truediv__(self, value, /)\n",
      " |      Return self/value.\n",
      " |  \n",
      " |  __trunc__(...)\n",
      " |      Truncating an Integral returns itself.\n",
      " |  \n",
      " |  __xor__(self, value, /)\n",
      " |      Return self^value.\n",
      " |  \n",
      " |  bit_length(...)\n",
      " |      int.bit_length() -> int\n",
      " |      \n",
      " |      Number of bits necessary to represent self in binary.\n",
      " |      >>> bin(37)\n",
      " |      '0b100101'\n",
      " |      >>> (37).bit_length()\n",
      " |      6\n",
      " |  \n",
      " |  conjugate(...)\n",
      " |      Returns self, the complex conjugate of any int.\n",
      " |  \n",
      " |  from_bytes(...) from builtins.type\n",
      " |      int.from_bytes(bytes, byteorder, *, signed=False) -> int\n",
      " |      \n",
      " |      Return the integer represented by the given array of bytes.\n",
      " |      \n",
      " |      The bytes argument must be a bytes-like object (e.g. bytes or bytearray).\n",
      " |      \n",
      " |      The byteorder argument determines the byte order used to represent the\n",
      " |      integer.  If byteorder is 'big', the most significant byte is at the\n",
      " |      beginning of the byte array.  If byteorder is 'little', the most\n",
      " |      significant byte is at the end of the byte array.  To request the native\n",
      " |      byte order of the host system, use `sys.byteorder' as the byte order value.\n",
      " |      \n",
      " |      The signed keyword-only argument indicates whether two's complement is\n",
      " |      used to represent the integer.\n",
      " |  \n",
      " |  to_bytes(...)\n",
      " |      int.to_bytes(length, byteorder, *, signed=False) -> bytes\n",
      " |      \n",
      " |      Return an array of bytes representing an integer.\n",
      " |      \n",
      " |      The integer is represented using length bytes.  An OverflowError is\n",
      " |      raised if the integer is not representable with the given number of\n",
      " |      bytes.\n",
      " |      \n",
      " |      The byteorder argument determines the byte order used to represent the\n",
      " |      integer.  If byteorder is 'big', the most significant byte is at the\n",
      " |      beginning of the byte array.  If byteorder is 'little', the most\n",
      " |      significant byte is at the end of the byte array.  To request the native\n",
      " |      byte order of the host system, use `sys.byteorder' as the byte order value.\n",
      " |      \n",
      " |      The signed keyword-only argument determines whether two's complement is\n",
      " |      used to represent the integer.  If signed is False and a negative integer\n",
      " |      is given, an OverflowError is raised.\n",
      " |  \n",
      " |  ----------------------------------------------------------------------\n",
      " |  Data descriptors defined here:\n",
      " |  \n",
      " |  denominator\n",
      " |      the denominator of a rational number in lowest terms\n",
      " |  \n",
      " |  imag\n",
      " |      the imaginary part of a complex number\n",
      " |  \n",
      " |  numerator\n",
      " |      the numerator of a rational number in lowest terms\n",
      " |  \n",
      " |  real\n",
      " |      the real part of a complex number\n",
      "\n"
     ]
    }
   ],
   "source": [
    "help(42)"
   ]
  },
  {
   "cell_type": "markdown",
   "metadata": {},
   "source": [
    "### Conventions and PEP 8\n",
    "\n",
    "#### Introducting PEP 8\n",
    "* Python Enhancement Protocol 8\n",
    "> \"Code is read much more often than it is written.\"\n",
    "\n",
    "#### Violating PEP 8"
   ]
  },
  {
   "cell_type": "code",
   "execution_count": 8,
   "metadata": {},
   "outputs": [
    {
     "ename": "IndentationError",
     "evalue": "unexpected indent (<ipython-input-8-4121a16949d7>, line 13)",
     "output_type": "error",
     "traceback": [
      "\u001b[0;36m  File \u001b[0;32m\"<ipython-input-8-4121a16949d7>\"\u001b[0;36m, line \u001b[0;32m13\u001b[0m\n\u001b[0;31m    x=np.array(d.values())\u001b[0m\n\u001b[0m    ^\u001b[0m\n\u001b[0;31mIndentationError\u001b[0m\u001b[0;31m:\u001b[0m unexpected indent\n"
     ]
    }
   ],
   "source": [
    "#define our data\n",
    "my_dict ={\n",
    "    'a'  : 10,\n",
    "'b':3,\n",
    "    'c'  :  4,\n",
    "             'd': 7}\n",
    "#import needed package\n",
    "import numpy as np\n",
    "#helper function\n",
    "def DictToArray(d):\n",
    "    \"\"\"Convert dictrionary values to numpy array\"\"\"\n",
    "    #extract values and convert\n",
    "            x=np.array(d.values())\n",
    "            return x\n",
    "print(DictToArray(my_dict))"
   ]
  },
  {
   "cell_type": "markdown",
   "metadata": {},
   "source": [
    "#### Following PEP 8"
   ]
  },
  {
   "cell_type": "code",
   "execution_count": 10,
   "metadata": {},
   "outputs": [
    {
     "name": "stdout",
     "output_type": "stream",
     "text": [
      "dict_values([10, 3, 4, 7])\n"
     ]
    }
   ],
   "source": [
    "# Import needed package\n",
    "import numpy as np\n",
    "\n",
    "# Define our data\n",
    "my_dict ={'a': 10,'b': 3, 'c': 4, 'd': 7}\n",
    "\n",
    "\n",
    "# Helper function\n",
    "def dict_to_array(d):\n",
    "    \"\"\"Convert dictrionary values to numpy array\"\"\"\n",
    "    # Extract values and convert\n",
    "    x = np.array(d.values())\n",
    "    return x\n",
    "\n",
    "\n",
    "print(dict_to_array(my_dict))"
   ]
  },
  {
   "cell_type": "markdown",
   "metadata": {},
   "source": [
    "#### PEP 8 Tools\n",
    "* A cool IDE\n",
    "* pycodestyle\n",
    "\n",
    "#### Using pycodestyle"
   ]
  },
  {
   "cell_type": "code",
   "execution_count": 12,
   "metadata": {},
   "outputs": [
    {
     "name": "stdout",
     "output_type": "stream",
     "text": [
      "Collecting pycodestyle\n",
      "\u001b[?25l  Downloading https://files.pythonhosted.org/packages/0e/0c/04a353e104d2f324f8ee5f4b32012618c1c86dd79e52a433b64fceed511b/pycodestyle-2.5.0-py2.py3-none-any.whl (51kB)\n",
      "\u001b[K    100% |████████████████████████████████| 51kB 2.6MB/s ta 0:00:01\n",
      "\u001b[?25hInstalling collected packages: pycodestyle\n",
      "\u001b[33m  The script pycodestyle is installed in '/Users/MikaelaKlein/.venvs/venv_python_toolkit/bin' which is not on PATH.\n",
      "  Consider adding this directory to PATH or, if you prefer to suppress this warning, use --no-warn-script-location.\u001b[0m\n",
      "Successfully installed pycodestyle-2.5.0\n",
      "\u001b[33mYou are using pip version 19.0.3, however version 20.0.2 is available.\n",
      "You should consider upgrading via the 'pip install --upgrade pip' command.\u001b[0m\n",
      "dict_to_array.py:1:1: E902 FileNotFoundError: [Errno 2] No such file or directory: 'dict_to_array.py'\n"
     ]
    }
   ],
   "source": [
    "! pip install pycodestyle\n",
    "! pycodestyle dict_to_array.py"
   ]
  },
  {
   "cell_type": "markdown",
   "metadata": {},
   "source": [
    "#### Output from pycodestyle\n",
    "* file\n",
    "* line number\n",
    "* column number\n",
    "* error code\n",
    "* error description"
   ]
  },
  {
   "cell_type": "code",
   "execution_count": 13,
   "metadata": {},
   "outputs": [
    {
     "name": "stdout",
     "output_type": "stream",
     "text": [
      "nay_pep8.py:1:1: E902 FileNotFoundError: [Errno 2] No such file or directory: 'nay_pep8.py'\n",
      "yay_pep8.py:1:1: E902 FileNotFoundError: [Errno 2] No such file or directory: 'yay_pep8.py'\n",
      "{'E902': \"FileNotFoundError: [Errno 2] No such file or directory: 'nay_pep8.py'\"}\n"
     ]
    }
   ],
   "source": [
    "# Import needed package\n",
    "import pycodestyle\n",
    "\n",
    "# Create a StyleGuide instance\n",
    "style_checker = pycodestyle.StyleGuide()\n",
    "\n",
    "# Run PEP 8 check on multiple files\n",
    "result = style_checker.check_files(['nay_pep8.py', 'yay_pep8.py'])\n",
    "\n",
    "# Print result of PEP 8 style check\n",
    "print(result.messages)"
   ]
  },
  {
   "cell_type": "markdown",
   "metadata": {},
   "source": [
    "## Chapter 2: Writing a Python Module\n",
    "\n",
    "### Writing Your First Package\n",
    "\n",
    "#### Package structure\n",
    "![title](helper_files/package_structure.png)\n",
    "* Need a directory and a python file\n",
    "* The name of the directory will be the name of the package, but how should you name it? -- > PEP 8\n",
    "* PEP 8 states that all packages should have short, all-lowercase names\n",
    "* Use of underscores is discouraged, but can be used if it improves readability\n",
    "\n",
    "#### Importing a local package\n",
    "![title](helper_files/importing_a_local_package.png)"
   ]
  },
  {
   "cell_type": "markdown",
   "metadata": {},
   "source": [
    "### Adding functionality to packages\n",
    "![title](helper_files/package_structure2.png)\n",
    "\n",
    "* Add utils.py folder (but can be any name)\n",
    "\n",
    "#### Adding functionality\n",
    "*working in `work_dir/my_package/utils.py`*"
   ]
  },
  {
   "cell_type": "code",
   "execution_count": 14,
   "metadata": {},
   "outputs": [],
   "source": [
    "def we_need_to_talk(break_up=False):\n",
    "    \"\"\"Helper for communicating with significant other\"\"\"\n",
    "    if break_up:\n",
    "        print(\"It's not you, it's me...\")\n",
    "    else:\n",
    "        print(\"I <3 U!\")"
   ]
  },
  {
   "cell_type": "markdown",
   "metadata": {},
   "source": [
    "*working in `work_dir/my_script.py`*"
   ]
  },
  {
   "cell_type": "code",
   "execution_count": null,
   "metadata": {},
   "outputs": [],
   "source": [
    "# Import utils submodule\n",
    "import my_package.utils\n",
    "\n",
    "# Decide to start seeing other people\n",
    "my_package.utils.we_need_to_talk(break_up=True)"
   ]
  },
  {
   "cell_type": "markdown",
   "metadata": {},
   "source": [
    "#### Importing functionality with __init__.py\n",
    "*working in `work_dir/my_package/__init__.py`*"
   ]
  },
  {
   "cell_type": "code",
   "execution_count": null,
   "metadata": {},
   "outputs": [],
   "source": [
    "from .utils import we_need_to_talk"
   ]
  },
  {
   "cell_type": "markdown",
   "metadata": {},
   "source": [
    "*working in `work_dir/my_script.py`*"
   ]
  },
  {
   "cell_type": "code",
   "execution_count": null,
   "metadata": {},
   "outputs": [],
   "source": [
    "# Import custom package\n",
    "import my_package\n",
    "\n",
    "# Realize you're with your soulmate\n",
    "my_package.we_need_to_talk(break_up=False)"
   ]
  },
  {
   "cell_type": "markdown",
   "metadata": {},
   "source": [
    "#### Extending package structure\n",
    "\n",
    "![title](helper_files/extending_package_structure.png)\n",
    "\n",
    "* When working with multiple submodules, should you import them all in init?\n",
    "* As a general rule, you should import your packages' key functionality in the init file ot make it directly and easily accessible.\n",
    "\n",
    "#### Subpackages\n",
    "![title](helper_files/subpackage_structure.png)"
   ]
  },
  {
   "cell_type": "markdown",
   "metadata": {},
   "source": [
    "### Making your package portable\n",
    "\n",
    "#### Steps to portability\n",
    "* Need two files:\n",
    "    * setup.py\n",
    "    * requirements.txt\n",
    "* They provide information on how to install the package and how to recreate its required environment\n",
    "\n",
    "![title](helper_files/portable_package_structure.png)\n",
    "\n",
    "#### Contents of  requirements.txt\n",
    "\n",
    "*working in `work_dir/requirements.txt`*"
   ]
  },
  {
   "cell_type": "code",
   "execution_count": null,
   "metadata": {},
   "outputs": [],
   "source": [
    "# Needed packages/versions\n",
    "matplotlib\n",
    "numpy==1.15.4\n",
    "pycodestyle>=2.4.0"
   ]
  },
  {
   "cell_type": "markdown",
   "metadata": {},
   "source": [
    "*working with `terminal`*\n",
    "* The command `-r` specifies that you are installing a list of requirements instead of a package"
   ]
  },
  {
   "cell_type": "code",
   "execution_count": null,
   "metadata": {},
   "outputs": [],
   "source": [
    "pip install -r requirements.txt"
   ]
  },
  {
   "cell_type": "markdown",
   "metadata": {},
   "source": [
    "#### Contents of setup.py\n",
    "* Tells pip how to install our package"
   ]
  },
  {
   "cell_type": "code",
   "execution_count": null,
   "metadata": {},
   "outputs": [],
   "source": [
    "from setuptools import setup\n",
    "\n",
    "setup(name='my_package'\n",
    "      version='0.0.1',\n",
    "      description='An example package for DataCamp.',\n",
    "      author='Adan Spannbauer',\n",
    "      author_email='spannbaueradam@gmail.com',\n",
    "      packages=['my_package'],\n",
    "      install_requires=['matplotlib',\n",
    "                        'numpy==1.15.4',\n",
    "                        'pycodestyle>=2.4.0'])"
   ]
  },
  {
   "cell_type": "markdown",
   "metadata": {},
   "source": [
    "#### install_requires vs requirements.txt\n",
    "*working in `work_dir/requirements.txt`*"
   ]
  },
  {
   "cell_type": "code",
   "execution_count": null,
   "metadata": {},
   "outputs": [],
   "source": [
    "# Specify where to install requirements from\n",
    "--index-url https://pypi.python.org/simple/\n",
    "    \n",
    "# Needed packages/versions\n",
    "matplotlib\n",
    "numpy==1.15.4\n",
    "pycodestyle>=2.4.0"
   ]
  },
  {
   "cell_type": "markdown",
   "metadata": {},
   "source": [
    "#### pip installing your package"
   ]
  },
  {
   "cell_type": "code",
   "execution_count": null,
   "metadata": {},
   "outputs": [],
   "source": [
    "pip install ."
   ]
  },
  {
   "cell_type": "markdown",
   "metadata": {},
   "source": [
    "## Chapter 3: Utilizing Classes\n",
    "\n",
    "### Adding classes to a package\n",
    "\n",
    "#### Object Oriented Programming (OOP)\n",
    "\n",
    "#### Anatomy of a class\n",
    "*working in `work_dir/my_package/my_class.py`*"
   ]
  },
  {
   "cell_type": "code",
   "execution_count": 16,
   "metadata": {},
   "outputs": [],
   "source": [
    "# Define a minimal class with an attribute\n",
    "class MyClass:\n",
    "    \"\"\"A minimal example class\n",
    "    \n",
    "    :param value\" value to set as the ``attribute`` attribute\n",
    "    :ivar attribute: contains the contents of ``value`` passed in init\n",
    "    \"\"\"\n",
    "    \n",
    "    # Method to create a new instance of MyClass\n",
    "    def __init__(self, value):\n",
    "        # Define attribute with the contents of the value param\n",
    "        self.attribute = value"
   ]
  },
  {
   "cell_type": "markdown",
   "metadata": {},
   "source": [
    "#### Using a class in a package\n",
    "*working in `work_dir/my_package/__init__.py`*"
   ]
  },
  {
   "cell_type": "code",
   "execution_count": null,
   "metadata": {},
   "outputs": [],
   "source": [
    "from .my_class import MyClass"
   ]
  },
  {
   "cell_type": "markdown",
   "metadata": {},
   "source": [
    "*working in `work_dir/my_script.py`*"
   ]
  },
  {
   "cell_type": "code",
   "execution_count": null,
   "metadata": {},
   "outputs": [],
   "source": [
    "import my_package\n",
    "\n",
    "# Create instance of MyClass\n",
    "my_instance = my_package.MyClass(value='class attribute value')\n",
    "\n",
    "# Print out class attribute value\n",
    "print(my_instance.attribute)"
   ]
  },
  {
   "cell_type": "markdown",
   "metadata": {},
   "source": [
    "#### The self convention\n",
    "* `self` is a way to refer to a class instance even though we don't know what the user is actually going to name their instance"
   ]
  },
  {
   "cell_type": "markdown",
   "metadata": {},
   "source": [
    "### Adding functionality to classes\n",
    "\n",
    "#### Extending Document class\n",
    "* let's say that in our workflow we want to tokenize our document as a first step\n",
    "* tokenization is a common step in text analysis\n",
    "* it is the process of breaking up a document into individual works (known as tokens)\n",
    "* placing the tokenization process inside of __init__ will ensure our Document is tokenized as soon as it is created\n",
    "\n",
    "#### Revising __init__"
   ]
  },
  {
   "cell_type": "code",
   "execution_count": null,
   "metadata": {},
   "outputs": [],
   "source": [
    "class Document:\n",
    "    def __init__(self, text):\n",
    "        self.text = text\n",
    "        self.tokens = self._tokenize()\n",
    "        \n",
    "\n",
    "doc = Document('test doc')\n",
    "print(doc.tokens)"
   ]
  },
  {
   "cell_type": "markdown",
   "metadata": {},
   "source": [
    "#### Adding _tokenize() method"
   ]
  },
  {
   "cell_type": "code",
   "execution_count": null,
   "metadata": {},
   "outputs": [],
   "source": [
    "# Import function to perform tokenization\n",
    "from .token_utils import tokenize\n",
    "\n",
    "class Document:\n",
    "    def __init__(self, text, token_regex=r'[a-zA-z]+'):\n",
    "        self.text = text\n",
    "        self.tokens = self._tokenize()\n",
    "        \n",
    "    def _tokenize(self):\n",
    "        return tokenize(self.text)"
   ]
  },
  {
   "cell_type": "markdown",
   "metadata": {},
   "source": [
    "#### Non-public methods\n",
    "* Why did we and an underscore before the method tokenize?\n",
    "* Function does not need to be public for the user, they're intended for internal use only\n",
    "\n",
    "#### The risks of non-public methods\n",
    "* Lack of documentation\n",
    "* Unpredictability\n",
    "\n",
    "### Classes and the DRY principle\n",
    "\n",
    "#### Creating a SocialMedia Class\n",
    "* We want to specialize our functionality to focus on the social media data we've been analyzing\n",
    "* Should perform the same things as the document class but additionally analyze specific things like hashtags\n",
    "* First guess migh be to copy-paste the contents of the document class, but this violates the DRY principle\n",
    "\n",
    "#### The DRY principle\n",
    "* DRY = \"Don't Repeat Yourself\"\n",
    "\n",
    "#### Intro to inheritance\n",
    "* Parent Class (Document) --> Child Class (Social Media)\n",
    "* Child classes inherit all of the functionality of the parent class, with added functionality\n",
    "* Child classes live at the same level as the rest of the packages' code\n",
    "\n",
    "![title](helper_files/inheritance_in_python.png)\n"
   ]
  },
  {
   "cell_type": "markdown",
   "metadata": {},
   "source": [
    "#### Inheritance in Python"
   ]
  },
  {
   "cell_type": "code",
   "execution_count": null,
   "metadata": {},
   "outputs": [],
   "source": [
    "# Import ParentClass object\n",
    "from .parent_class import ParentClass\n",
    "\n",
    "# Create a child class with inheritance\n",
    "class ChildClass(ParentClass):\n",
    "    def __init__(self):\n",
    "        # Call parent's __init__ method\n",
    "        ParentClass.__init__(self)\n",
    "        # Add attribute unique to child class\n",
    "        self.child_attribute = \"I'm a child class attribute!\"\n",
    "        \n",
    "# Create a ChildClass instance\n",
    "child_class = ChildClass()\n",
    "print(child_class.child_attribute)\n",
    "print(child_class.parent_attribute)"
   ]
  },
  {
   "cell_type": "markdown",
   "metadata": {},
   "source": [
    "### Multilevel inheritance\n",
    "\n",
    "#### Creating a Tweet class\n",
    "* Grandchild class of Document class\n",
    "* Child class of Social Media class\n",
    "\n",
    "#### Multiple inheritance\n",
    "* A child class can inherit functionality from multiple parent classes\n",
    "\n",
    "#### Multilevel inheritance and super"
   ]
  },
  {
   "cell_type": "code",
   "execution_count": 68,
   "metadata": {},
   "outputs": [],
   "source": [
    "class Parent:\n",
    "    def __init__(self):\n",
    "        print(\"I'm a parent!\")\n",
    "        \n",
    "class Child(Parent):\n",
    "    def __init__(self):\n",
    "        Parent.__init__()\n",
    "        print(\"I'm a child!\")\n",
    "        \n",
    "class SuperChild(Parent):\n",
    "    def __init__(self):\n",
    "        super().__init__()\n",
    "        print(\"I'm a super child!\")"
   ]
  },
  {
   "cell_type": "code",
   "execution_count": 70,
   "metadata": {},
   "outputs": [
    {
     "name": "stdout",
     "output_type": "stream",
     "text": [
      "I'm a parent!\n",
      "I'm a super child!\n",
      "I'm a grandchild!\n"
     ]
    }
   ],
   "source": [
    "class Parent:\n",
    "    def __init__(self):\n",
    "        print(\"I'm a parent!\")\n",
    "        \n",
    "class SuperChild(Parent):\n",
    "    def __init__(self):\n",
    "        super().__init__()\n",
    "        print(\"I'm a super child!\")\n",
    "        \n",
    "class GrandChild(SuperChild):\n",
    "    def __init__(self):\n",
    "        super().__init__()\n",
    "        print(\"I'm a grandchild!\")\n",
    "        \n",
    "grandchild = GrandChild()"
   ]
  },
  {
   "cell_type": "markdown",
   "metadata": {},
   "source": [
    "#### Keeping track of inherited attributes"
   ]
  },
  {
   "cell_type": "code",
   "execution_count": null,
   "metadata": {},
   "outputs": [],
   "source": [
    "# Create an instance of Social Media\n",
    "sm = SocialMedia('@DataCamp #DataScience #Python #sklearn')\n",
    "\n",
    "# What methods does sm have?\n",
    "dir(sm)"
   ]
  },
  {
   "cell_type": "code",
   "execution_count": 72,
   "metadata": {},
   "outputs": [
    {
     "data": {
      "text/plain": [
       "'humpty dumpty\\nsat on a wall\\nhumpty dumpty\\nhad a great fall'"
      ]
     },
     "execution_count": 72,
     "metadata": {},
     "output_type": "execute_result"
    }
   ],
   "source": [
    "text = 'humpty dumpty\\nsat on a wall\\nhumpty dumpty\\nhad a great fall'\n",
    "text\n",
    "# filter_lines(text, 'h')\n",
    "#     'humpty dumpty\\nhumpty dumpty\\nhad a great fall'"
   ]
  },
  {
   "cell_type": "markdown",
   "metadata": {},
   "source": [
    "## Chapter 4: Maintainability\n",
    "\n",
    "### Documentation\n",
    "* Comments"
   ]
  },
  {
   "cell_type": "code",
   "execution_count": 73,
   "metadata": {},
   "outputs": [],
   "source": [
    "# Square the number x"
   ]
  },
  {
   "cell_type": "markdown",
   "metadata": {},
   "source": [
    "* Docstrings"
   ]
  },
  {
   "cell_type": "code",
   "execution_count": null,
   "metadata": {},
   "outputs": [],
   "source": [
    "\"\"\"Square the number x\n",
    "\n",
    ":param x: number to square\n",
    ":return: x suared\n",
    "\n",
    ">>> square(2)\n",
    "4\n",
    "\"\"\""
   ]
  },
  {
   "cell_type": "markdown",
   "metadata": {},
   "source": [
    "#### Comments"
   ]
  },
  {
   "cell_type": "code",
   "execution_count": 75,
   "metadata": {},
   "outputs": [],
   "source": [
    "# This is a valid comment\n",
    "x = 2"
   ]
  },
  {
   "cell_type": "code",
   "execution_count": 76,
   "metadata": {},
   "outputs": [],
   "source": [
    "y = 3 # This is also a valid comment"
   ]
  },
  {
   "cell_type": "code",
   "execution_count": 77,
   "metadata": {},
   "outputs": [],
   "source": [
    "# You can't see me unless you look at the source code\n",
    "# Hi future collborators!!"
   ]
  },
  {
   "cell_type": "markdown",
   "metadata": {},
   "source": [
    "#### Effective comments\n",
    "* Commenting 'what'"
   ]
  },
  {
   "cell_type": "code",
   "execution_count": 78,
   "metadata": {},
   "outputs": [
    {
     "data": {
      "text/plain": [
       "15"
      ]
     },
     "execution_count": 78,
     "metadata": {},
     "output_type": "execute_result"
    }
   ],
   "source": [
    "# Define people as 5\n",
    "people = 5\n",
    "\n",
    "# Multiply people by 3\n",
    "people * 3"
   ]
  },
  {
   "cell_type": "markdown",
   "metadata": {},
   "source": [
    "* Commenting 'why'"
   ]
  },
  {
   "cell_type": "code",
   "execution_count": 79,
   "metadata": {},
   "outputs": [
    {
     "data": {
      "text/plain": [
       "15"
      ]
     },
     "execution_count": 79,
     "metadata": {},
     "output_type": "execute_result"
    }
   ],
   "source": [
    "# There will be 5 people attending the party\n",
    "people = 5\n",
    "\n",
    "# We need 3 pieces of pizza per person\n",
    "people * 3"
   ]
  },
  {
   "cell_type": "markdown",
   "metadata": {},
   "source": [
    "#### Docstrings"
   ]
  },
  {
   "cell_type": "code",
   "execution_count": 81,
   "metadata": {},
   "outputs": [],
   "source": [
    "def function(x):\n",
    "    \"\"\"High level description of function\n",
    "    \n",
    "    Additional details on function\n",
    "    \n",
    "    :param x: description of parameter x\n",
    "    :return: description of return value\n",
    "    \n",
    "    >>> # Example function usage\n",
    "    Expected output of example function usage\n",
    "    \"\"\"\n",
    "    # function code"
   ]
  },
  {
   "cell_type": "markdown",
   "metadata": {},
   "source": [
    "#### Example docstring"
   ]
  },
  {
   "cell_type": "code",
   "execution_count": 82,
   "metadata": {},
   "outputs": [],
   "source": [
    "def square(x):\n",
    "    \"\"\"Square the number x\n",
    "    \n",
    "    :param x: number to square\n",
    "    :return: x squared\n",
    "    \n",
    "    >>> square(2)\n",
    "    4\n",
    "    \"\"\"\n",
    "    # `x * x` is faster than `x ** 2`\n",
    "    # reference: link\n",
    "    return x * x"
   ]
  },
  {
   "cell_type": "markdown",
   "metadata": {},
   "source": [
    "#### Example docstring output"
   ]
  },
  {
   "cell_type": "code",
   "execution_count": 83,
   "metadata": {},
   "outputs": [
    {
     "name": "stdout",
     "output_type": "stream",
     "text": [
      "Help on function square in module __main__:\n",
      "\n",
      "square(x)\n",
      "    Square the number x\n",
      "    \n",
      "    :param x: number to square\n",
      "    :return: x squared\n",
      "    \n",
      "    >>> square(2)\n",
      "    4\n",
      "\n"
     ]
    }
   ],
   "source": [
    "help(square)"
   ]
  },
  {
   "cell_type": "markdown",
   "metadata": {},
   "source": [
    "### Readability counts\n",
    "\n",
    "#### The Zen of Python"
   ]
  },
  {
   "cell_type": "code",
   "execution_count": 84,
   "metadata": {},
   "outputs": [
    {
     "name": "stdout",
     "output_type": "stream",
     "text": [
      "The Zen of Python, by Tim Peters\n",
      "\n",
      "Beautiful is better than ugly.\n",
      "Explicit is better than implicit.\n",
      "Simple is better than complex.\n",
      "Complex is better than complicated.\n",
      "Flat is better than nested.\n",
      "Sparse is better than dense.\n",
      "Readability counts.\n",
      "Special cases aren't special enough to break the rules.\n",
      "Although practicality beats purity.\n",
      "Errors should never pass silently.\n",
      "Unless explicitly silenced.\n",
      "In the face of ambiguity, refuse the temptation to guess.\n",
      "There should be one-- and preferably only one --obvious way to do it.\n",
      "Although that way may not be obvious at first unless you're Dutch.\n",
      "Now is better than never.\n",
      "Although never is often better than *right* now.\n",
      "If the implementation is hard to explain, it's a bad idea.\n",
      "If the implementation is easy to explain, it may be a good idea.\n",
      "Namespaces are one honking great idea -- let's do more of those!\n"
     ]
    }
   ],
   "source": [
    "import this"
   ]
  },
  {
   "cell_type": "markdown",
   "metadata": {},
   "source": [
    "#### Descriptive naming\n",
    "* Poor naming"
   ]
  },
  {
   "cell_type": "code",
   "execution_count": 85,
   "metadata": {},
   "outputs": [],
   "source": [
    "def check(x, y=100):\n",
    "    return x >= y"
   ]
  },
  {
   "cell_type": "markdown",
   "metadata": {},
   "source": [
    "* Descriptive naming"
   ]
  },
  {
   "cell_type": "code",
   "execution_count": 86,
   "metadata": {},
   "outputs": [],
   "source": [
    "def is_boiling(temp, boiling_point=100):\n",
    "    return temp >= boiling_point"
   ]
  },
  {
   "cell_type": "markdown",
   "metadata": {},
   "source": [
    "* Going overboard"
   ]
  },
  {
   "cell_type": "code",
   "execution_count": 87,
   "metadata": {},
   "outputs": [],
   "source": [
    "def check_if_temperature_is_above_boiling_point(\n",
    "        temperature_to_check,\n",
    "        celsius_water_boiling_point=100):\n",
    "    return temperature_to_check >= celsius_water_boiling_point"
   ]
  },
  {
   "cell_type": "markdown",
   "metadata": {},
   "source": [
    "#### Keep it simple\n",
    "\n",
    "* Making a pizza - complex"
   ]
  },
  {
   "cell_type": "code",
   "execution_count": null,
   "metadata": {},
   "outputs": [],
   "source": [
    "def make_pizza(ingredients):\n",
    "    # Make dough\n",
    "    dough = mix(ingredients['yeast'],\n",
    "                ingredients['flour'],\n",
    "                ingredients['water'],\n",
    "                ingredients['salt'],\n",
    "                ingredients['shortening'])\n",
    "    \n",
    "    kneaded_dough = knead(dough)\n",
    "    risen_dough = prove(kneaded_dough)\n",
    "    \n",
    "    # Make sauce\n",
    "    sauce_base = sautee(ingredients['onion'],\n",
    "                        ingredients['garlic'],\n",
    "                        ingredients['olive oil'])\n",
    "    \n",
    "    sauce_mixture = combine(sauce_base,\n",
    "                            ingredients['tomato_paste'],\n",
    "                            ingredients['water'],\n",
    "                            ingredients['spices'])\n",
    "    \n",
    "    sauce = simmer(sauce_mixture)"
   ]
  },
  {
   "cell_type": "markdown",
   "metadata": {},
   "source": [
    "* Making a pizza - simple"
   ]
  },
  {
   "cell_type": "code",
   "execution_count": null,
   "metadata": {},
   "outputs": [],
   "source": [
    "def make_pizza(ingredients):\n",
    "    dough = make_dough(ingredients)\n",
    "    sauce = make_sauce(ingredients)\n",
    "    assembled_pizza = assemble_pizza(dough, sauce, ingredients)\n",
    "    \n",
    "    return bake(assembled_pizza)"
   ]
  },
  {
   "cell_type": "markdown",
   "metadata": {},
   "source": [
    "#### When to refactor\n",
    "* When you're using comments as section headers to denote different processes\n",
    "* It's hard to think of a good meaningful name"
   ]
  },
  {
   "cell_type": "markdown",
   "metadata": {},
   "source": [
    "### Unit testing\n",
    "\n",
    "#### Why testing?\n",
    "* Confirm code is working as intended\n",
    "* Ensure changes in one function don't break another\n",
    "* Protect against changes in a dependency\n",
    "\n",
    "#### Testing in Python\n",
    "* `doctest`\n",
    "* `pytest`\n",
    "\n",
    "#### Using doctest"
   ]
  },
  {
   "cell_type": "code",
   "execution_count": 89,
   "metadata": {},
   "outputs": [
    {
     "data": {
      "text/plain": [
       "TestResults(failed=0, attempted=1)"
      ]
     },
     "execution_count": 89,
     "metadata": {},
     "output_type": "execute_result"
    }
   ],
   "source": [
    "def square(x):\n",
    "    \"\"\"Square the number x\n",
    "    \n",
    "    :param x: number to square\n",
    "    :return: x squared\n",
    "    \n",
    "    >>> square(2)\n",
    "    4\n",
    "    \"\"\"\n",
    "    # `x * x` is faster than `x ** 2`\n",
    "    # reference: link\n",
    "    return x * x\n",
    "\n",
    "import doctest\n",
    "doctest.testmod()"
   ]
  },
  {
   "cell_type": "markdown",
   "metadata": {},
   "source": [
    "![title](helper_files/pytest_structure.png)\n",
    "![title](helper_files/pytest_structure2.png)\n",
    "\n",
    "#### Writing unit tests\n",
    "*working in `workdir/test/test_document.py`*"
   ]
  },
  {
   "cell_type": "code",
   "execution_count": null,
   "metadata": {},
   "outputs": [],
   "source": [
    "from text_analyzer import Document\n",
    "\n",
    "# Test tokens attribute on Document object\n",
    "def test_document_tokens():\n",
    "    doc = Document('a e i o u')\n",
    "    \n",
    "    assert doc.tokens == ['a', 'e', 'i', 'o', 'u']\n",
    "    \n",
    "# Test edge case of blank document\n",
    "def test_document_empty():\n",
    "    doc = Document('')\n",
    "    \n",
    "    assert doc.tokens == []\n",
    "    assert doc.word_counts == Counter()"
   ]
  },
  {
   "cell_type": "markdown",
   "metadata": {},
   "source": [
    "#### Writing unit tests\n",
    "* Note that when testing class objects, it's not wise to compare two object with double equals\n",
    "* Instead, to compare objects we can compare attributes as we see here"
   ]
  },
  {
   "cell_type": "code",
   "execution_count": null,
   "metadata": {},
   "outputs": [],
   "source": [
    "# Create 2 identical Document objects\n",
    "doc_a = Document('a e i o u')\n",
    "doc_b = Document('a e i o u')\n",
    "\n",
    "# Check if objects are ==\n",
    "print(doc_a == doc_b)\n",
    "\n",
    "# Check if attributes are ==\n",
    "print(doc_a.tokens == doc_b.tokens)\n",
    "print(doc_a.word_counts == doc_b.word_counts)"
   ]
  },
  {
   "cell_type": "markdown",
   "metadata": {},
   "source": [
    "#### Running pytest\n",
    "*working with `terminal`*"
   ]
  },
  {
   "cell_type": "code",
   "execution_count": null,
   "metadata": {},
   "outputs": [],
   "source": [
    "datacamp@server:~/work_dir $ pytest"
   ]
  },
  {
   "cell_type": "markdown",
   "metadata": {},
   "source": [
    "* To run tests for just one file:"
   ]
  },
  {
   "cell_type": "code",
   "execution_count": null,
   "metadata": {},
   "outputs": [],
   "source": [
    "datacamp@server:~/work_dir $ pytest tests/test_document.py"
   ]
  },
  {
   "cell_type": "markdown",
   "metadata": {},
   "source": [
    "### Documentation & testing in practice\n",
    "\n",
    "#### Documenting classes"
   ]
  },
  {
   "cell_type": "code",
   "execution_count": null,
   "metadata": {},
   "outputs": [],
   "source": [
    "class Document:\n",
    "    \"\"\"Analyze text data\n",
    "    \n",
    "    :param text: text to analyze\n",
    "    \n",
    "    :ivar text: text originally passed to the instance creation\n",
    "    :ivar tokens: Parsed list of words from text\n",
    "    :ivar word_counts: Counter containing counts of hashtags used in text\n",
    "    \"\"\"\n",
    "    \n",
    "    def __init__(self, text):\n",
    "        ..."
   ]
  },
  {
   "cell_type": "markdown",
   "metadata": {},
   "source": [
    "#### Continuous integration testing\n",
    "* Travis CI and other testing tools to continually test your code\n",
    "* Can have scheduled tests\n",
    "* Codecov - Discover where to improve your projects tests\n",
    "* Code Climate - Analyze your code from improvements and readability"
   ]
  },
  {
   "cell_type": "code",
   "execution_count": null,
   "metadata": {},
   "outputs": [],
   "source": []
  }
 ],
 "metadata": {
  "kernelspec": {
   "display_name": "venv_python_toolkit",
   "language": "python",
   "name": "venv_python_toolkit"
  },
  "language_info": {
   "codemirror_mode": {
    "name": "ipython",
    "version": 3
   },
   "file_extension": ".py",
   "mimetype": "text/x-python",
   "name": "python",
   "nbconvert_exporter": "python",
   "pygments_lexer": "ipython3",
   "version": "3.6.0"
  }
 },
 "nbformat": 4,
 "nbformat_minor": 2
}

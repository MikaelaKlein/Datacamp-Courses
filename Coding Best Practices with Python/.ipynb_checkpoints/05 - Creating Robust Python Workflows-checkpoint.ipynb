{
 "cells": [
  {
   "cell_type": "markdown",
   "metadata": {},
   "source": [
    "# Creating Robust Python Workflows\n",
    "\n",
    "## Chapter 1: Python Programming Principles\n",
    "\n",
    "### Don't repeat yourself\n",
    "\n",
    "#### The DRY principle\n",
    "* DRY (Don't Repeat Yourself)\n",
    "* WET (Waste Everyone's Time)"
   ]
  },
  {
   "cell_type": "code",
   "execution_count": null,
   "metadata": {},
   "outputs": [],
   "source": [
    "# Read in dataset info from text files\n",
    "with open('diabetes.txt', 'r') as file:\n",
    "    diabetes = file.read()\n",
    "    \n",
    "with open('boston.txt', 'r') as file:\n",
    "    boston = file.read()\n",
    "    \n",
    "with open('iris.txt', 'r') as file:\n",
    "    iris = file.read()"
   ]
  },
  {
   "cell_type": "markdown",
   "metadata": {},
   "source": [
    "#### Functions\n",
    "Turn the above into a function definition"
   ]
  },
  {
   "cell_type": "code",
   "execution_count": 1,
   "metadata": {},
   "outputs": [],
   "source": [
    "def read(filename):\n",
    "    with open(filename, 'r') as file:\n",
    "        return file.read()"
   ]
  },
  {
   "cell_type": "code",
   "execution_count": null,
   "metadata": {},
   "outputs": [],
   "source": [
    "# Use read() to read in diabetes.txt\n",
    "diabetes = read(\"diabetes.txt\")"
   ]
  },
  {
   "cell_type": "markdown",
   "metadata": {},
   "source": [
    "#### Repetitive function calls\n",
    "* Define a function\n",
    "* One `with` statements instead of three\n",
    "* Three repetitive function calls"
   ]
  },
  {
   "cell_type": "code",
   "execution_count": null,
   "metadata": {},
   "outputs": [],
   "source": [
    "# Use read() to read in text\n",
    "diabetes = read(\"diabetes.txt\")\n",
    "boston = read(\"boston.txt\")\n",
    "iris = read(\"iris.txt\")"
   ]
  },
  {
   "cell_type": "markdown",
   "metadata": {},
   "source": [
    "#### List comprehensions\n",
    "* Avoid writing out each function call\n",
    "* Use a list comprehension\n",
    "    * Similar to a `for` loop"
   ]
  },
  {
   "cell_type": "code",
   "execution_count": null,
   "metadata": {},
   "outputs": [],
   "source": [
    "# Create a list of filenames\n",
    "filenames = [\"diabetes.txt\",\n",
    "             \"boston.txt\",\n",
    "             \"iris.txt\"]\n",
    "\n",
    "# Read files with a list comprehension\n",
    "file_list = [read(f) for f in filenames]"
   ]
  },
  {
   "cell_type": "markdown",
   "metadata": {},
   "source": [
    "#### Multiple assignment\n",
    "* Use multiple assignment\n",
    "* Unpack the list comprehension\n",
    "* Into multiple variables\n",
    "* DRY code!"
   ]
  },
  {
   "cell_type": "code",
   "execution_count": null,
   "metadata": {},
   "outputs": [],
   "source": [
    "diabetes, boston, iris = [read(f) for f in filenames]"
   ]
  },
  {
   "cell_type": "markdown",
   "metadata": {},
   "source": [
    "#### Standard library\n",
    "* `read_text()` method\n",
    "* `Path` class\n",
    "    * Open and closes file automatically\n",
    "    * No need for `with` statements\n",
    "    * Not a build-in object\n",
    "    * Must be imported before use\n",
    "* `pathlib` module\n",
    "    * Standard library\n",
    "    * Included with Python"
   ]
  },
  {
   "cell_type": "code",
   "execution_count": null,
   "metadata": {},
   "outputs": [],
   "source": [
    "from pathlib import Path\n",
    "\n",
    "# Create a list of filenames\n",
    "filenames = [\"diabetes.txt\",\n",
    "             \"boston.txt\",\n",
    "             \"iris.txt\"]\n",
    "\n",
    "# Read files with a list comprehension\n",
    "diabetes, boston, iris  = [\n",
    "    Path(f).read_text()\n",
    "    for f in filenames\n",
    "]"
   ]
  },
  {
   "cell_type": "markdown",
   "metadata": {},
   "source": [
    "#### Generator expressions\n",
    "* To turn a list comprehension into a generator expression, replace square brackets `[]` with parentheses `()`\n",
    "* Generator expression product generators\n",
    "* Generators:\n",
    "    * Keep track of generated values\n",
    "    * Can run out of values"
   ]
  },
  {
   "cell_type": "code",
   "execution_count": null,
   "metadata": {},
   "outputs": [],
   "source": [
    "from pathlib import Path\n",
    "\n",
    "# Create a list of filenames\n",
    "filenames = [\"diabetes.txt\",\n",
    "             \"boston.txt\",\n",
    "             \"iris.txt\"]\n",
    "\n",
    "# Read files with a list comprehension\n",
    "diabetes, boston, iris  = (\n",
    "    Path(f).read_text()\n",
    "    for f in filenames\n",
    ")"
   ]
  },
  {
   "cell_type": "markdown",
   "metadata": {},
   "source": [
    "### Modularity\n",
    "\n",
    "#### What is modularity?\n",
    "* Independent, reusable objects\n",
    "* Each object only has one job\n",
    "* Separate code into modules and scripts\n",
    "\n",
    "Modules and scripts\n",
    "* Python code files\n",
    "* `.py` extensions\n",
    "\n",
    "#### Modules versus scripts\n",
    "\n",
    "Modules\n",
    "* Are imported\n",
    "* Provide tools\n",
    "* Define functions\n",
    "\n",
    "The `say` module"
   ]
  },
  {
   "cell_type": "code",
   "execution_count": 3,
   "metadata": {},
   "outputs": [],
   "source": [
    "def hello():\n",
    "    print(\"Hello World!\")"
   ]
  },
  {
   "cell_type": "markdown",
   "metadata": {},
   "source": [
    "Scripts\n",
    "* Are run\n",
    "* Perform actions\n",
    "* Call functions\n",
    "\n",
    "A script:"
   ]
  },
  {
   "cell_type": "code",
   "execution_count": null,
   "metadata": {},
   "outputs": [],
   "source": [
    "import say\n",
    "\n",
    "say.hello()"
   ]
  },
  {
   "cell_type": "markdown",
   "metadata": {},
   "source": [
    "#### Function definition and calls"
   ]
  },
  {
   "cell_type": "code",
   "execution_count": 4,
   "metadata": {},
   "outputs": [
    {
     "name": "stdout",
     "output_type": "stream",
     "text": [
      "Hello World!\n"
     ]
    }
   ],
   "source": [
    "def hello():\n",
    "    print(\"Hello World!\")\n",
    "    \n",
    "hello()"
   ]
  },
  {
   "cell_type": "code",
   "execution_count": null,
   "metadata": {},
   "outputs": [],
   "source": [
    "# If the function is called in the module above, this can cause duplication of output\n",
    "import say\n",
    "say.hello()"
   ]
  },
  {
   "cell_type": "markdown",
   "metadata": {},
   "source": [
    "#### Module-script hybrid\n",
    "* We can avoid this duplicated output by removing the function call in the module or by adding an \"if\" statement that will prevent the function from being called when the module is imported\n",
    "* Below is an example of a module-script hybrid, because it can be run as a script, or imported as a module"
   ]
  },
  {
   "cell_type": "code",
   "execution_count": null,
   "metadata": {},
   "outputs": [],
   "source": [
    "def hello():\n",
    "    print(\"Hello World!\")\n",
    "    \n",
    "if __name__ == '__main__':\n",
    "    hello()"
   ]
  },
  {
   "cell_type": "markdown",
   "metadata": {},
   "source": [
    "#### The __name__ variable\n",
    "* The surrounding double underscores are pronounced \"dunder\""
   ]
  },
  {
   "cell_type": "code",
   "execution_count": 6,
   "metadata": {},
   "outputs": [
    {
     "name": "stdout",
     "output_type": "stream",
     "text": [
      "__main__\n"
     ]
    }
   ],
   "source": [
    "def name():\n",
    "    print(__name__)\n",
    "    \n",
    "if __name__ == '__main__':\n",
    "    name()"
   ]
  },
  {
   "cell_type": "markdown",
   "metadata": {},
   "source": [
    "When run as a script:\n",
    "* `__name__` is `__main__`\n",
    "* the `if` statement code block is run"
   ]
  },
  {
   "cell_type": "code",
   "execution_count": null,
   "metadata": {},
   "outputs": [],
   "source": [
    "import say\n",
    "\n",
    "say.name() # this prints 'say'"
   ]
  },
  {
   "cell_type": "markdown",
   "metadata": {},
   "source": [
    "When imported as a module:\n",
    "* `__name__` is the module name\n",
    "* the `if` statement code block is skipped\n",
    "\n",
    "#### One function to rule them all\n",
    "* Many responsibilities: obtain matches, extract numbers, etc."
   ]
  },
  {
   "cell_type": "code",
   "execution_count": 8,
   "metadata": {},
   "outputs": [],
   "source": [
    "from pathlib import Path\n",
    "\n",
    "def do_everything(filename, match):\n",
    "    matches = (line for line in Path(filename).open() if match in line)\n",
    "    flat = (string for sublist in matches for string in sublist)\n",
    "    num_gen = (int(substring) for string in flat\n",
    "               for substring in string.split() is substring.isdigit())\n",
    "    return zip(num_gen, num_gen)"
   ]
  },
  {
   "cell_type": "markdown",
   "metadata": {},
   "source": [
    "#### One job per function\n",
    "\n",
    "We can split `do_everything()` into 4 independent, reusable functions"
   ]
  },
  {
   "cell_type": "code",
   "execution_count": 9,
   "metadata": {},
   "outputs": [],
   "source": [
    "def generate_matches(filename, match):\n",
    "    return (line for line in Path(filename).open() if match in line)\n",
    "\n",
    "def flatten(nested_list):\n",
    "    return (string for sublist in nested_list for string in sublist)\n",
    "\n",
    "def generate_numbers(string_source):\n",
    "    return (int(substrting) for string in string_source for substting in string.split if substring.isdigit())\n",
    "\n",
    "def pair(generator):\n",
    "    return zip(generator, generator)"
   ]
  },
  {
   "cell_type": "markdown",
   "metadata": {},
   "source": [
    "#### Iterators"
   ]
  },
  {
   "cell_type": "code",
   "execution_count": 10,
   "metadata": {},
   "outputs": [
    {
     "data": {
      "text/plain": [
       "[(1, 2), (3, 4)]"
      ]
     },
     "execution_count": 10,
     "metadata": {},
     "output_type": "execute_result"
    }
   ],
   "source": [
    "def pair(items):\n",
    "    iterator = iter(items)\n",
    "    return zip(iterator, iterator)\n",
    "\n",
    "pairs = list(pair([1, 2, 3, 4]))\n",
    "pairs"
   ]
  },
  {
   "cell_type": "markdown",
   "metadata": {},
   "source": [
    "`iter()`\n",
    "* turns its input (e.g. `list`)\n",
    "* into an iteragor (e.g.`list_iterator`)"
   ]
  },
  {
   "cell_type": "code",
   "execution_count": 12,
   "metadata": {},
   "outputs": [
    {
     "data": {
      "text/plain": [
       "list_iterator"
      ]
     },
     "execution_count": 12,
     "metadata": {},
     "output_type": "execute_result"
    }
   ],
   "source": [
    "type(iter([1, 2, 3, 4]))"
   ]
  },
  {
   "cell_type": "markdown",
   "metadata": {},
   "source": [
    "#### Generators are iterators\n",
    "\n",
    "`iter()` has no effect on generators:"
   ]
  },
  {
   "cell_type": "code",
   "execution_count": 13,
   "metadata": {},
   "outputs": [
    {
     "data": {
      "text/plain": [
       "generator"
      ]
     },
     "execution_count": 13,
     "metadata": {},
     "output_type": "execute_result"
    }
   ],
   "source": [
    "type(iter(x for x in [1, 2, 3, 4]))"
   ]
  },
  {
   "cell_type": "markdown",
   "metadata": {},
   "source": [
    "#### Adaptable functions\n",
    "\n",
    "* Modular functions\n",
    "    * Adaptable\n",
    "    * Reusable\n",
    "    * For example, `flatten()` can\n",
    "        * Recreate the original list\n",
    "        * From the `pairs` variable"
   ]
  },
  {
   "cell_type": "code",
   "execution_count": 14,
   "metadata": {},
   "outputs": [
    {
     "data": {
      "text/plain": [
       "[1, 2, 3, 4]"
      ]
     },
     "execution_count": 14,
     "metadata": {},
     "output_type": "execute_result"
    }
   ],
   "source": [
    "list(flatten(pairs))"
   ]
  },
  {
   "cell_type": "markdown",
   "metadata": {},
   "source": [
    "#### Example 1 from exercises"
   ]
  },
  {
   "cell_type": "code",
   "execution_count": 15,
   "metadata": {},
   "outputs": [
    {
     "ename": "FileNotFoundError",
     "evalue": "[Errno 2] No such file or directory: 'diabetes.txt'",
     "output_type": "error",
     "traceback": [
      "\u001b[0;31m---------------------------------------------------------------------------\u001b[0m",
      "\u001b[0;31mFileNotFoundError\u001b[0m                         Traceback (most recent call last)",
      "\u001b[0;32m<ipython-input-15-b8e91f436419>\u001b[0m in \u001b[0;36m<module>\u001b[0;34m\u001b[0m\n\u001b[1;32m      7\u001b[0m     \u001b[0;32mreturn\u001b[0m \u001b[0;34m[\u001b[0m\u001b[0mword\u001b[0m \u001b[0;32mfor\u001b[0m \u001b[0mword\u001b[0m \u001b[0;32min\u001b[0m \u001b[0mwords\u001b[0m \u001b[0;32mif\u001b[0m \u001b[0mlen\u001b[0m\u001b[0;34m(\u001b[0m\u001b[0mword\u001b[0m\u001b[0;34m)\u001b[0m \u001b[0;34m>=\u001b[0m \u001b[0mminimum_length\u001b[0m\u001b[0;34m]\u001b[0m\u001b[0;34m\u001b[0m\u001b[0;34m\u001b[0m\u001b[0m\n\u001b[1;32m      8\u001b[0m \u001b[0;34m\u001b[0m\u001b[0m\n\u001b[0;32m----> 9\u001b[0;31m \u001b[0mwords\u001b[0m \u001b[0;34m=\u001b[0m \u001b[0mobtain_words\u001b[0m\u001b[0;34m(\u001b[0m\u001b[0mPath\u001b[0m\u001b[0;34m(\u001b[0m\u001b[0;34m\"diabetes.txt\"\u001b[0m\u001b[0;34m)\u001b[0m\u001b[0;34m.\u001b[0m\u001b[0mread_text\u001b[0m\u001b[0;34m(\u001b[0m\u001b[0;34m)\u001b[0m\u001b[0;34m.\u001b[0m\u001b[0mlower\u001b[0m\u001b[0;34m(\u001b[0m\u001b[0;34m)\u001b[0m\u001b[0;34m)\u001b[0m\u001b[0;34m\u001b[0m\u001b[0;34m\u001b[0m\u001b[0m\n\u001b[0m\u001b[1;32m     10\u001b[0m \u001b[0mfiltered_words\u001b[0m \u001b[0;34m=\u001b[0m \u001b[0mfilter_words\u001b[0m\u001b[0;34m(\u001b[0m\u001b[0mwords\u001b[0m\u001b[0;34m)\u001b[0m\u001b[0;34m\u001b[0m\u001b[0;34m\u001b[0m\u001b[0m\n\u001b[1;32m     11\u001b[0m \u001b[0mpprint\u001b[0m\u001b[0;34m(\u001b[0m\u001b[0mfiltered_words\u001b[0m\u001b[0;34m)\u001b[0m\u001b[0;34m\u001b[0m\u001b[0;34m\u001b[0m\u001b[0m\n",
      "\u001b[0;32m/usr/local/Cellar/python/3.7.7/Frameworks/Python.framework/Versions/3.7/lib/python3.7/pathlib.py\u001b[0m in \u001b[0;36mread_text\u001b[0;34m(self, encoding, errors)\u001b[0m\n\u001b[1;32m   1214\u001b[0m         \u001b[0mOpen\u001b[0m \u001b[0mthe\u001b[0m \u001b[0mfile\u001b[0m \u001b[0;32min\u001b[0m \u001b[0mtext\u001b[0m \u001b[0mmode\u001b[0m\u001b[0;34m,\u001b[0m \u001b[0mread\u001b[0m \u001b[0mit\u001b[0m\u001b[0;34m,\u001b[0m \u001b[0;32mand\u001b[0m \u001b[0mclose\u001b[0m \u001b[0mthe\u001b[0m \u001b[0mfile\u001b[0m\u001b[0;34m.\u001b[0m\u001b[0;34m\u001b[0m\u001b[0;34m\u001b[0m\u001b[0m\n\u001b[1;32m   1215\u001b[0m         \"\"\"\n\u001b[0;32m-> 1216\u001b[0;31m         \u001b[0;32mwith\u001b[0m \u001b[0mself\u001b[0m\u001b[0;34m.\u001b[0m\u001b[0mopen\u001b[0m\u001b[0;34m(\u001b[0m\u001b[0mmode\u001b[0m\u001b[0;34m=\u001b[0m\u001b[0;34m'r'\u001b[0m\u001b[0;34m,\u001b[0m \u001b[0mencoding\u001b[0m\u001b[0;34m=\u001b[0m\u001b[0mencoding\u001b[0m\u001b[0;34m,\u001b[0m \u001b[0merrors\u001b[0m\u001b[0;34m=\u001b[0m\u001b[0merrors\u001b[0m\u001b[0;34m)\u001b[0m \u001b[0;32mas\u001b[0m \u001b[0mf\u001b[0m\u001b[0;34m:\u001b[0m\u001b[0;34m\u001b[0m\u001b[0;34m\u001b[0m\u001b[0m\n\u001b[0m\u001b[1;32m   1217\u001b[0m             \u001b[0;32mreturn\u001b[0m \u001b[0mf\u001b[0m\u001b[0;34m.\u001b[0m\u001b[0mread\u001b[0m\u001b[0;34m(\u001b[0m\u001b[0;34m)\u001b[0m\u001b[0;34m\u001b[0m\u001b[0;34m\u001b[0m\u001b[0m\n\u001b[1;32m   1218\u001b[0m \u001b[0;34m\u001b[0m\u001b[0m\n",
      "\u001b[0;32m/usr/local/Cellar/python/3.7.7/Frameworks/Python.framework/Versions/3.7/lib/python3.7/pathlib.py\u001b[0m in \u001b[0;36mopen\u001b[0;34m(self, mode, buffering, encoding, errors, newline)\u001b[0m\n\u001b[1;32m   1201\u001b[0m             \u001b[0mself\u001b[0m\u001b[0;34m.\u001b[0m\u001b[0m_raise_closed\u001b[0m\u001b[0;34m(\u001b[0m\u001b[0;34m)\u001b[0m\u001b[0;34m\u001b[0m\u001b[0;34m\u001b[0m\u001b[0m\n\u001b[1;32m   1202\u001b[0m         return io.open(self, mode, buffering, encoding, errors, newline,\n\u001b[0;32m-> 1203\u001b[0;31m                        opener=self._opener)\n\u001b[0m\u001b[1;32m   1204\u001b[0m \u001b[0;34m\u001b[0m\u001b[0m\n\u001b[1;32m   1205\u001b[0m     \u001b[0;32mdef\u001b[0m \u001b[0mread_bytes\u001b[0m\u001b[0;34m(\u001b[0m\u001b[0mself\u001b[0m\u001b[0;34m)\u001b[0m\u001b[0;34m:\u001b[0m\u001b[0;34m\u001b[0m\u001b[0;34m\u001b[0m\u001b[0m\n",
      "\u001b[0;32m/usr/local/Cellar/python/3.7.7/Frameworks/Python.framework/Versions/3.7/lib/python3.7/pathlib.py\u001b[0m in \u001b[0;36m_opener\u001b[0;34m(self, name, flags, mode)\u001b[0m\n\u001b[1;32m   1056\u001b[0m     \u001b[0;32mdef\u001b[0m \u001b[0m_opener\u001b[0m\u001b[0;34m(\u001b[0m\u001b[0mself\u001b[0m\u001b[0;34m,\u001b[0m \u001b[0mname\u001b[0m\u001b[0;34m,\u001b[0m \u001b[0mflags\u001b[0m\u001b[0;34m,\u001b[0m \u001b[0mmode\u001b[0m\u001b[0;34m=\u001b[0m\u001b[0;36m0o666\u001b[0m\u001b[0;34m)\u001b[0m\u001b[0;34m:\u001b[0m\u001b[0;34m\u001b[0m\u001b[0;34m\u001b[0m\u001b[0m\n\u001b[1;32m   1057\u001b[0m         \u001b[0;31m# A stub for the opener argument to built-in open()\u001b[0m\u001b[0;34m\u001b[0m\u001b[0;34m\u001b[0m\u001b[0;34m\u001b[0m\u001b[0m\n\u001b[0;32m-> 1058\u001b[0;31m         \u001b[0;32mreturn\u001b[0m \u001b[0mself\u001b[0m\u001b[0;34m.\u001b[0m\u001b[0m_accessor\u001b[0m\u001b[0;34m.\u001b[0m\u001b[0mopen\u001b[0m\u001b[0;34m(\u001b[0m\u001b[0mself\u001b[0m\u001b[0;34m,\u001b[0m \u001b[0mflags\u001b[0m\u001b[0;34m,\u001b[0m \u001b[0mmode\u001b[0m\u001b[0;34m)\u001b[0m\u001b[0;34m\u001b[0m\u001b[0;34m\u001b[0m\u001b[0m\n\u001b[0m\u001b[1;32m   1059\u001b[0m \u001b[0;34m\u001b[0m\u001b[0m\n\u001b[1;32m   1060\u001b[0m     \u001b[0;32mdef\u001b[0m \u001b[0m_raw_open\u001b[0m\u001b[0;34m(\u001b[0m\u001b[0mself\u001b[0m\u001b[0;34m,\u001b[0m \u001b[0mflags\u001b[0m\u001b[0;34m,\u001b[0m \u001b[0mmode\u001b[0m\u001b[0;34m=\u001b[0m\u001b[0;36m0o777\u001b[0m\u001b[0;34m)\u001b[0m\u001b[0;34m:\u001b[0m\u001b[0;34m\u001b[0m\u001b[0;34m\u001b[0m\u001b[0m\n",
      "\u001b[0;31mFileNotFoundError\u001b[0m: [Errno 2] No such file or directory: 'diabetes.txt'"
     ]
    }
   ],
   "source": [
    "def obtain_words(string):\n",
    "    # Replace non-alphabetic characters with spaces\n",
    "    return \"\".join(char if char.isalpha() else \" \" for char in string).split()\n",
    "\n",
    "def filter_words(words, minimum_length=3):\n",
    "    # Remove words shorter than 3 characters\n",
    "    return [word for word in words if len(word) >= minimum_length]\n",
    "\n",
    "words = obtain_words(Path(\"diabetes.txt\").read_text().lower())\n",
    "filtered_words = filter_words(words)\n",
    "pprint(filtered_words)"
   ]
  },
  {
   "cell_type": "markdown",
   "metadata": {},
   "source": [
    "#### Example 2 from exercises"
   ]
  },
  {
   "cell_type": "code",
   "execution_count": 17,
   "metadata": {},
   "outputs": [],
   "source": [
    "filtered_words = ['diabetes',\n",
    " 'dataset',\n",
    " 'diabetes',\n",
    " 'dataset',\n",
    " 'baseline',\n",
    " 'variables',\n",
    " 'body',\n",
    " 'mass',\n",
    " 'index',\n",
    " 'average',\n",
    " 'blood',\n",
    " 'pressure',\n",
    " 'blood',\n",
    " 'serum',\n",
    " 'measurements',\n",
    " 'were',\n",
    " 'obtained',\n",
    " 'each',\n",
    " 'diabetes',\n",
    " 'patients',\n",
    " 'well',\n",
    " 'response',\n",
    " 'interest',\n",
    " 'quantitative',\n",
    " 'measure',\n",
    " 'disease',\n",
    " 'progression',\n",
    " 'year',\n",
    " 'after',\n",
    " 'baseline',\n",
    " 'data',\n",
    " 'characteristics',\n",
    " 'number',\n",
    " 'instances',\n",
    " 'number',\n",
    " 'attributes',\n",
    " 'first',\n",
    " 'columns',\n",
    " 'numeric',\n",
    " 'predictive',\n",
    " 'values',\n",
    " 'target',\n",
    " 'column',\n",
    " 'quantitative',\n",
    " 'measure',\n",
    " 'disease',\n",
    " 'progression',\n",
    " 'year',\n",
    " 'after',\n",
    " 'baseline',\n",
    " 'attribute',\n",
    " 'information',\n",
    " 'body',\n",
    " 'mass',\n",
    " 'index',\n",
    " 'average',\n",
    " 'blood',\n",
    " 'pressure',\n",
    " 'note',\n",
    " 'each',\n",
    " 'these',\n",
    " 'feature',\n",
    " 'variables',\n",
    " 'have',\n",
    " 'been',\n",
    " 'mean',\n",
    " 'centered',\n",
    " 'scaled',\n",
    " 'standard',\n",
    " 'deviation',\n",
    " 'times',\n",
    " 'samples',\n",
    " 'squares',\n",
    " 'each',\n",
    " 'column',\n",
    " 'totals',\n",
    " 'source',\n",
    " 'https',\n",
    " 'stat',\n",
    " 'ncsu',\n",
    " 'boos',\n",
    " 'select',\n",
    " 'diabetes',\n",
    " 'html',\n",
    " 'more',\n",
    " 'information',\n",
    " 'bradley',\n",
    " 'efron',\n",
    " 'trevor',\n",
    " 'hastie',\n",
    " 'iain',\n",
    " 'johnstone',\n",
    " 'robert',\n",
    " 'tibshirani',\n",
    " 'least',\n",
    " 'angle',\n",
    " 'regression',\n",
    " 'annals',\n",
    " 'statistics',\n",
    " 'with',\n",
    " 'discussion',\n",
    " 'https',\n",
    " 'stanford',\n",
    " 'hastie',\n",
    " 'papers',\n",
    " 'lars',\n",
    " 'leastangle']"
   ]
  },
  {
   "cell_type": "code",
   "execution_count": 21,
   "metadata": {},
   "outputs": [
    {
     "data": {
      "image/png": "[encoded data removed]",
      "text/plain": [
       "<Figure size 432x288 with 1 Axes>"
      ]
     },
     "metadata": {
      "needs_background": "light"
     },
     "output_type": "display_data"
    }
   ],
   "source": [
    "import pandas as pd\n",
    "import matplotlib.pyplot as plt\n",
    "\n",
    "def count_words(word_list):\n",
    "    # Count the words in the input list\n",
    "    return {word: word_list.count(word) for word in word_list}\n",
    "\n",
    "# Create the dictionary of words and word counts\n",
    "word_count_dictionary = count_words(filtered_words)\n",
    "\n",
    "(pd.DataFrame(word_count_dictionary.items())\n",
    " .sort_values(by=1, ascending=False)\n",
    " .head()\n",
    " .plot(x=0, kind=\"barh\", xticks=range(5), legend=False)\n",
    " .set_ylabel(\"\")\n",
    ")\n",
    "\n",
    "plt.show()"
   ]
  },
  {
   "cell_type": "markdown",
   "metadata": {},
   "source": [
    "### Abstraction\n",
    "\n",
    "#### Abstraction\n",
    "* Hide implementation details\n",
    "* Design user interfaces\n",
    "* Facilitate code use\n",
    "* Car example:\n",
    "    * Engine\n",
    "        * Combustion\n",
    "        * Electric\n",
    "        \n",
    "#### Classes\n",
    "* Templates for creating Python objects\n",
    "* Represent real-life objects\n",
    "* `Cat` class example:\n",
    "    * User interface:\n",
    "        * `feed()` and `rub()` methods\n",
    "    * Implementation details:\n",
    "        * Feline anatomy\n",
    "        \n",
    "#### Class definition"
   ]
  },
  {
   "cell_type": "code",
   "execution_count": 23,
   "metadata": {},
   "outputs": [],
   "source": [
    "from pathlib import Path\n",
    "\n",
    "class TextFile:\n",
    "    def __init__(self, file):\n",
    "        self.text = Path(file).read_text()"
   ]
  },
  {
   "cell_type": "markdown",
   "metadata": {},
   "source": [
    "* The `TextFile` class\n",
    "    * Represents any text file\n",
    "    * Creates `TextFile` instances\n",
    "        * Represent specific text files\n",
    "        \n",
    "#### Instantiation\n",
    "* `TextFile` creates instances\n",
    "    * By passing the `file` argument\n",
    "    * To the `__init__()` method"
   ]
  },
  {
   "cell_type": "code",
   "execution_count": null,
   "metadata": {},
   "outputs": [],
   "source": [
    "diabetes = TextFile('diabetes.txt')\n",
    "diabetes.text[:20]"
   ]
  },
  {
   "cell_type": "markdown",
   "metadata": {},
   "source": [
    "#### Instance attributes\n",
    "* Variables assigned to \"self\" by `__init__()` are called \"instance attributes\"\n",
    "* The one below creates two: `text` and `words"
   ]
  },
  {
   "cell_type": "code",
   "execution_count": 24,
   "metadata": {},
   "outputs": [],
   "source": [
    "from pathlib import Path\n",
    "\n",
    "class TextFile:\n",
    "    def __init__(self, file):\n",
    "        self.text = Path(file).read_text()\n",
    "        self.words = ''.join(c if c.isalpha() else ' ' for c in self.text).split()"
   ]
  },
  {
   "cell_type": "markdown",
   "metadata": {},
   "source": [
    "#### Instance methods"
   ]
  },
  {
   "cell_type": "code",
   "execution_count": null,
   "metadata": {},
   "outputs": [],
   "source": [
    "from pathlib import Path\n",
    "\n",
    "class TextFile:\n",
    "    def __init__(self, file):\n",
    "        self.text = Path(file).read_text()\n",
    "        self.words = ''.join(c if c.isalpha() else ' ' for c in self.text).split()\n",
    "        \n",
    "    def len_dict(self):\n",
    "        return {word: len(word) for word in self.words}"
   ]
  },
  {
   "cell_type": "markdown",
   "metadata": {},
   "source": [
    "#### Method chaining"
   ]
  },
  {
   "cell_type": "code",
   "execution_count": null,
   "metadata": {},
   "outputs": [],
   "source": [
    "(pd.DataFrame(diabetes.len_dict().items())\n",
    " .sort_values(by=1, ascending=False)\n",
    " .head(n=4)\n",
    ")"
   ]
  },
  {
   "cell_type": "markdown",
   "metadata": {},
   "source": [
    "* `DataFrame` instance methods"
   ]
  },
  {
   "cell_type": "code",
   "execution_count": 25,
   "metadata": {},
   "outputs": [],
   "source": [
    "def head(self, n=5):\n",
    "    return self.iloc[:n]"
   ]
  },
  {
   "cell_type": "markdown",
   "metadata": {},
   "source": [
    "* Accept `DataFrame` instances\n",
    "    * As their `self` argument\n",
    "* Return `DataFrame` instances\n",
    "    * By returning `self`"
   ]
  },
  {
   "cell_type": "markdown",
   "metadata": {},
   "source": [
    "#### Class attributes\n",
    "* Variable that are assigned inside classes, but outside `__init__()` are called class attributes"
   ]
  },
  {
   "cell_type": "code",
   "execution_count": 26,
   "metadata": {},
   "outputs": [
    {
     "data": {
      "text/plain": [
       "[]"
      ]
     },
     "execution_count": 26,
     "metadata": {},
     "output_type": "execute_result"
    }
   ],
   "source": [
    "class TextFile:\n",
    "    \n",
    "    instances = []\n",
    "    \n",
    "    def __init__(self, file):\n",
    "        self.text = Path(file).read_text()\n",
    "        self.__class__.instances.append(file)\n",
    "        \n",
    "TextFile.instances"
   ]
  },
  {
   "cell_type": "markdown",
   "metadata": {},
   "source": [
    "#### Class methods\n",
    "* `@classmethod` is a decorator\n",
    "* decorators change the behavior of the functions they decorate\n",
    "* Because of the `@classmethod` decorator, the first parameter in class method definition represents the class and not a class instance."
   ]
  },
  {
   "cell_type": "code",
   "execution_count": 29,
   "metadata": {},
   "outputs": [],
   "source": [
    "class TextFile:\n",
    "    \n",
    "    instances = []\n",
    "    \n",
    "    def __init__(self, file):\n",
    "        self.text = Path(file).read_text()\n",
    "        self.__class__.instances.append(file)\n",
    "        \n",
    "    @classmethod # this is a decorator\n",
    "    def instantiate(cls, filenames): # this will allow us to simultaneously create multiple instances\n",
    "        return(cls(filename) for filename in filenames)\n",
    "    \n",
    "        # could also have done it this way\n",
    "        # return map(cls, filenames)"
   ]
  },
  {
   "cell_type": "markdown",
   "metadata": {},
   "source": [
    "#### Instantiate"
   ]
  },
  {
   "cell_type": "code",
   "execution_count": null,
   "metadata": {},
   "outputs": [],
   "source": [
    "# one instance\n",
    "iris = TextFile('iris.txt')\n",
    "\n",
    "# multiple instances\n",
    "boston, diabetes = TextFile.instantiate(['boston.txt', 'diabetes.txt'])\n",
    "TextFile.instances"
   ]
  }
 ],
 "metadata": {
  "kernelspec": {
   "display_name": "Python 3",
   "language": "python",
   "name": "python3"
  },
  "language_info": {
   "codemirror_mode": {
    "name": "ipython",
    "version": 3
   },
   "file_extension": ".py",
   "mimetype": "text/x-python",
   "name": "python",
   "nbconvert_exporter": "python",
   "pygments_lexer": "ipython3",
   "version": "3.7.7"
  }
 },
 "nbformat": 4,
 "nbformat_minor": 2
}

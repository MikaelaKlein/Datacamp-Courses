{
 "cells": [
  {
   "cell_type": "markdown",
   "metadata": {},
   "source": [
    "# Introduction to Bash Scripting\n",
    "\n",
    "## Chapter 1: From Command-Line to Bash Script\n",
    "\n",
    "### Introduction and refresher\n",
    "\n",
    "#### Introduction to the course\n",
    "This course will cover:\n",
    "* Moving from command-line to a Bash script\n",
    "* Variables and data types in Bash scripting\n",
    "* Control statements\n",
    "* Functions and script automation\n",
    "\n",
    "#### Why Bash scripting? (Bash)\n",
    "Firstly, let's consider why Bash?\n",
    "* Bash stands for '**B**ourne **A**gain **S**hell' (a pun)\n",
    "* Developed in the 80's but a very popular shell today. Default in many Unix systems, Macs\n",
    "* Unix is the internet! (Running ML Models, Datat Pipeline)\n",
    "    * AWS, Google, Microsoft all have CLI's to their products\n",
    "    \n",
    "#### Why Bash scripting? (scripting!)\n",
    "So why Bash scripting?\n",
    "* Ease of execution of shell commands (no need to copy-paste every time!)\n",
    "* Powerful programming constructs\n",
    "\n",
    "#### Shell commands refersher\n",
    "Some important shell commands:\n",
    "* `(e)grep` filters input based on regex pattern matching\n",
    "* `cat` concatenates file contents line-by-line\n",
    "* `tail` \\ `head` give only the last `-n` (a flag) lines\n",
    "* `wc` does a word or line count (with flags `-w` `-l`)\n",
    "* `sed` does pattern-matched string replacement\n",
    "\n",
    "### Your first Bash script\n",
    "\n",
    "#### Bash script anatomy\n",
    "A Bash script has a few key defining features:\n",
    "* It usually begins with `#!/usr/bash` (on its own line)\n",
    "    * So your interpreter knows it is a Bash scrip and to use Bash located in `/usr/bash`\n",
    "    * This coule be a different path if you installed Bash somewhere else (type `which bash` to check)\n",
    "* Middle lines contain code\n",
    "    * This may be line-by-line commands or programming constructs\n",
    "    \n",
    "To save and run:\n",
    "* It has a file extention `.sh`\n",
    "    * Technically not needed if first line has the she-band and path to Bash (`#!/usr/bash`), but a convention\n",
    "* Can be run in the terminal using `bash script_name.sh`\n",
    "    * Or if you have mentioned first line (`#!/usr/bash`) you can simply run using `./script_name.sh`\n",
    "     \n",
    "#### Bash script example\n",
    "An example of a full script (called `eg.sh`) is:"
   ]
  },
  {
   "cell_type": "code",
   "execution_count": null,
   "metadata": {},
   "outputs": [],
   "source": [
    "#!/usr/bash\n",
    "echo \"Hello world\"\n",
    "echo \"Goodbye world\""
   ]
  },
  {
   "cell_type": "markdown",
   "metadata": {},
   "source": [
    "Could be run with the command `./eg/sh`.\n",
    "\n",
    "#### Bash and shell commands\n",
    "Each line of your Bash script can be a shell command.\n",
    "\n",
    "Therefore, you can also include pipes in your Bash scripts.\n",
    "\n",
    "Consider a text file (`animals.txt`)\n",
    "\n",
    "Count the animals in each group.\n",
    "\n",
    "In shell you could write a chained command in the terminal. Let's instead put that into a script (`group.sh`):"
   ]
  },
  {
   "cell_type": "code",
   "execution_count": null,
   "metadata": {},
   "outputs": [],
   "source": [
    "#!/usr/bash\n",
    "cat animals.txt | cut -d \" \" -f 2 | sort | uniq -c"
   ]
  },
  {
   "cell_type": "markdown",
   "metadata": {},
   "source": [
    "Now (after saving the script) run `bash group.sh`.\n",
    "\n",
    "### Standard Streams and Arguments\n",
    "\n",
    "#### STDIN-STDOUT-STDERR\n",
    "In Bash scripting, there are three 'streams' for your program:\n",
    "* STDIN (standard input). A stream of data into the program\n",
    "* STDOUT (standard output). A stream of data **out** of the program\n",
    "* STDERR (standard error). Errors in your program\n",
    "\n",
    "By default, these streams will come from and write out to the terminal.\n",
    "\n",
    "Though you may see `2> /dev/null` in script calls; redirecting STDERR to be deleted. (`1> /dev/null` would be STDOUT)\n",
    "\n",
    "#### STDIN example\n",
    "Consider a text file (`sport.txt`) with 3 lines of data.\n",
    "\n",
    "The `cat sports.txt 1> new_sports.txt` command is an example of taking data from the file and writing STDOUT to a new file. See what happends if you `cat new_sports.txt`\n",
    "\n",
    "#### STDIN vs. ARGV\n",
    "A key concept in Bash scripting is **arguments**\n",
    "\n",
    "Bash scripts can take **arguments** to be used inside by adding a space aft er the script execution call.\n",
    "* ARGV is the array of all the arguments given to the program.\n",
    "* Each argument can be accessed via the `$` notation. The first as `$1`, the second as `$2` etc.\n",
    "* `$@` and `$*` give all the arguments in ARGV.\n",
    "\n",
    "#### ARGV example\n",
    "Consider an example script (`args.sh`)"
   ]
  },
  {
   "cell_type": "code",
   "execution_count": null,
   "metadata": {},
   "outputs": [],
   "source": [
    "#!/usr/bash\n",
    "echo $1\n",
    "echo $2\n",
    "echo $@\n",
    "echo \"There are \" $# \"arguments\""
   ]
  },
  {
   "cell_type": "markdown",
   "metadata": {},
   "source": [
    "Now running `bash args.sh one two three four five`, the output is:"
   ]
  },
  {
   "cell_type": "code",
   "execution_count": null,
   "metadata": {},
   "outputs": [],
   "source": [
    "# one\n",
    "# two\n",
    "# one two three four five\n",
    "# There are 4 arguments"
   ]
  },
  {
   "cell_type": "markdown",
   "metadata": {},
   "source": [
    "## Chapter 2: Variables in Bash Scripting\n",
    "\n",
    "### Basic variables in Bash\n",
    "Similar to other languages, you can assign variables with the equals notation."
   ]
  },
  {
   "cell_type": "code",
   "execution_count": null,
   "metadata": {},
   "outputs": [],
   "source": [
    "var1=\"Moon\""
   ]
  },
  {
   "cell_type": "markdown",
   "metadata": {},
   "source": [
    "Then reference with `$` notation."
   ]
  },
  {
   "cell_type": "code",
   "execution_count": null,
   "metadata": {},
   "outputs": [],
   "source": [
    "echo $var1"
   ]
  },
  {
   "cell_type": "markdown",
   "metadata": {},
   "source": [
    "#### Assigning string variables\n",
    "Name your variable as you like (something sensible!):"
   ]
  },
  {
   "cell_type": "code",
   "execution_count": null,
   "metadata": {},
   "outputs": [],
   "source": [
    "firstname='Cynthia'\n",
    "lastname='Liu'\n",
    "echo \"Hi there\" $firstname $lastname"
   ]
  },
  {
   "cell_type": "markdown",
   "metadata": {},
   "source": [
    "#### Missing the $ notation\n",
    "If you miss the `$` notation - it isn't a variable!"
   ]
  },
  {
   "cell_type": "code",
   "execution_count": 1,
   "metadata": {},
   "outputs": [
    {
     "name": "stdout",
     "output_type": "stream",
     "text": [
      "Hi there firstname lastname\r\n"
     ]
    }
   ],
   "source": [
    "! echo \"Hi there\" firstname lastname"
   ]
  },
  {
   "cell_type": "markdown",
   "metadata": {},
   "source": [
    "#### (Not) assigning variables\n",
    "Bash is not very forgiving about spaces in variable creation. Beware of adding spaces!"
   ]
  },
  {
   "cell_type": "code",
   "execution_count": 2,
   "metadata": {},
   "outputs": [
    {
     "name": "stdout",
     "output_type": "stream",
     "text": [
      "\r\n",
      "/bin/sh: var1: command not found\r\n"
     ]
    }
   ],
   "source": [
    "! var1 = \"Moon\" | echo $var1"
   ]
  },
  {
   "cell_type": "markdown",
   "metadata": {},
   "source": [
    "#### Single, double, backticks\n",
    "In Bash, using different quotation markets can mean different things. Both when creating variables and printing.\n",
    "* Single quotes (`'sometext'`) = Shell interprets what is between literally\n",
    "* Double quotes (`\"sometext\"`) = Shell interprets literally **except** using `$` and backticks \\``\n",
    "\n",
    "The last way createds a 'shell-within-a-shell', outlined below. Useful for alling command-line programs. This is done with backticks.\n",
    "* Backticks(\\`sometext\\`) = Shell runs the command and captures STDOUT back into a variable\n",
    "\n",
    "#### Different variable creation\n",
    "Let's see the effect of different types of variable creation"
   ]
  },
  {
   "cell_type": "code",
   "execution_count": null,
   "metadata": {},
   "outputs": [],
   "source": [
    "now_var='NOW'\n",
    "now_var_singlequote='$now_var'\n",
    "echo $now_var_singlequote\n",
    "# ------------\n",
    "# $now_var"
   ]
  },
  {
   "cell_type": "code",
   "execution_count": null,
   "metadata": {},
   "outputs": [],
   "source": [
    "now_var_doublequote=\"$now_var\"\n",
    "echo $now_var_doublequote\n",
    "# ------------\n",
    "# NOW"
   ]
  },
  {
   "cell_type": "markdown",
   "metadata": {},
   "source": [
    "#### The date program\n",
    "The `Date` program will be useful for demonstrating backticks\n",
    "\n",
    "Normal output of this program:"
   ]
  },
  {
   "cell_type": "code",
   "execution_count": null,
   "metadata": {},
   "outputs": [],
   "source": [
    "date\n",
    "# ------------\n",
    "# Sun Apr  5 20:16:19 PDT 2020 "
   ]
  },
  {
   "cell_type": "markdown",
   "metadata": {},
   "source": [
    "#### Shell within a shell\n",
    "Let's use the shell-within-a-shell now:"
   ]
  },
  {
   "cell_type": "code",
   "execution_count": null,
   "metadata": {},
   "outputs": [],
   "source": [
    "rightnow_doublequote=\"The date is `date`.\"\n",
    "echo $rightnow_doublequote\n",
    "# ------------\n",
    "# The date is Sun Apr  5 20:18:07 PDT 2020."
   ]
  },
  {
   "cell_type": "markdown",
   "metadata": {},
   "source": [
    "The date program was called, output captured and combined in-line with the `echo` call.\n",
    "\n",
    "#### Parenteses vs backtics\n",
    "There is an equivalent to the backtick notation:"
   ]
  },
  {
   "cell_type": "code",
   "execution_count": null,
   "metadata": {},
   "outputs": [],
   "source": [
    "rightnow_doublequote=\"The date is `date`.\"\n",
    "rightnow_parentheses=\"The date is $(date).\"\n",
    "echo $rightnow_doublequote\n",
    "echo $rightnow_parentheses\n",
    "# --------------\n",
    "# The date is Sun Apr  5 20:18:07 PDT 2020.\n",
    "# The date is Sun Apr  5 20:18:07 PDT 2020."
   ]
  },
  {
   "cell_type": "markdown",
   "metadata": {},
   "source": [
    "Both work the same though usins backticks is older. Parenthesis is used more in modern applications.\n",
    "\n",
    "### Numeric variables in Bash\n",
    "\n",
    "#### Numbers in other languages\n",
    "Numbers are not built in natively to the shell like most REPLs (console) such as R and Python\n",
    "\n",
    "In Python or R you may do:"
   ]
  },
  {
   "cell_type": "code",
   "execution_count": 6,
   "metadata": {},
   "outputs": [
    {
     "data": {
      "text/plain": [
       "5"
      ]
     },
     "execution_count": 6,
     "metadata": {},
     "output_type": "execute_result"
    }
   ],
   "source": [
    "1 + 4"
   ]
  },
  {
   "cell_type": "markdown",
   "metadata": {},
   "source": [
    "It will return what you want!\n",
    "\n",
    "#### Numbers in the shell\n",
    "Numbers are not natively supported (you will get an error running the same thing as above)\n",
    "\n",
    "#### Introducing expr\n",
    "`expr` is a useful utility program (just like `cat` or `grep`)\n",
    "\n",
    "This will now work (in the terminal):"
   ]
  },
  {
   "cell_type": "code",
   "execution_count": 8,
   "metadata": {},
   "outputs": [
    {
     "name": "stdout",
     "output_type": "stream",
     "text": [
      "5\r\n"
     ]
    }
   ],
   "source": [
    "! expr 1 + 4"
   ]
  },
  {
   "cell_type": "markdown",
   "metadata": {},
   "source": [
    "#### expr limitations\n",
    "`expr` cannot natively handle decimal places:"
   ]
  },
  {
   "cell_type": "code",
   "execution_count": 10,
   "metadata": {},
   "outputs": [
    {
     "name": "stdout",
     "output_type": "stream",
     "text": [
      "expr: not a decimal number: '2.5'\r\n"
     ]
    }
   ],
   "source": [
    "! expr 1 + 2.5"
   ]
  },
  {
   "cell_type": "markdown",
   "metadata": {},
   "source": [
    "#### Introducting bc\n",
    "`bc` (basic calculator) is a useful command-line program.\n",
    "\n",
    "#### Getting numbers to bc\n",
    "Using `bc` without opening the calculator is possible by piping:"
   ]
  },
  {
   "cell_type": "code",
   "execution_count": 11,
   "metadata": {},
   "outputs": [
    {
     "name": "stdout",
     "output_type": "stream",
     "text": [
      "12.5\r\n"
     ]
    }
   ],
   "source": [
    "! echo \"5 + 7.5\" | bc"
   ]
  },
  {
   "cell_type": "markdown",
   "metadata": {},
   "source": [
    "#### bc scale argument\n",
    "`bc` also has a `scale` argument for how many decimal places."
   ]
  },
  {
   "cell_type": "code",
   "execution_count": 13,
   "metadata": {},
   "outputs": [
    {
     "name": "stdout",
     "output_type": "stream",
     "text": [
      "3\r\n"
     ]
    }
   ],
   "source": [
    "! echo \"10 / 3\" | bc"
   ]
  },
  {
   "cell_type": "code",
   "execution_count": 14,
   "metadata": {},
   "outputs": [
    {
     "name": "stdout",
     "output_type": "stream",
     "text": [
      "3.333\r\n"
     ]
    }
   ],
   "source": [
    "! echo \"scale=3; 10/3\" | bc"
   ]
  },
  {
   "cell_type": "markdown",
   "metadata": {},
   "source": [
    "Note the use of `;` to separate 'line' in terminal"
   ]
  },
  {
   "cell_type": "markdown",
   "metadata": {},
   "source": [
    "#### Numbers in Bash scripts\n",
    "We can assign numeric variables just like string variables:"
   ]
  },
  {
   "cell_type": "code",
   "execution_count": null,
   "metadata": {},
   "outputs": [],
   "source": [
    "dog_name='Roger'\n",
    "dog_age=6\n",
    "echo \"My dog's name is $dog_name and he is $dog_age years old\""
   ]
  },
  {
   "cell_type": "markdown",
   "metadata": {},
   "source": [
    "Beware that `dog_age=\"6\"` will work, but makes it a string!\n",
    "\n",
    "#### Double bracket notation\n",
    "A variant on single bracket variable notation for numeric variables:"
   ]
  },
  {
   "cell_type": "code",
   "execution_count": 15,
   "metadata": {},
   "outputs": [
    {
     "name": "stdout",
     "output_type": "stream",
     "text": [
      "12\r\n"
     ]
    }
   ],
   "source": [
    "! expr 5 + 7"
   ]
  },
  {
   "cell_type": "code",
   "execution_count": 16,
   "metadata": {},
   "outputs": [
    {
     "name": "stdout",
     "output_type": "stream",
     "text": [
      "12\r\n"
     ]
    }
   ],
   "source": [
    "! echo $((5 + 7))"
   ]
  },
  {
   "cell_type": "markdown",
   "metadata": {},
   "source": [
    "Beware this method uses `expr`, not `bc` (no decimals!)\n",
    "\n",
    "#### Shell within a shell revisited\n",
    "Remember how we called out to the shell in the previous lesson?\n",
    "\n",
    "Very useful for numeric variables:"
   ]
  },
  {
   "cell_type": "code",
   "execution_count": null,
   "metadata": {},
   "outputs": [],
   "source": [
    "model1=87.65\n",
    "model2=89.20\n",
    "echo \"The total score is $(echo \"$model1 + $model2\" | bc)\"\n",
    "echo \"The average score is $(echo \"($model1 + $model2) / 2\" | bc)\""
   ]
  },
  {
   "cell_type": "markdown",
   "metadata": {},
   "source": [
    "### Arrays in Bash\n",
    "\n",
    "#### What is an array?\n",
    "Two types of arrays in Bash:\n",
    "* An array\n",
    "    * 'Normal' numerical-indexed structure\n",
    "    * Called a 'list' in Python or 'vector' in R\n",
    "    \n",
    "#### Creating an array in Bash\n",
    "Creation of a numerical-indexed can be done in two ways in Bash.\n",
    "\n",
    "1. Declare without adding elements"
   ]
  },
  {
   "cell_type": "code",
   "execution_count": null,
   "metadata": {},
   "outputs": [],
   "source": [
    "declare -a my_first_array"
   ]
  },
  {
   "cell_type": "markdown",
   "metadata": {},
   "source": [
    "2. Create an add elements at the same time"
   ]
  },
  {
   "cell_type": "code",
   "execution_count": null,
   "metadata": {},
   "outputs": [],
   "source": [
    "my_first_array=(1 2 3)"
   ]
  },
  {
   "cell_type": "markdown",
   "metadata": {},
   "source": [
    "Remember - no spaces around equlas sign!\n",
    "\n",
    "#### Be careful of commas!\n",
    "Commas are not used to separate array elements in Bash.\n",
    "\n",
    "#### Important array properties\n",
    "* All array elements can be returns using `array[@]`. Though do note, Bash requires curly brackets around the array name when you want to access these properties."
   ]
  },
  {
   "cell_type": "code",
   "execution_count": null,
   "metadata": {},
   "outputs": [],
   "source": [
    "my_array=(1 3 5 2)\n",
    "echo ${my_array[@]}"
   ]
  },
  {
   "cell_type": "markdown",
   "metadata": {},
   "source": [
    "* The length of an array is accessed using `#array[@]`"
   ]
  },
  {
   "cell_type": "code",
   "execution_count": null,
   "metadata": {},
   "outputs": [],
   "source": [
    "echo ${#my_array[@]}"
   ]
  },
  {
   "cell_type": "markdown",
   "metadata": {},
   "source": [
    "#### Manipulating array elements\n",
    "Accessing array elements using square brackets."
   ]
  },
  {
   "cell_type": "code",
   "execution_count": null,
   "metadata": {},
   "outputs": [],
   "source": [
    "my_first_array=(15 20 300 42)\n",
    "echo ${my_first_array[2]}\n",
    "# ------------\n",
    "# 300"
   ]
  },
  {
   "cell_type": "markdown",
   "metadata": {},
   "source": [
    "* Remember: Bash uses zero-indexing for arrays like Python (but unlike R!)\n",
    "\n",
    "Set array elements using the index notation"
   ]
  },
  {
   "cell_type": "code",
   "execution_count": null,
   "metadata": {},
   "outputs": [],
   "source": [
    "my_first_array=(15 20 300 42 23 2 4 33 54 67 66)\n",
    "my_first_array[0]=999\n",
    "echo ${my_first_array[0]}\n",
    "# -------------\n",
    "# 999"
   ]
  },
  {
   "cell_type": "markdown",
   "metadata": {},
   "source": [
    "* Remember: don't use the `$` when overwriting an index such as `$my_first_array[0]=999`, as this will not work.\n",
    "\n",
    "Use the notation `array[@]:N:M to 'slice' out a subset of the array.\n",
    "* Here `N` is the starting index and `M` is how many elements to return."
   ]
  },
  {
   "cell_type": "code",
   "execution_count": null,
   "metadata": {},
   "outputs": [],
   "source": [
    "my_first_array=(15 20 300 42 23 2 4 33 54 67 66)\n",
    "echo ${my_first_array[@]:3:2}\n",
    "# -------------\n",
    "# 42 34"
   ]
  },
  {
   "cell_type": "markdown",
   "metadata": {},
   "source": [
    "#### Appending to arrays\n",
    "Append to an array using `array+=(elements)`.\n",
    "\n",
    "For example:"
   ]
  },
  {
   "cell_type": "code",
   "execution_count": null,
   "metadata": {},
   "outputs": [],
   "source": [
    "my_array=(300 42 23 2 4 33 53 67 66)\n",
    "my_array+=(10)\n",
    "echo ${my_array[@]}\n",
    "# ------------\n",
    "# 300 42 23 2 4 33 53 67 66 10"
   ]
  },
  {
   "cell_type": "markdown",
   "metadata": {},
   "source": [
    "#### (Not) appending to arrays\n",
    "What happens if you do not add parentheses around what you want to append? Let's see.\n",
    "\n",
    "For example:"
   ]
  },
  {
   "cell_type": "code",
   "execution_count": null,
   "metadata": {},
   "outputs": [],
   "source": [
    "my_array=(300 42 23 2 4 33 53 67 66)\n",
    "my_array+=10\n",
    "echo ${my_array[@]}\n",
    "# ------------\n",
    "# 30010 42 23 2 4 33 53 67 66"
   ]
  },
  {
   "cell_type": "markdown",
   "metadata": {},
   "source": [
    "#### Associative arrays\n",
    "* An **associative** array\n",
    "    * Similar to a normal array, bu with key-value pairs, not numerical indexes\n",
    "    * Similar to Python's dictionary or R's list\n",
    "    * Note: This is only available in Bash 4 onwards. Some modern macs have old Bash! Check with `bash --version` in terminal\n",
    "    \n",
    "#### Creating an associative array\n",
    "You can only create an associative array using the declare syntax (and uppercase `-A`).\n",
    "\n",
    "You can either declare first, then add element or do it all on one line.\n",
    "* Surround 'keys' in square brackets, then associate a value after the equals sign.\n",
    "    * You may add multiple elements at once.\n",
    "    \n",
    "#### Associative array example\n",
    "Let's make an associative array:"
   ]
  },
  {
   "cell_type": "code",
   "execution_count": null,
   "metadata": {},
   "outputs": [],
   "source": [
    "declare -A city_details # Declaire first\n",
    "city_detaisl=([city_name])=\"New York\" [population]140000000) # Add elements\n",
    "echo ${city_details[city_name]} # Index using key to return a value\n",
    "# --------------\n",
    "# New York"
   ]
  },
  {
   "cell_type": "markdown",
   "metadata": {},
   "source": [
    "#### Creating an associative array\n",
    "Alternatively, creat an associative array and assing in one line\n",
    "* Everything else is the same"
   ]
  },
  {
   "cell_type": "code",
   "execution_count": null,
   "metadata": {},
   "outputs": [],
   "source": [
    "declare -A city_details=([city_name]=\"New York\" [population]=1400000)"
   ]
  },
  {
   "cell_type": "markdown",
   "metadata": {},
   "source": [
    "Access the 'keys' of an associative array with an `!`"
   ]
  },
  {
   "cell_type": "code",
   "execution_count": null,
   "metadata": {},
   "outputs": [],
   "source": [
    "echo ${!city_details[@]} # Return all the keys\n",
    "# ---------------\n",
    "# city_name city_size"
   ]
  },
  {
   "cell_type": "markdown",
   "metadata": {},
   "source": [
    "## Chapter 3: Control Statements in Bash Scripting\n",
    "\n",
    "### IF statements\n",
    "\n",
    "#### A basic IF statement\n",
    "A basic IF statement in Bash has the following structure:"
   ]
  },
  {
   "cell_type": "code",
   "execution_count": null,
   "metadata": {},
   "outputs": [],
   "source": [
    "if [ CONDITION ]; THEN\n",
    "    # SOME CODE\n",
    "else\n",
    "    # SOME OTHER CODE\n",
    "fi"
   ]
  },
  {
   "cell_type": "markdown",
   "metadata": {},
   "source": [
    "Two Tips:\n",
    "* Spaces between square brackets and conditional elements inside (first line)\n",
    "* Semi-colon after close-bracket `];`\n",
    "\n",
    "#### IF statement and strings\n",
    "We could do a basic comparison in an IF statment:"
   ]
  },
  {
   "cell_type": "code",
   "execution_count": null,
   "metadata": {},
   "outputs": [],
   "source": [
    "x=\"Queen\"\n",
    "if [ $x == \"King\" ]; then\n",
    "    echo \"$x is a King!\"\n",
    "else\n",
    "    echo \"$x is nto a King!\"\n",
    "fi"
   ]
  },
  {
   "cell_type": "markdown",
   "metadata": {},
   "source": [
    "#### Arithmetic IF statements (option 1)\n",
    "Arithmetic IF statements cas use the double-parenthesis structure:"
   ]
  },
  {
   "cell_type": "code",
   "execution_count": null,
   "metadata": {},
   "outputs": [],
   "source": [
    "x=10\n",
    "if (($x > 5)); then\n",
    "    echo \"$x is more than 5!\"\n",
    "fi"
   ]
  },
  {
   "cell_type": "markdown",
   "metadata": {},
   "source": [
    "#### Arithmetic IF statements (option 2)\n",
    "Arithmetic IF statements can also use square brackets and arithemtic flag rather than ( `>`, `<`, `=`, `!=` etc.):\n",
    "* `-eq` for 'equal to'\n",
    "* `-ne` for 'not equal to'\n",
    "* `-lt` for 'less than'\n",
    "* `-le` for 'less than or equal to'\n",
    "* `-gt` for 'greater than'\n",
    "* `-ge` for 'greater than or equal to'\n",
    "\n",
    "#### Arithmetic IF statement example\n",
    "Here we re-create the last example using square bracket notation:"
   ]
  },
  {
   "cell_type": "code",
   "execution_count": null,
   "metadata": {},
   "outputs": [],
   "source": [
    "x=10\n",
    "if [ $x -gt 5]; then\n",
    "    echo \"$x is more than 5!\"\n",
    "fi"
   ]
  },
  {
   "cell_type": "markdown",
   "metadata": {},
   "source": [
    "#### Other Bash conditional flags\n",
    "Bash also comes with a variety of file-related flags such as:\n",
    "* `-e` if the file exists\n",
    "* `-s` if the file exists and has size greater than zero\n",
    "* `-r` if the file exists and is readable\n",
    "* `-w` if the file exists and is writable\n",
    "\n",
    "#### Using AND and OR in Bash\n",
    "To combine conditions (AND) or use an OR statement in Bash you can use the following symbols:\n",
    "* `&&` for AND\n",
    "* `||` for OR\n",
    "\n",
    "#### Multiple conditions\n",
    "In Bash you can either chain conditionals as follows:"
   ]
  },
  {
   "cell_type": "code",
   "execution_count": null,
   "metadata": {},
   "outputs": [],
   "source": [
    "x=10 if [ $x -gt 5 ] && [$x -lt 11 ]; then\n",
    "    echo \"$x is more than 5 and less than 11!\"\n",
    "fi"
   ]
  },
  {
   "cell_type": "markdown",
   "metadata": {},
   "source": [
    "Or use double-square-bracket notation:"
   ]
  },
  {
   "cell_type": "code",
   "execution_count": null,
   "metadata": {},
   "outputs": [],
   "source": [
    "x=1-\n",
    "if [[ $x -gt 5 && $x -lt 11 ]]; then\n",
    "    echo \"$x is more than 5 and less than 11!\"\n",
    "fi"
   ]
  },
  {
   "cell_type": "markdown",
   "metadata": {},
   "source": [
    "#### IF and commmand-line programs\n",
    "You can also use many command-line programs directly in the conditional, removing the square brackets.\n",
    "\n",
    "For exampl,e if the file `words.txt` has 'Hello World!' inside:"
   ]
  },
  {
   "cell_type": "code",
   "execution_count": null,
   "metadata": {},
   "outputs": [],
   "source": [
    "if grep -q 'Hello' words.txt; then\n",
    "    echo \"Hello is inside!\"\n",
    "fi"
   ]
  },
  {
   "cell_type": "markdown",
   "metadata": {},
   "source": [
    "#### IF with shell-within-a-shell\n",
    "Or you can call a shell-within-a-shell as well for your conditional.\n",
    "\n",
    "Let's rewrite the last example, which will product the same result."
   ]
  },
  {
   "cell_type": "code",
   "execution_count": null,
   "metadata": {},
   "outputs": [],
   "source": [
    "if $(grep -q 'Hello' words.txt); then\n",
    "    echo \"Hello is inside!\"\n",
    "fi"
   ]
  },
  {
   "cell_type": "markdown",
   "metadata": {},
   "source": [
    "### FOR loops & WHILE statements\n",
    "#### FOR Loop in Bash\n",
    "The basic structure in Bash is similar as in R or Python:"
   ]
  },
  {
   "cell_type": "code",
   "execution_count": null,
   "metadata": {},
   "outputs": [],
   "source": [
    "for x in 1 2 3\n",
    "do\n",
    "    echo $x\n",
    "done"
   ]
  },
  {
   "cell_type": "markdown",
   "metadata": {},
   "source": [
    "#### FOR loop number ranges\n",
    "Bash has a sneat way to create a numeric reange called 'brace expansion':\n",
    "    * `{START..STOP..INCREMENT}`"
   ]
  },
  {
   "cell_type": "code",
   "execution_count": null,
   "metadata": {},
   "outputs": [],
   "source": [
    "for x in {1..5..2}\n",
    "do\n",
    "    echo $x\n",
    "done"
   ]
  },
  {
   "cell_type": "markdown",
   "metadata": {},
   "source": [
    "#### FOR loop three expression syntax\n",
    "Another common way to write FOR loops is the 'three expression' syntax.\n",
    "* Surround three expressions with ouble parenthesis\n",
    "* The first part is the start expression (`x=2`)\n",
    "* The middle part is the terminating condition (`x<=4`)\n",
    "* The end part is the increment (or decrement) expression (`x+=2`)\n",
    "\n",
    "#### Glob expansions\n",
    "Bash also allows pattern-matching expansions into a for loop using the `*` symbol such as files in a directory.\n",
    "\n",
    "For example, assume there are two text documents in the folder `/books`:"
   ]
  },
  {
   "cell_type": "code",
   "execution_count": null,
   "metadata": {},
   "outputs": [],
   "source": [
    "for book in books/*\n",
    "do\n",
    "    echo $book\n",
    "done"
   ]
  },
  {
   "cell_type": "markdown",
   "metadata": {},
   "source": [
    "#### Shell-within-a-shell revisited\n",
    "Remember creating a shell-within-a-shell using `$()` notation?\n",
    "You can call in-place for a for loop!\n",
    "Let's assume a folder structure like so:\n",
    "\n",
    "books/\n",
    "\n",
    "|--- AirportBook.txt\n",
    "\n",
    "|--- CattleBook.txt\n",
    "\n",
    "|--- FiarMarketBook.txt\n",
    "\n",
    "|--- LOTR.txt\n",
    "\n",
    "|--- file.csv\n",
    "\n",
    "#### Shell-within-a-shell to FOR loop\n",
    "We could loop through the result of a call to shell-within-a-shell:"
   ]
  },
  {
   "cell_type": "code",
   "execution_count": null,
   "metadata": {},
   "outputs": [],
   "source": [
    "for book in $(ls books/ | grep -u 'air')\n",
    "do\n",
    "    echo $book\n",
    "done"
   ]
  },
  {
   "cell_type": "markdown",
   "metadata": {},
   "source": [
    "#### WHILE statement syntax\n",
    "Similar to a FOR loop. Except you set a condition which is tested at each iteration.\n",
    "\n",
    "Iterations condinue until this is no longer met!\n",
    "* Use the word `while` instaed of `for`\n",
    "* Surround the condtion in square brackets\n",
    "    * Use of same flags for numerical comparison from IF statemetns (such as `-le`)\n",
    "* Mulitple conditions can be chained or use double-brackets just like 'IF' statements along with `&&` (AND) or `||` (OR)\n",
    "* Ensure there is a chance inside the code that will trigger a stop (else you may have an infinite loop!)\n",
    "\n",
    "#### WHILE statemetn example\n",
    "Here is a simple example:"
   ]
  },
  {
   "cell_type": "code",
   "execution_count": null,
   "metadata": {},
   "outputs": [],
   "source": [
    "x=1\n",
    "while [ $x -le 3 ];\n",
    "do\n",
    "    echo $x\n",
    "    ((x+=1))\n",
    "done"
   ]
  },
  {
   "cell_type": "markdown",
   "metadata": {},
   "source": [
    "#### Beware the infinite loop\n",
    "Bewrare the infinite WHILE loop, if the braek condition is never met."
   ]
  },
  {
   "cell_type": "code",
   "execution_count": null,
   "metadata": {},
   "outputs": [],
   "source": [
    "x=1\n",
    "while [ $x -le 3 ];\n",
    "do\n",
    "    echo $x\n",
    "    # don't increment x. It never reaches 3!\n",
    "    # ((x+=1))\n",
    "done"
   ]
  },
  {
   "cell_type": "markdown",
   "metadata": {},
   "source": [
    "### CASE statements\n",
    "\n",
    "#### The need to CASE statements\n",
    "Case statements can be more optimal than IF statements when you have multiple or complex conditionals.\n",
    "\n",
    "Let's say you wanted to test the following condtions and actions:\n",
    "* If a file contains `sydney`  the move it to the `/sydney` directory\n",
    "* If a file contains `melbourne` or `brisbane` then delete it\n",
    "* If a file contains `canberra` then rename it ot `IMPORTANT_filename` where `filename` was the original filename\n",
    "\n",
    "#### A complex IF statement\n",
    "You could construct multiple IF statements like so:\n",
    "* This code calls `grep` on the first ARGV argument for the conditional."
   ]
  },
  {
   "cell_type": "code",
   "execution_count": null,
   "metadata": {},
   "outputs": [],
   "source": [
    "if grep -q 'sydney' $1; then\n",
    "    mv $1 syndey/\n",
    "fi\n",
    "if grep =q 'melbourne|brisbane' $1; then\n",
    "    rm $1\n",
    "fi\n",
    "if grep -q 'canberra' $1; then\n",
    "    mv $1 \"IMPORTANT_$1\"\n",
    "fi"
   ]
  },
  {
   "cell_type": "markdown",
   "metadata": {},
   "source": [
    "* Seems complex and repetitious"
   ]
  },
  {
   "cell_type": "markdown",
   "metadata": {},
   "source": [
    "#### Build a CASE statement\n",
    "* Begin by selecting which variable to string to match against\n",
    "    * You could call shell-within-a-shell here!\n",
    "* Add as many possible matches & actions as you like\n",
    "    * You can use regex fo the `PATTERN`. Such as `Air*` for 'starts with Air' or `*hat*` for 'contains hat'.\n",
    "* Ensure to separate the pattern and code to run by a close-parenthesis and finish commands with double semi-colon\n",
    "* `*) DEFAULT COMMAND;;`\n",
    "    * It is common (but not required) to finish wiht a default command that runs if none of the other patterns match.\n",
    "* `esac` Finally, the finishing word is 'esac' \n",
    "    * This is 'case' spelled backwards!\n",
    "\n",
    "Basic CASE statement format:"
   ]
  },
  {
   "cell_type": "code",
   "execution_count": null,
   "metadata": {},
   "outputs": [],
   "source": [
    "case 'STRING' in\n",
    "    PATTERN1)\n",
    "    COMMAND1;;\n",
    "    PATTERN2)\n",
    "    COMMAND2;;\n",
    "    *)\n",
    "    DEFAULT COMMAND;;\n",
    "esac"
   ]
  },
  {
   "cell_type": "markdown",
   "metadata": {},
   "source": [
    "#### From IF to CASE"
   ]
  },
  {
   "cell_type": "code",
   "execution_count": null,
   "metadata": {},
   "outputs": [],
   "source": [
    "case $(cat $1) in\n",
    "    *sydney*)\n",
    "    mv $1 syndey/ ;;\n",
    "    *melbourne*|*brisbane*)\n",
    "    rm $1 ;;\n",
    "    mv $1 \"IMPORTANT_$1\" ;;\n",
    "    *)\n",
    "    echo \"No cities found\" ;;\n",
    "esac"
   ]
  },
  {
   "cell_type": "markdown",
   "metadata": {},
   "source": [
    "## Chapter 4: Functions and Automation\n",
    "\n",
    "### Basic functions in Bash\n",
    "\n",
    "#### Why functions?\n",
    "If you have used them in R or Python then you are familiar with these advantages:\n",
    "1. Functions are resusable\n",
    "2. Functions allow neat, compartmetnalized (modular) code)\n",
    "3. Functions aid sharing code (you only need to know inputs and outputs to use!)\n",
    "\n",
    "#### Bash funciton anatomy\n",
    "\n",
    "Let's break down the function syntax:\n",
    "* Start by naming the function. This is used to all it later.\n",
    "    * Make sure it is sensible!\n",
    "* Add open and close parenthesis after the function name\n",
    "* Add the code inside the curly brackets. You can use anything you have learned so far (loops, IF, shell-within-a-shell etc)!\n",
    "* Optionally return something (beware! This is not as it seems)\n",
    "\n",
    "A Bash function has the following syntax:"
   ]
  },
  {
   "cell_type": "code",
   "execution_count": null,
   "metadata": {},
   "outputs": [],
   "source": [
    "function_name () {\n",
    "    #function_code\n",
    "    return #something\n",
    "}"
   ]
  },
  {
   "cell_type": "markdown",
   "metadata": {},
   "source": [
    "#### Alternate Bash function structure\n",
    "You can also create a function like so:"
   ]
  },
  {
   "cell_type": "code",
   "execution_count": null,
   "metadata": {},
   "outputs": [],
   "source": [
    "function function_name {\n",
    "    #function_code\n",
    "    return #something\n",
    "}"
   ]
  },
  {
   "cell_type": "markdown",
   "metadata": {},
   "source": [
    "The main differences:\n",
    "* Use the word `function` to denote starting a function build\n",
    "* You can drop the parenthesis on the opening line if you like, though may people keep them by convention\n",
    "\n",
    "#### Calling a Bash function\n",
    "Calling a Bash function is simply writing the name:"
   ]
  },
  {
   "cell_type": "code",
   "execution_count": null,
   "metadata": {},
   "outputs": [],
   "source": [
    "function print_hello () {\n",
    "    echo \"Hello world!\"\n",
    "}\n",
    "print_hello # here we call the function"
   ]
  },
  {
   "cell_type": "markdown",
   "metadata": {},
   "source": [
    "#### Fahrenheit to Celsius Bash function\n",
    "Let's write a function to convert Fahrenheit to Celsuis like you did in a previou lession, using a statitc variable."
   ]
  },
  {
   "cell_type": "code",
   "execution_count": null,
   "metadata": {},
   "outputs": [],
   "source": [
    "temp_f=30\n",
    "function convert_temp () {\n",
    "    temp_c=$(echo \"scale=2; ($temp_f - 32) * 5 / 9\" | bc)\n",
    "    echo $temp_c\n",
    "}\n",
    "convert_temp # call the functoin"
   ]
  },
  {
   "cell_type": "markdown",
   "metadata": {},
   "source": [
    "### Arguments, return values, and scope\n",
    "\n",
    "#### Passing arguments into Bash functions\n",
    "Passing arguments into function is similar to how you pass arguments into a script. Using the `$1` notation.\n",
    "\n",
    "You also have access to the special `ARGV` properties we previously covered:\n",
    "* Each argument can be accessed via the `$1`, `$2` notation.\n",
    "* `$@` and `$*` give all the arguments in the `ARGV`\n",
    "* `$#` gives the length (number of arguments)\n",
    "\n",
    "#### Passing arguments example\n",
    "Let's pass some file names as argumentsinto a function to demonstrate. We will loop through them and print them out."
   ]
  },
  {
   "cell_type": "code",
   "execution_count": null,
   "metadata": {},
   "outputs": [],
   "source": [
    "function print_filename {\n",
    "    echo \"The first file was $1\"\n",
    "    for file in $@\n",
    "    do \n",
    "        echo \"This file has name $file\"\n",
    "    done\n",
    "}\n",
    "print_filename \"LOTR.txt\" \"mod.txt\" \"A.py\""
   ]
  },
  {
   "cell_type": "markdown",
   "metadata": {},
   "source": [
    "#### Scope in programming\n",
    "'Scope' in programming refers to how accessible a variable is.\n",
    "* 'Global' means something is accessible anywhere in the program, including inside FOR loops, IF statements, functions etc\n",
    "* 'Local' means something is only accessible in a certain part of the program.\n",
    "\n",
    "Why does this matter? If you try and access something that only has local scope - your program may fail with an error!\n",
    "\n",
    "#### Scope in Bash functions\n",
    "Unlike most programming languages (eg. Python and R), all variables in Bash are global by default."
   ]
  },
  {
   "cell_type": "code",
   "execution_count": null,
   "metadata": {},
   "outputs": [],
   "source": [
    "function print_filename {\n",
    "    first_filename=$1\n",
    "}\n",
    "print_filename \"LOTR.txt\" \"model.txt\"\n",
    "echo $first_filename"
   ]
  },
  {
   "cell_type": "markdown",
   "metadata": {},
   "source": [
    "Beware global scope may be dangerous as there is more risk of something unintended happening.\n",
    "\n",
    "#### Restricting scope in Bash functions\n",
    "You can use the `local` keyword to restrict variable scope."
   ]
  },
  {
   "cell_type": "code",
   "execution_count": null,
   "metadata": {},
   "outputs": [],
   "source": [
    "function print_filename {\n",
    "    local first_filename=$1\n",
    "}\n",
    "echo $first_filename"
   ]
  },
  {
   "cell_type": "markdown",
   "metadata": {},
   "source": [
    "Q: Why wasn't there an error, just a blank line?\n",
    "\n",
    "Answer: `first_filename` got assigned to the **global** first ARGV element (`$1`).\n",
    "\n",
    "I ran the script with no arguments (`bash script.sh`) so this defaults to a blank element. So be careful!\n",
    "\n",
    "#### Return values\n",
    "We know how to get arguments in -how about getting them out?\n",
    "\n",
    "The `return` option in Bash is only meant to determine if the function was a success (0) or failure (other values 1-255). It is captured in the global variable `$?`\n",
    "\n",
    "Our options are:\n",
    "1. Assign to a global variable\n",
    "2. `echo` what we want back (**last line** in function) and captuer using shell-within-a-shell\n",
    "\n",
    "#### A return error\n",
    "Let's see a return error:"
   ]
  },
  {
   "cell_type": "code",
   "execution_count": null,
   "metadata": {},
   "outputs": [],
   "source": [
    "function function_2 {\n",
    "    echlo # An error of 'echo'\n",
    "}\n",
    "function_2 # Call the function\n",
    "echo $? # Print the return value"
   ]
  },
  {
   "cell_type": "markdown",
   "metadata": {},
   "source": [
    "What happened?\n",
    "1. There was an error when we called the function\n",
    "    * The script tried to find 'echlo' as a program but it didn't exist\n",
    "2. The return value in `$?` was 127 (error)\n",
    "\n",
    "#### Returning correctly\n",
    "Let's correctly return a value to be used elsewhere in our script using `echo` and shell-within-a-shell capture:"
   ]
  },
  {
   "cell_type": "code",
   "execution_count": null,
   "metadata": {},
   "outputs": [],
   "source": [
    "funciton convert_temp {\n",
    "    echo $(echo \"scale=2 ($1 - 32) * 5 / 9\" | bc)\n",
    "}\n",
    "converted=$(convert_temp 30)\n",
    "echo \"30F in Celsius is $converted C\""
   ]
  },
  {
   "cell_type": "markdown",
   "metadata": {},
   "source": [
    "* See how we no longer create the intermediary variable?"
   ]
  },
  {
   "cell_type": "markdown",
   "metadata": {},
   "source": [
    "### Scheduling your scripts with Cron\n",
    "\n",
    "#### Why schedule scripts?\n",
    "There are many situations where scheduling scripts can be useful:\n",
    "1. Regular tasks that need to be done. Perhaps daily, weekly, multiple times per day.\n",
    "    * You could set yourself a calendar-reminder, but what if you forget1?\n",
    "2. Optimal use of resrouces (running scripts in early hours of morning)\n",
    "\n",
    "Scheduling scripts with `cron` is essential to a working knowledge of modern data infrastructures.\n",
    "\n",
    "#### What is cron?\n",
    "Cron has been part of unix-like systems since the 70's.\n",
    "\n",
    "The name comes from the Greek word for time, *chronos*.\n",
    "\n",
    "It is driven by something called a `crontab`, which is a file that contains `cronjobs`, which each tell `crontab` what code to run and when.\n",
    "\n",
    "#### Crontab - the driver of cronjobs\n",
    "You can see what schedules (`cronjobs`) are currently programmed using the following command:"
   ]
  },
  {
   "cell_type": "code",
   "execution_count": null,
   "metadata": {},
   "outputs": [],
   "source": [
    "crontab -l"
   ]
  },
  {
   "cell_type": "markdown",
   "metadata": {},
   "source": [
    "#### Crontab and cronjob structure\n",
    "This great image from Wikipedia demonstrates how you construct a `cronjob` inside the `crontab` file. You can have many `cronjobs`, one per line.\n",
    "* There are 5 stars to set, one for each time unit\n",
    "* The default, `*` means 'every'\n",
    "\n",
    "#### Cronjob example\n",
    "Let's walk through some cronjob examples:\n",
    "` 5 1 * * * bash myscript.sh`\n",
    "* Minutes star is 5 (5 minutes past the hour). Hours star is 1 (after 1am). The last three are `*`, so every day and month.\n",
    "    * Overall: **run everyday at 1:05am.**\n",
    "    \n",
    "`15 14 * * 7 bash myscript.sh`\n",
    "* Minutes star is 15 (15 minutes past the hour)> Hours star is 14 (after 2pm). Next two are `*` (Every day of the month, every month of year). Last star is day 7 (on Sundays).\n",
    "    * Overall: **run at 2:15pm every Sunday.**\n",
    "    \n",
    "#### Advanced cronjob structure\n",
    "If you wanted to run something multiple times per day or every 'X' time increments this is also possible:\n",
    "* Use a comma for specific intervals. For example:\n",
    "    * `15,30,45 * * * *` will run at the 15, 30, 45 minutes mark for whatever hours are specific by the second star. Here it is every hour, every day etc.\n",
    "* Use a slash for 'every X increment'. For example:\n",
    "    * `*/15 * * * *` runs every 15 minutes. Also for every hour, day etc.\n",
    "    \n",
    "#### Your first cronjob\n",
    "Let's scehdule a script called `extract_data.sh` to run every morning at 1:30am. Your steps are as follows:\n",
    "1. In terminal type `crontab -e` to edit your list of cronjobs.\n",
    "    * It may ask what editor you want to use. `nano` is an easy option and a less-steep learning curve thatn vi (vim).\n",
    "2. Create the cronjob:\n",
    "    * `30 1 * * * extract_data.sh`\n",
    "3. Exist the editor to save it\n",
    "\n",
    "If this was using `nano` (on Mac) you would use `ctrl` + `o` then `enter` then `ctrl` + `x` to exit.\n",
    "\n",
    "You will see a message `crontab: installing new crontab`\n",
    "\n",
    "4. Check it is there by running `crontab -l`."
   ]
  },
  {
   "cell_type": "code",
   "execution_count": null,
   "metadata": {},
   "outputs": [],
   "source": []
  }
 ],
 "metadata": {
  "kernelspec": {
   "display_name": "venv_python_toolkit",
   "language": "python",
   "name": "venv_python_toolkit"
  },
  "language_info": {
   "codemirror_mode": {
    "name": "ipython",
    "version": 3
   },
   "file_extension": ".py",
   "mimetype": "text/x-python",
   "name": "python",
   "nbconvert_exporter": "python",
   "pygments_lexer": "ipython3",
   "version": "3.6.0"
  }
 },
 "nbformat": 4,
 "nbformat_minor": 2
}
